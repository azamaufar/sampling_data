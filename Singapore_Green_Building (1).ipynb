{
  "nbformat": 4,
  "nbformat_minor": 0,
  "metadata": {
    "colab": {
      "provenance": []
    },
    "kernelspec": {
      "name": "python3",
      "display_name": "Python 3"
    },
    "language_info": {
      "name": "python"
    }
  },
  "cells": [
    {
      "cell_type": "markdown",
      "source": [
        "# About the Green Building Masterplan at Singapore"
      ],
      "metadata": {
        "id": "T0UiLrE62Y79"
      }
    },
    {
      "cell_type": "markdown",
      "source": [
        "Pada 2005, Building Construction Authority (BCA) Singapore meluncurkan skema yang menjadi landasan Green Building Masterplan yang mendorong para stakeholder di industri untuk mengadopsi konsep green building. Masterplan Green Building yang pertama kali diluncurkan pada 2006 juga telah mengalami beberapa kali pembaruan sejak pertama kali diluncurkan. Pada mulanya ditargetkan untuk bangunan baru, untuk mendiring para pengembang menerapkan konsep berkelanjutan pada keseluruhan life-cyclenya sejak awal. Seiringan dengan industri yang mulai mengedepankan aspek keberlanjutan pada bangunan, BCA memperlebar targetnya mencakup bangunan-bangunan eksisting dan mengajak para penghuni bangunan untuk mengubah perilaku konsumsi energinya menjadi lebih hemat. Targetnya adalah minimal 80% bangunan (dihitung dari luas lantainya) di Singapore telah termasuk green building pada 2030.\n",
        "\n",
        "Source : [Green Building Masterplans](https://www1.bca.gov.sg/buildsg/sustainability/green-building-masterplans)"
      ],
      "metadata": {
        "id": "Dy4168JNyfVV"
      }
    },
    {
      "cell_type": "markdown",
      "source": [
        "# Main Point"
      ],
      "metadata": {
        "id": "X-NsIA6f2eUv"
      }
    },
    {
      "cell_type": "markdown",
      "source": [
        "Untuk melihat pekembangan terkini dari status green building pada bangunan-bangunan di Singapura"
      ],
      "metadata": {
        "id": "IEELePJO2fXf"
      }
    },
    {
      "cell_type": "markdown",
      "source": [
        "# Import library and data"
      ],
      "metadata": {
        "id": "yvnai42a2n5v"
      }
    },
    {
      "cell_type": "code",
      "execution_count": null,
      "metadata": {
        "id": "Py3q1vq8ljTv"
      },
      "outputs": [],
      "source": [
        "import numpy as np\n",
        "import pandas as pd\n",
        "import matplotlib.pyplot as plt\n",
        "import seaborn as sns\n",
        "import plotly.express as px\n",
        "import plotly.graph_objects as go\n",
        "%matplotlib inline"
      ]
    },
    {
      "cell_type": "code",
      "source": [
        "#Import and check data\n",
        "from google.colab import drive\n",
        "drive.mount('/content/drive')"
      ],
      "metadata": {
        "colab": {
          "base_uri": "https://localhost:8080/"
        },
        "id": "eCv0-b_umAde",
        "outputId": "c0e52993-e9b7-4e89-afc7-a5ff6283b0bc"
      },
      "execution_count": null,
      "outputs": [
        {
          "output_type": "stream",
          "name": "stdout",
          "text": [
            "Mounted at /content/drive\n"
          ]
        }
      ]
    },
    {
      "cell_type": "code",
      "source": [
        "PATH = '/content/drive/MyDrive/listing-of-building-energy-performance-data-for-commercial-buildings.csv'"
      ],
      "metadata": {
        "id": "GqJbES5vmBF_"
      },
      "execution_count": null,
      "outputs": []
    },
    {
      "cell_type": "code",
      "source": [
        "df = pd.read_csv(PATH)\n",
        "df.head()"
      ],
      "metadata": {
        "colab": {
          "base_uri": "https://localhost:8080/",
          "height": 478
        },
        "id": "GSto38MUmpYB",
        "outputId": "b8d515a8-79d7-4490-e12c-7b5d7b69436c"
      },
      "execution_count": null,
      "outputs": [
        {
          "output_type": "execute_result",
          "data": {
            "text/plain": [
              "       buildingname                       buildingaddress       buildingtype  \\\n",
              "0          HEXACUBE     160 CHANGI ROAD, SINGAPORE 419728  Mixed Development   \n",
              "1               NaN                                   NaN             Retail   \n",
              "2  CITY SQUARE MALL  180 KITCHENER ROAD, SINGAPORE 208539             Retail   \n",
              "3    REPUBLIC PLAZA     9 RAFFLES PLACE, SINGAPORE 048619             Office   \n",
              "4      CENTRAL MALL     1 MAGAZINE ROAD, SINGAPORE 059567             Office   \n",
              "\n",
              "  greenmarkstatus greenmarkrating  greenmarkyearaward buildingsize  \\\n",
              "0              No             NaN                 NaN        Small   \n",
              "1              No             NaN                 NaN        Small   \n",
              "2             Yes        Platinum              2018.0        Large   \n",
              "3             Yes        Platinum              2018.0        Large   \n",
              "4             Yes        Platinum              2017.0        Large   \n",
              "\n",
              "  grossfloorarea  2017energyuseintensity  2018energyusintensity  \\\n",
              "0          5,036                    81.0                  105.0   \n",
              "1            NaN                   475.0                  402.0   \n",
              "2         65,640                   382.0                  365.0   \n",
              "3        102,356                   212.0                  183.0   \n",
              "4         15,769                   203.0                  181.0   \n",
              "\n",
              "  voluntarydisclosure  \n",
              "0                   Y  \n",
              "1                   N  \n",
              "2                   Y  \n",
              "3                   Y  \n",
              "4                   Y  "
            ],
            "text/html": [
              "\n",
              "  <div id=\"df-4ed59c66-45e9-4bb6-9607-68cf6480b105\">\n",
              "    <div class=\"colab-df-container\">\n",
              "      <div>\n",
              "<style scoped>\n",
              "    .dataframe tbody tr th:only-of-type {\n",
              "        vertical-align: middle;\n",
              "    }\n",
              "\n",
              "    .dataframe tbody tr th {\n",
              "        vertical-align: top;\n",
              "    }\n",
              "\n",
              "    .dataframe thead th {\n",
              "        text-align: right;\n",
              "    }\n",
              "</style>\n",
              "<table border=\"1\" class=\"dataframe\">\n",
              "  <thead>\n",
              "    <tr style=\"text-align: right;\">\n",
              "      <th></th>\n",
              "      <th>buildingname</th>\n",
              "      <th>buildingaddress</th>\n",
              "      <th>buildingtype</th>\n",
              "      <th>greenmarkstatus</th>\n",
              "      <th>greenmarkrating</th>\n",
              "      <th>greenmarkyearaward</th>\n",
              "      <th>buildingsize</th>\n",
              "      <th>grossfloorarea</th>\n",
              "      <th>2017energyuseintensity</th>\n",
              "      <th>2018energyusintensity</th>\n",
              "      <th>voluntarydisclosure</th>\n",
              "    </tr>\n",
              "  </thead>\n",
              "  <tbody>\n",
              "    <tr>\n",
              "      <th>0</th>\n",
              "      <td>HEXACUBE</td>\n",
              "      <td>160 CHANGI ROAD, SINGAPORE 419728</td>\n",
              "      <td>Mixed Development</td>\n",
              "      <td>No</td>\n",
              "      <td>NaN</td>\n",
              "      <td>NaN</td>\n",
              "      <td>Small</td>\n",
              "      <td>5,036</td>\n",
              "      <td>81.0</td>\n",
              "      <td>105.0</td>\n",
              "      <td>Y</td>\n",
              "    </tr>\n",
              "    <tr>\n",
              "      <th>1</th>\n",
              "      <td>NaN</td>\n",
              "      <td>NaN</td>\n",
              "      <td>Retail</td>\n",
              "      <td>No</td>\n",
              "      <td>NaN</td>\n",
              "      <td>NaN</td>\n",
              "      <td>Small</td>\n",
              "      <td>NaN</td>\n",
              "      <td>475.0</td>\n",
              "      <td>402.0</td>\n",
              "      <td>N</td>\n",
              "    </tr>\n",
              "    <tr>\n",
              "      <th>2</th>\n",
              "      <td>CITY SQUARE MALL</td>\n",
              "      <td>180 KITCHENER ROAD, SINGAPORE 208539</td>\n",
              "      <td>Retail</td>\n",
              "      <td>Yes</td>\n",
              "      <td>Platinum</td>\n",
              "      <td>2018.0</td>\n",
              "      <td>Large</td>\n",
              "      <td>65,640</td>\n",
              "      <td>382.0</td>\n",
              "      <td>365.0</td>\n",
              "      <td>Y</td>\n",
              "    </tr>\n",
              "    <tr>\n",
              "      <th>3</th>\n",
              "      <td>REPUBLIC PLAZA</td>\n",
              "      <td>9 RAFFLES PLACE, SINGAPORE 048619</td>\n",
              "      <td>Office</td>\n",
              "      <td>Yes</td>\n",
              "      <td>Platinum</td>\n",
              "      <td>2018.0</td>\n",
              "      <td>Large</td>\n",
              "      <td>102,356</td>\n",
              "      <td>212.0</td>\n",
              "      <td>183.0</td>\n",
              "      <td>Y</td>\n",
              "    </tr>\n",
              "    <tr>\n",
              "      <th>4</th>\n",
              "      <td>CENTRAL MALL</td>\n",
              "      <td>1 MAGAZINE ROAD, SINGAPORE 059567</td>\n",
              "      <td>Office</td>\n",
              "      <td>Yes</td>\n",
              "      <td>Platinum</td>\n",
              "      <td>2017.0</td>\n",
              "      <td>Large</td>\n",
              "      <td>15,769</td>\n",
              "      <td>203.0</td>\n",
              "      <td>181.0</td>\n",
              "      <td>Y</td>\n",
              "    </tr>\n",
              "  </tbody>\n",
              "</table>\n",
              "</div>\n",
              "      <button class=\"colab-df-convert\" onclick=\"convertToInteractive('df-4ed59c66-45e9-4bb6-9607-68cf6480b105')\"\n",
              "              title=\"Convert this dataframe to an interactive table.\"\n",
              "              style=\"display:none;\">\n",
              "        \n",
              "  <svg xmlns=\"http://www.w3.org/2000/svg\" height=\"24px\"viewBox=\"0 0 24 24\"\n",
              "       width=\"24px\">\n",
              "    <path d=\"M0 0h24v24H0V0z\" fill=\"none\"/>\n",
              "    <path d=\"M18.56 5.44l.94 2.06.94-2.06 2.06-.94-2.06-.94-.94-2.06-.94 2.06-2.06.94zm-11 1L8.5 8.5l.94-2.06 2.06-.94-2.06-.94L8.5 2.5l-.94 2.06-2.06.94zm10 10l.94 2.06.94-2.06 2.06-.94-2.06-.94-.94-2.06-.94 2.06-2.06.94z\"/><path d=\"M17.41 7.96l-1.37-1.37c-.4-.4-.92-.59-1.43-.59-.52 0-1.04.2-1.43.59L10.3 9.45l-7.72 7.72c-.78.78-.78 2.05 0 2.83L4 21.41c.39.39.9.59 1.41.59.51 0 1.02-.2 1.41-.59l7.78-7.78 2.81-2.81c.8-.78.8-2.07 0-2.86zM5.41 20L4 18.59l7.72-7.72 1.47 1.35L5.41 20z\"/>\n",
              "  </svg>\n",
              "      </button>\n",
              "      \n",
              "  <style>\n",
              "    .colab-df-container {\n",
              "      display:flex;\n",
              "      flex-wrap:wrap;\n",
              "      gap: 12px;\n",
              "    }\n",
              "\n",
              "    .colab-df-convert {\n",
              "      background-color: #E8F0FE;\n",
              "      border: none;\n",
              "      border-radius: 50%;\n",
              "      cursor: pointer;\n",
              "      display: none;\n",
              "      fill: #1967D2;\n",
              "      height: 32px;\n",
              "      padding: 0 0 0 0;\n",
              "      width: 32px;\n",
              "    }\n",
              "\n",
              "    .colab-df-convert:hover {\n",
              "      background-color: #E2EBFA;\n",
              "      box-shadow: 0px 1px 2px rgba(60, 64, 67, 0.3), 0px 1px 3px 1px rgba(60, 64, 67, 0.15);\n",
              "      fill: #174EA6;\n",
              "    }\n",
              "\n",
              "    [theme=dark] .colab-df-convert {\n",
              "      background-color: #3B4455;\n",
              "      fill: #D2E3FC;\n",
              "    }\n",
              "\n",
              "    [theme=dark] .colab-df-convert:hover {\n",
              "      background-color: #434B5C;\n",
              "      box-shadow: 0px 1px 3px 1px rgba(0, 0, 0, 0.15);\n",
              "      filter: drop-shadow(0px 1px 2px rgba(0, 0, 0, 0.3));\n",
              "      fill: #FFFFFF;\n",
              "    }\n",
              "  </style>\n",
              "\n",
              "      <script>\n",
              "        const buttonEl =\n",
              "          document.querySelector('#df-4ed59c66-45e9-4bb6-9607-68cf6480b105 button.colab-df-convert');\n",
              "        buttonEl.style.display =\n",
              "          google.colab.kernel.accessAllowed ? 'block' : 'none';\n",
              "\n",
              "        async function convertToInteractive(key) {\n",
              "          const element = document.querySelector('#df-4ed59c66-45e9-4bb6-9607-68cf6480b105');\n",
              "          const dataTable =\n",
              "            await google.colab.kernel.invokeFunction('convertToInteractive',\n",
              "                                                     [key], {});\n",
              "          if (!dataTable) return;\n",
              "\n",
              "          const docLinkHtml = 'Like what you see? Visit the ' +\n",
              "            '<a target=\"_blank\" href=https://colab.research.google.com/notebooks/data_table.ipynb>data table notebook</a>'\n",
              "            + ' to learn more about interactive tables.';\n",
              "          element.innerHTML = '';\n",
              "          dataTable['output_type'] = 'display_data';\n",
              "          await google.colab.output.renderOutput(dataTable, element);\n",
              "          const docLink = document.createElement('div');\n",
              "          docLink.innerHTML = docLinkHtml;\n",
              "          element.appendChild(docLink);\n",
              "        }\n",
              "      </script>\n",
              "    </div>\n",
              "  </div>\n",
              "  "
            ]
          },
          "metadata": {},
          "execution_count": 6
        }
      ]
    },
    {
      "cell_type": "code",
      "source": [
        "df.info()"
      ],
      "metadata": {
        "colab": {
          "base_uri": "https://localhost:8080/"
        },
        "id": "U0vDHQ6GmuPU",
        "outputId": "24887746-b8df-427b-f003-cbbc53174be9"
      },
      "execution_count": null,
      "outputs": [
        {
          "output_type": "stream",
          "name": "stdout",
          "text": [
            "<class 'pandas.core.frame.DataFrame'>\n",
            "RangeIndex: 1244 entries, 0 to 1243\n",
            "Data columns (total 11 columns):\n",
            " #   Column                  Non-Null Count  Dtype  \n",
            "---  ------                  --------------  -----  \n",
            " 0   buildingname            783 non-null    object \n",
            " 1   buildingaddress         986 non-null    object \n",
            " 2   buildingtype            1244 non-null   object \n",
            " 3   greenmarkstatus         1244 non-null   object \n",
            " 4   greenmarkrating         306 non-null    object \n",
            " 5   greenmarkyearaward      306 non-null    float64\n",
            " 6   buildingsize            1189 non-null   object \n",
            " 7   grossfloorarea          986 non-null    object \n",
            " 8   2017energyuseintensity  1224 non-null   float64\n",
            " 9   2018energyusintensity   1224 non-null   float64\n",
            " 10  voluntarydisclosure     1244 non-null   object \n",
            "dtypes: float64(3), object(8)\n",
            "memory usage: 107.0+ KB\n"
          ]
        }
      ]
    },
    {
      "cell_type": "markdown",
      "source": [
        "data pada kolom grossfloorarea bertipe object, kita perlu mengubahnya menjadi tipe data numerik seperti float."
      ],
      "metadata": {
        "id": "IJFEfked20My"
      }
    },
    {
      "cell_type": "markdown",
      "source": [
        "# Data Cleaning"
      ],
      "metadata": {
        "id": "Hr8Mt-KC27ML"
      }
    },
    {
      "cell_type": "markdown",
      "source": [
        "Mengecek data null dan melakukan pembersihan yang diperlukan"
      ],
      "metadata": {
        "id": "GvZZLsOPz1tT"
      }
    },
    {
      "cell_type": "code",
      "source": [
        "df.isnull().sum()"
      ],
      "metadata": {
        "colab": {
          "base_uri": "https://localhost:8080/"
        },
        "id": "Xm3CaFVutF-j",
        "outputId": "a3808f82-3548-4ef5-da55-f6af95b27b04"
      },
      "execution_count": null,
      "outputs": [
        {
          "output_type": "execute_result",
          "data": {
            "text/plain": [
              "buildingname              461\n",
              "buildingaddress           258\n",
              "buildingtype                0\n",
              "greenmarkstatus             0\n",
              "greenmarkrating           938\n",
              "greenmarkyearaward        938\n",
              "buildingsize               55\n",
              "grossfloorarea            258\n",
              "2017energyuseintensity     20\n",
              "2018energyusintensity      20\n",
              "voluntarydisclosure         0\n",
              "dtype: int64"
            ]
          },
          "metadata": {},
          "execution_count": 8
        }
      ]
    },
    {
      "cell_type": "code",
      "source": [
        "sns.heatmap(df.isnull())"
      ],
      "metadata": {
        "colab": {
          "base_uri": "https://localhost:8080/",
          "height": 399
        },
        "id": "0cSvRp_4tU-9",
        "outputId": "e393b9c2-742f-4a77-be64-a6ea744446eb"
      },
      "execution_count": null,
      "outputs": [
        {
          "output_type": "execute_result",
          "data": {
            "text/plain": [
              "<matplotlib.axes._subplots.AxesSubplot at 0x7f499cad7e50>"
            ]
          },
          "metadata": {},
          "execution_count": 9
        },
        {
          "output_type": "display_data",
          "data": {
            "text/plain": [
              "<Figure size 432x288 with 2 Axes>"
            ],
            "image/png": "[encoded data removed]"
          },
          "metadata": {
            "needs_background": "light"
          }
        }
      ]
    },
    {
      "cell_type": "markdown",
      "source": [
        "I think building address, energy use on 2017 and 2018 are curcial.\n",
        "So we will drop row that have null values on those columns."
      ],
      "metadata": {
        "id": "CfzqvwZawW_w"
      }
    },
    {
      "cell_type": "code",
      "source": [
        "df = df.dropna(subset = ['buildingaddress','2017energyuseintensity','2018energyusintensity']).reset_index(drop=True)"
      ],
      "metadata": {
        "id": "LWecVN8kwOrG"
      },
      "execution_count": null,
      "outputs": []
    },
    {
      "cell_type": "markdown",
      "source": [
        "Also, we don't building's name, building size (Large or Small) and Voluntary Disclosure."
      ],
      "metadata": {
        "id": "ypUVvhpIweDS"
      }
    },
    {
      "cell_type": "code",
      "source": [
        "df = df.drop(['buildingname','buildingsize','voluntarydisclosure'], axis=1).reset_index(drop=True)"
      ],
      "metadata": {
        "id": "07q-c9IrwZak"
      },
      "execution_count": null,
      "outputs": []
    },
    {
      "cell_type": "code",
      "source": [
        "df.isnull().sum()"
      ],
      "metadata": {
        "colab": {
          "base_uri": "https://localhost:8080/"
        },
        "id": "zVJjnKOjwjdF",
        "outputId": "c8761cab-b9ba-43ac-c43d-90288733b59d"
      },
      "execution_count": null,
      "outputs": [
        {
          "output_type": "execute_result",
          "data": {
            "text/plain": [
              "buildingaddress             0\n",
              "buildingtype                0\n",
              "greenmarkstatus             0\n",
              "greenmarkrating           676\n",
              "greenmarkyearaward        676\n",
              "grossfloorarea              0\n",
              "2017energyuseintensity      0\n",
              "2018energyusintensity       0\n",
              "dtype: int64"
            ]
          },
          "metadata": {},
          "execution_count": 12
        }
      ]
    },
    {
      "cell_type": "code",
      "source": [
        "#Check greenmarkrating and greenmarkyearaward.\n",
        "df[['greenmarkrating','greenmarkyearaward']]"
      ],
      "metadata": {
        "colab": {
          "base_uri": "https://localhost:8080/",
          "height": 424
        },
        "id": "vkkMHBPswnoU",
        "outputId": "cec23a80-0237-4545-bdef-4a6609c2c562"
      },
      "execution_count": null,
      "outputs": [
        {
          "output_type": "execute_result",
          "data": {
            "text/plain": [
              "    greenmarkrating  greenmarkyearaward\n",
              "0               NaN                 NaN\n",
              "1          Platinum              2018.0\n",
              "2          Platinum              2018.0\n",
              "3          Platinum              2017.0\n",
              "4              Gold              2015.0\n",
              "..              ...                 ...\n",
              "972             NaN                 NaN\n",
              "973             NaN                 NaN\n",
              "974        Platinum              2010.0\n",
              "975        Platinum              2016.0\n",
              "976             NaN                 NaN\n",
              "\n",
              "[977 rows x 2 columns]"
            ],
            "text/html": [
              "\n",
              "  <div id=\"df-34c5c5a5-fc0b-49b2-993c-0452f436c0a1\">\n",
              "    <div class=\"colab-df-container\">\n",
              "      <div>\n",
              "<style scoped>\n",
              "    .dataframe tbody tr th:only-of-type {\n",
              "        vertical-align: middle;\n",
              "    }\n",
              "\n",
              "    .dataframe tbody tr th {\n",
              "        vertical-align: top;\n",
              "    }\n",
              "\n",
              "    .dataframe thead th {\n",
              "        text-align: right;\n",
              "    }\n",
              "</style>\n",
              "<table border=\"1\" class=\"dataframe\">\n",
              "  <thead>\n",
              "    <tr style=\"text-align: right;\">\n",
              "      <th></th>\n",
              "      <th>greenmarkrating</th>\n",
              "      <th>greenmarkyearaward</th>\n",
              "    </tr>\n",
              "  </thead>\n",
              "  <tbody>\n",
              "    <tr>\n",
              "      <th>0</th>\n",
              "      <td>NaN</td>\n",
              "      <td>NaN</td>\n",
              "    </tr>\n",
              "    <tr>\n",
              "      <th>1</th>\n",
              "      <td>Platinum</td>\n",
              "      <td>2018.0</td>\n",
              "    </tr>\n",
              "    <tr>\n",
              "      <th>2</th>\n",
              "      <td>Platinum</td>\n",
              "      <td>2018.0</td>\n",
              "    </tr>\n",
              "    <tr>\n",
              "      <th>3</th>\n",
              "      <td>Platinum</td>\n",
              "      <td>2017.0</td>\n",
              "    </tr>\n",
              "    <tr>\n",
              "      <th>4</th>\n",
              "      <td>Gold</td>\n",
              "      <td>2015.0</td>\n",
              "    </tr>\n",
              "    <tr>\n",
              "      <th>...</th>\n",
              "      <td>...</td>\n",
              "      <td>...</td>\n",
              "    </tr>\n",
              "    <tr>\n",
              "      <th>972</th>\n",
              "      <td>NaN</td>\n",
              "      <td>NaN</td>\n",
              "    </tr>\n",
              "    <tr>\n",
              "      <th>973</th>\n",
              "      <td>NaN</td>\n",
              "      <td>NaN</td>\n",
              "    </tr>\n",
              "    <tr>\n",
              "      <th>974</th>\n",
              "      <td>Platinum</td>\n",
              "      <td>2010.0</td>\n",
              "    </tr>\n",
              "    <tr>\n",
              "      <th>975</th>\n",
              "      <td>Platinum</td>\n",
              "      <td>2016.0</td>\n",
              "    </tr>\n",
              "    <tr>\n",
              "      <th>976</th>\n",
              "      <td>NaN</td>\n",
              "      <td>NaN</td>\n",
              "    </tr>\n",
              "  </tbody>\n",
              "</table>\n",
              "<p>977 rows × 2 columns</p>\n",
              "</div>\n",
              "      <button class=\"colab-df-convert\" onclick=\"convertToInteractive('df-34c5c5a5-fc0b-49b2-993c-0452f436c0a1')\"\n",
              "              title=\"Convert this dataframe to an interactive table.\"\n",
              "              style=\"display:none;\">\n",
              "        \n",
              "  <svg xmlns=\"http://www.w3.org/2000/svg\" height=\"24px\"viewBox=\"0 0 24 24\"\n",
              "       width=\"24px\">\n",
              "    <path d=\"M0 0h24v24H0V0z\" fill=\"none\"/>\n",
              "    <path d=\"M18.56 5.44l.94 2.06.94-2.06 2.06-.94-2.06-.94-.94-2.06-.94 2.06-2.06.94zm-11 1L8.5 8.5l.94-2.06 2.06-.94-2.06-.94L8.5 2.5l-.94 2.06-2.06.94zm10 10l.94 2.06.94-2.06 2.06-.94-2.06-.94-.94-2.06-.94 2.06-2.06.94z\"/><path d=\"M17.41 7.96l-1.37-1.37c-.4-.4-.92-.59-1.43-.59-.52 0-1.04.2-1.43.59L10.3 9.45l-7.72 7.72c-.78.78-.78 2.05 0 2.83L4 21.41c.39.39.9.59 1.41.59.51 0 1.02-.2 1.41-.59l7.78-7.78 2.81-2.81c.8-.78.8-2.07 0-2.86zM5.41 20L4 18.59l7.72-7.72 1.47 1.35L5.41 20z\"/>\n",
              "  </svg>\n",
              "      </button>\n",
              "      \n",
              "  <style>\n",
              "    .colab-df-container {\n",
              "      display:flex;\n",
              "      flex-wrap:wrap;\n",
              "      gap: 12px;\n",
              "    }\n",
              "\n",
              "    .colab-df-convert {\n",
              "      background-color: #E8F0FE;\n",
              "      border: none;\n",
              "      border-radius: 50%;\n",
              "      cursor: pointer;\n",
              "      display: none;\n",
              "      fill: #1967D2;\n",
              "      height: 32px;\n",
              "      padding: 0 0 0 0;\n",
              "      width: 32px;\n",
              "    }\n",
              "\n",
              "    .colab-df-convert:hover {\n",
              "      background-color: #E2EBFA;\n",
              "      box-shadow: 0px 1px 2px rgba(60, 64, 67, 0.3), 0px 1px 3px 1px rgba(60, 64, 67, 0.15);\n",
              "      fill: #174EA6;\n",
              "    }\n",
              "\n",
              "    [theme=dark] .colab-df-convert {\n",
              "      background-color: #3B4455;\n",
              "      fill: #D2E3FC;\n",
              "    }\n",
              "\n",
              "    [theme=dark] .colab-df-convert:hover {\n",
              "      background-color: #434B5C;\n",
              "      box-shadow: 0px 1px 3px 1px rgba(0, 0, 0, 0.15);\n",
              "      filter: drop-shadow(0px 1px 2px rgba(0, 0, 0, 0.3));\n",
              "      fill: #FFFFFF;\n",
              "    }\n",
              "  </style>\n",
              "\n",
              "      <script>\n",
              "        const buttonEl =\n",
              "          document.querySelector('#df-34c5c5a5-fc0b-49b2-993c-0452f436c0a1 button.colab-df-convert');\n",
              "        buttonEl.style.display =\n",
              "          google.colab.kernel.accessAllowed ? 'block' : 'none';\n",
              "\n",
              "        async function convertToInteractive(key) {\n",
              "          const element = document.querySelector('#df-34c5c5a5-fc0b-49b2-993c-0452f436c0a1');\n",
              "          const dataTable =\n",
              "            await google.colab.kernel.invokeFunction('convertToInteractive',\n",
              "                                                     [key], {});\n",
              "          if (!dataTable) return;\n",
              "\n",
              "          const docLinkHtml = 'Like what you see? Visit the ' +\n",
              "            '<a target=\"_blank\" href=https://colab.research.google.com/notebooks/data_table.ipynb>data table notebook</a>'\n",
              "            + ' to learn more about interactive tables.';\n",
              "          element.innerHTML = '';\n",
              "          dataTable['output_type'] = 'display_data';\n",
              "          await google.colab.output.renderOutput(dataTable, element);\n",
              "          const docLink = document.createElement('div');\n",
              "          docLink.innerHTML = docLinkHtml;\n",
              "          element.appendChild(docLink);\n",
              "        }\n",
              "      </script>\n",
              "    </div>\n",
              "  </div>\n",
              "  "
            ]
          },
          "metadata": {},
          "execution_count": 13
        }
      ]
    },
    {
      "cell_type": "markdown",
      "source": [
        "So every greenmarkrating's value is null, greenmarkyearaward also null.\n",
        "We can leave them now.\n",
        "Next, we are going to extract address to get postal code."
      ],
      "metadata": {
        "id": "Muq_q1KlwwfB"
      }
    },
    {
      "cell_type": "code",
      "source": [
        "#Change grossfloorarea type\n",
        "df['grossfloorarea'] = df['grossfloorarea'].str.replace(',','').astype(int)"
      ],
      "metadata": {
        "id": "goeNTW6Pw126"
      },
      "execution_count": null,
      "outputs": []
    },
    {
      "cell_type": "markdown",
      "source": [
        "Actually a little typo on columns name and value in building type ('Univerisity')"
      ],
      "metadata": {
        "id": "iV9-Xa9Ay0qx"
      }
    },
    {
      "cell_type": "code",
      "source": [
        "df['buildingtype'].unique()"
      ],
      "metadata": {
        "colab": {
          "base_uri": "https://localhost:8080/"
        },
        "id": "mque5nsKw6-_",
        "outputId": "be38535f-4e91-4d72-ec8b-e7f107324e98"
      },
      "execution_count": null,
      "outputs": [
        {
          "output_type": "execute_result",
          "data": {
            "text/plain": [
              "array(['Mixed Development', 'Retail', 'Office', 'Hotel',\n",
              "       'Community Hospital', 'Private Clinic', 'Polytechnic',\n",
              "       'General Hospital/ Specialist Centre (Public)', 'Nursing Home',\n",
              "       'Private School', 'Univerisity', 'Specialist Centre (Public)',\n",
              "       'TCM Clinic', 'ITE', 'Private Hospital (Private)',\n",
              "       'Private College', 'Polyclinic'], dtype=object)"
            ]
          },
          "metadata": {},
          "execution_count": 18
        }
      ]
    },
    {
      "cell_type": "code",
      "source": [
        "df['buildingtype'] = df['buildingtype'].apply(lambda x : 'University' if x == 'Univerisity' else x)"
      ],
      "metadata": {
        "id": "ATyLs9WWy3Iu"
      },
      "execution_count": null,
      "outputs": []
    },
    {
      "cell_type": "code",
      "source": [
        "df = df.rename(columns={'2018energyusintensity':'2018energyuseintensity'})\n",
        "df"
      ],
      "metadata": {
        "colab": {
          "base_uri": "https://localhost:8080/",
          "height": 537
        },
        "id": "-vvLe46uy5zs",
        "outputId": "5d04339b-7cb8-4239-9f6a-86cdc28e2a5d"
      },
      "execution_count": null,
      "outputs": [
        {
          "output_type": "execute_result",
          "data": {
            "text/plain": [
              "                                      buildingaddress       buildingtype  \\\n",
              "0                   160 CHANGI ROAD, SINGAPORE 419728  Mixed Development   \n",
              "1                180 KITCHENER ROAD, SINGAPORE 208539             Retail   \n",
              "2                   9 RAFFLES PLACE, SINGAPORE 048619             Office   \n",
              "3                   1 MAGAZINE ROAD, SINGAPORE 059567             Office   \n",
              "4            11 TANJONG KATONG ROAD, SINGAPORE 437157             Retail   \n",
              "..                                                ...                ...   \n",
              "972                63 MARKET STREET, SINGAPORE 048942             Office   \n",
              "973          260 TANJONG PAGAR ROAD, SINGAPORE 088542             Office   \n",
              "974                  1 SELEGIE ROAD, SINGAPORE 188306     Private School   \n",
              "975           80 MARINE PARADE ROAD, SINGAPORE 449269             Office   \n",
              "976  14 INTERNATIONAL BUSINESS PARK, SINGAPORE 609922             Office   \n",
              "\n",
              "    greenmarkstatus greenmarkrating  greenmarkyearaward  grossfloorarea  \\\n",
              "0                No             NaN                 NaN            5036   \n",
              "1               Yes        Platinum              2018.0           65640   \n",
              "2               Yes        Platinum              2018.0          102356   \n",
              "3               Yes        Platinum              2017.0           15769   \n",
              "4               Yes            Gold              2015.0           28938   \n",
              "..              ...             ...                 ...             ...   \n",
              "972              No             NaN                 NaN           18275   \n",
              "973              No             NaN                 NaN            4024   \n",
              "974             Yes        Platinum              2010.0           21832   \n",
              "975             Yes        Platinum              2016.0           99012   \n",
              "976              No             NaN                 NaN            8838   \n",
              "\n",
              "     2017energyuseintensity  2018energyuseintensity postalcode  \n",
              "0                      81.0                   105.0     419728  \n",
              "1                     382.0                   365.0     208539  \n",
              "2                     212.0                   183.0     048619  \n",
              "3                     203.0                   181.0     059567  \n",
              "4                     431.0                   396.0     437157  \n",
              "..                      ...                     ...        ...  \n",
              "972                   456.0                   458.0     048942  \n",
              "973                   155.0                   160.0     088542  \n",
              "974                   288.0                   261.0     188306  \n",
              "975                   326.0                   330.0     449269  \n",
              "976                   213.0                   191.0     609922  \n",
              "\n",
              "[977 rows x 9 columns]"
            ],
            "text/html": [
              "\n",
              "  <div id=\"df-8688c728-d58d-4ce2-9d5d-9c9efbd05f69\">\n",
              "    <div class=\"colab-df-container\">\n",
              "      <div>\n",
              "<style scoped>\n",
              "    .dataframe tbody tr th:only-of-type {\n",
              "        vertical-align: middle;\n",
              "    }\n",
              "\n",
              "    .dataframe tbody tr th {\n",
              "        vertical-align: top;\n",
              "    }\n",
              "\n",
              "    .dataframe thead th {\n",
              "        text-align: right;\n",
              "    }\n",
              "</style>\n",
              "<table border=\"1\" class=\"dataframe\">\n",
              "  <thead>\n",
              "    <tr style=\"text-align: right;\">\n",
              "      <th></th>\n",
              "      <th>buildingaddress</th>\n",
              "      <th>buildingtype</th>\n",
              "      <th>greenmarkstatus</th>\n",
              "      <th>greenmarkrating</th>\n",
              "      <th>greenmarkyearaward</th>\n",
              "      <th>grossfloorarea</th>\n",
              "      <th>2017energyuseintensity</th>\n",
              "      <th>2018energyuseintensity</th>\n",
              "      <th>postalcode</th>\n",
              "    </tr>\n",
              "  </thead>\n",
              "  <tbody>\n",
              "    <tr>\n",
              "      <th>0</th>\n",
              "      <td>160 CHANGI ROAD, SINGAPORE 419728</td>\n",
              "      <td>Mixed Development</td>\n",
              "      <td>No</td>\n",
              "      <td>NaN</td>\n",
              "      <td>NaN</td>\n",
              "      <td>5036</td>\n",
              "      <td>81.0</td>\n",
              "      <td>105.0</td>\n",
              "      <td>419728</td>\n",
              "    </tr>\n",
              "    <tr>\n",
              "      <th>1</th>\n",
              "      <td>180 KITCHENER ROAD, SINGAPORE 208539</td>\n",
              "      <td>Retail</td>\n",
              "      <td>Yes</td>\n",
              "      <td>Platinum</td>\n",
              "      <td>2018.0</td>\n",
              "      <td>65640</td>\n",
              "      <td>382.0</td>\n",
              "      <td>365.0</td>\n",
              "      <td>208539</td>\n",
              "    </tr>\n",
              "    <tr>\n",
              "      <th>2</th>\n",
              "      <td>9 RAFFLES PLACE, SINGAPORE 048619</td>\n",
              "      <td>Office</td>\n",
              "      <td>Yes</td>\n",
              "      <td>Platinum</td>\n",
              "      <td>2018.0</td>\n",
              "      <td>102356</td>\n",
              "      <td>212.0</td>\n",
              "      <td>183.0</td>\n",
              "      <td>048619</td>\n",
              "    </tr>\n",
              "    <tr>\n",
              "      <th>3</th>\n",
              "      <td>1 MAGAZINE ROAD, SINGAPORE 059567</td>\n",
              "      <td>Office</td>\n",
              "      <td>Yes</td>\n",
              "      <td>Platinum</td>\n",
              "      <td>2017.0</td>\n",
              "      <td>15769</td>\n",
              "      <td>203.0</td>\n",
              "      <td>181.0</td>\n",
              "      <td>059567</td>\n",
              "    </tr>\n",
              "    <tr>\n",
              "      <th>4</th>\n",
              "      <td>11 TANJONG KATONG ROAD, SINGAPORE 437157</td>\n",
              "      <td>Retail</td>\n",
              "      <td>Yes</td>\n",
              "      <td>Gold</td>\n",
              "      <td>2015.0</td>\n",
              "      <td>28938</td>\n",
              "      <td>431.0</td>\n",
              "      <td>396.0</td>\n",
              "      <td>437157</td>\n",
              "    </tr>\n",
              "    <tr>\n",
              "      <th>...</th>\n",
              "      <td>...</td>\n",
              "      <td>...</td>\n",
              "      <td>...</td>\n",
              "      <td>...</td>\n",
              "      <td>...</td>\n",
              "      <td>...</td>\n",
              "      <td>...</td>\n",
              "      <td>...</td>\n",
              "      <td>...</td>\n",
              "    </tr>\n",
              "    <tr>\n",
              "      <th>972</th>\n",
              "      <td>63 MARKET STREET, SINGAPORE 048942</td>\n",
              "      <td>Office</td>\n",
              "      <td>No</td>\n",
              "      <td>NaN</td>\n",
              "      <td>NaN</td>\n",
              "      <td>18275</td>\n",
              "      <td>456.0</td>\n",
              "      <td>458.0</td>\n",
              "      <td>048942</td>\n",
              "    </tr>\n",
              "    <tr>\n",
              "      <th>973</th>\n",
              "      <td>260 TANJONG PAGAR ROAD, SINGAPORE 088542</td>\n",
              "      <td>Office</td>\n",
              "      <td>No</td>\n",
              "      <td>NaN</td>\n",
              "      <td>NaN</td>\n",
              "      <td>4024</td>\n",
              "      <td>155.0</td>\n",
              "      <td>160.0</td>\n",
              "      <td>088542</td>\n",
              "    </tr>\n",
              "    <tr>\n",
              "      <th>974</th>\n",
              "      <td>1 SELEGIE ROAD, SINGAPORE 188306</td>\n",
              "      <td>Private School</td>\n",
              "      <td>Yes</td>\n",
              "      <td>Platinum</td>\n",
              "      <td>2010.0</td>\n",
              "      <td>21832</td>\n",
              "      <td>288.0</td>\n",
              "      <td>261.0</td>\n",
              "      <td>188306</td>\n",
              "    </tr>\n",
              "    <tr>\n",
              "      <th>975</th>\n",
              "      <td>80 MARINE PARADE ROAD, SINGAPORE 449269</td>\n",
              "      <td>Office</td>\n",
              "      <td>Yes</td>\n",
              "      <td>Platinum</td>\n",
              "      <td>2016.0</td>\n",
              "      <td>99012</td>\n",
              "      <td>326.0</td>\n",
              "      <td>330.0</td>\n",
              "      <td>449269</td>\n",
              "    </tr>\n",
              "    <tr>\n",
              "      <th>976</th>\n",
              "      <td>14 INTERNATIONAL BUSINESS PARK, SINGAPORE 609922</td>\n",
              "      <td>Office</td>\n",
              "      <td>No</td>\n",
              "      <td>NaN</td>\n",
              "      <td>NaN</td>\n",
              "      <td>8838</td>\n",
              "      <td>213.0</td>\n",
              "      <td>191.0</td>\n",
              "      <td>609922</td>\n",
              "    </tr>\n",
              "  </tbody>\n",
              "</table>\n",
              "<p>977 rows × 9 columns</p>\n",
              "</div>\n",
              "      <button class=\"colab-df-convert\" onclick=\"convertToInteractive('df-8688c728-d58d-4ce2-9d5d-9c9efbd05f69')\"\n",
              "              title=\"Convert this dataframe to an interactive table.\"\n",
              "              style=\"display:none;\">\n",
              "        \n",
              "  <svg xmlns=\"http://www.w3.org/2000/svg\" height=\"24px\"viewBox=\"0 0 24 24\"\n",
              "       width=\"24px\">\n",
              "    <path d=\"M0 0h24v24H0V0z\" fill=\"none\"/>\n",
              "    <path d=\"M18.56 5.44l.94 2.06.94-2.06 2.06-.94-2.06-.94-.94-2.06-.94 2.06-2.06.94zm-11 1L8.5 8.5l.94-2.06 2.06-.94-2.06-.94L8.5 2.5l-.94 2.06-2.06.94zm10 10l.94 2.06.94-2.06 2.06-.94-2.06-.94-.94-2.06-.94 2.06-2.06.94z\"/><path d=\"M17.41 7.96l-1.37-1.37c-.4-.4-.92-.59-1.43-.59-.52 0-1.04.2-1.43.59L10.3 9.45l-7.72 7.72c-.78.78-.78 2.05 0 2.83L4 21.41c.39.39.9.59 1.41.59.51 0 1.02-.2 1.41-.59l7.78-7.78 2.81-2.81c.8-.78.8-2.07 0-2.86zM5.41 20L4 18.59l7.72-7.72 1.47 1.35L5.41 20z\"/>\n",
              "  </svg>\n",
              "      </button>\n",
              "      \n",
              "  <style>\n",
              "    .colab-df-container {\n",
              "      display:flex;\n",
              "      flex-wrap:wrap;\n",
              "      gap: 12px;\n",
              "    }\n",
              "\n",
              "    .colab-df-convert {\n",
              "      background-color: #E8F0FE;\n",
              "      border: none;\n",
              "      border-radius: 50%;\n",
              "      cursor: pointer;\n",
              "      display: none;\n",
              "      fill: #1967D2;\n",
              "      height: 32px;\n",
              "      padding: 0 0 0 0;\n",
              "      width: 32px;\n",
              "    }\n",
              "\n",
              "    .colab-df-convert:hover {\n",
              "      background-color: #E2EBFA;\n",
              "      box-shadow: 0px 1px 2px rgba(60, 64, 67, 0.3), 0px 1px 3px 1px rgba(60, 64, 67, 0.15);\n",
              "      fill: #174EA6;\n",
              "    }\n",
              "\n",
              "    [theme=dark] .colab-df-convert {\n",
              "      background-color: #3B4455;\n",
              "      fill: #D2E3FC;\n",
              "    }\n",
              "\n",
              "    [theme=dark] .colab-df-convert:hover {\n",
              "      background-color: #434B5C;\n",
              "      box-shadow: 0px 1px 3px 1px rgba(0, 0, 0, 0.15);\n",
              "      filter: drop-shadow(0px 1px 2px rgba(0, 0, 0, 0.3));\n",
              "      fill: #FFFFFF;\n",
              "    }\n",
              "  </style>\n",
              "\n",
              "      <script>\n",
              "        const buttonEl =\n",
              "          document.querySelector('#df-8688c728-d58d-4ce2-9d5d-9c9efbd05f69 button.colab-df-convert');\n",
              "        buttonEl.style.display =\n",
              "          google.colab.kernel.accessAllowed ? 'block' : 'none';\n",
              "\n",
              "        async function convertToInteractive(key) {\n",
              "          const element = document.querySelector('#df-8688c728-d58d-4ce2-9d5d-9c9efbd05f69');\n",
              "          const dataTable =\n",
              "            await google.colab.kernel.invokeFunction('convertToInteractive',\n",
              "                                                     [key], {});\n",
              "          if (!dataTable) return;\n",
              "\n",
              "          const docLinkHtml = 'Like what you see? Visit the ' +\n",
              "            '<a target=\"_blank\" href=https://colab.research.google.com/notebooks/data_table.ipynb>data table notebook</a>'\n",
              "            + ' to learn more about interactive tables.';\n",
              "          element.innerHTML = '';\n",
              "          dataTable['output_type'] = 'display_data';\n",
              "          await google.colab.output.renderOutput(dataTable, element);\n",
              "          const docLink = document.createElement('div');\n",
              "          docLink.innerHTML = docLinkHtml;\n",
              "          element.appendChild(docLink);\n",
              "        }\n",
              "      </script>\n",
              "    </div>\n",
              "  </div>\n",
              "  "
            ]
          },
          "metadata": {},
          "execution_count": 20
        }
      ]
    },
    {
      "cell_type": "code",
      "source": [
        "df.to_csv('data.csv')\n",
        "!cp data.csv \"drive/My Drive/\""
      ],
      "metadata": {
        "id": "jUzjXoaRy7_U"
      },
      "execution_count": null,
      "outputs": []
    },
    {
      "cell_type": "markdown",
      "source": [
        "# Conclusion\n",
        "30.8% buildings at Singapore are green building.\n",
        "Less than half of quantity of each building type are green building.\n",
        "There is significant reduction amount of green building added from 2017 to 2018.\n",
        "In average usage from 2017.\n",
        "Not Certified building has decreased by 2.7\n",
        "Platinum building has increased by 9.4\n",
        "Gold builidng has decreased by 10.8"
      ],
      "metadata": {
        "id": "PfvW1roNz2bN"
      }
    }
  ]
}