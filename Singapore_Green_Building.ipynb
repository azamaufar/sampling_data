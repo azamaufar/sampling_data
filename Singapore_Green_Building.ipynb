{
  "nbformat": 4,
  "nbformat_minor": 0,
  "metadata": {
    "colab": {
      "provenance": []
    },
    "kernelspec": {
      "name": "python3",
      "display_name": "Python 3"
    },
    "language_info": {
      "name": "python"
    }
  },
  "cells": [
    {
      "cell_type": "markdown",
      "source": [
        "The launch of the BCA Green Mark scheme in 2005 formed the backbone of Singapore’s first Green Building Masterplan, which encouraged, enabled and engaged industry stakeholders in adopting new green buildings. The Green Building Masterplan, which was first rolled out in 2006, has also been continually updated since its inception. The first edition targeted new buildings, to encourage developers to embed sustainability as part of a building’s life cycle from the onset. As the Built Environment sector began to embrace the idea of sustainable buildings, BCA expanded its reach to target the greening of the larger stock of existing buildings and engage building occupants to change their energy consumption behaviour. The target is to have “at least 80% of buildings (by floor area) in Singapore to be green by 2030”."
      ],
      "metadata": {
        "id": "6mJAdVkEuCDe"
      }
    },
    {
      "cell_type": "code",
      "execution_count": null,
      "metadata": {
        "id": "Py3q1vq8ljTv"
      },
      "outputs": [],
      "source": [
        "import numpy as np\n",
        "import pandas as pd\n",
        "import matplotlib.pyplot as plt\n",
        "import seaborn as sns\n",
        "import plotly.express as px\n",
        "import plotly.graph_objects as go\n",
        "%matplotlib inline"
      ]
    },
    {
      "cell_type": "code",
      "source": [
        "from google.colab import drive\n",
        "drive.mount('/content/drive')"
      ],
      "metadata": {
        "colab": {
          "base_uri": "https://localhost:8080/"
        },
        "id": "eCv0-b_umAde",
        "outputId": "c0e52993-e9b7-4e89-afc7-a5ff6283b0bc"
      },
      "execution_count": null,
      "outputs": [
        {
          "output_type": "stream",
          "name": "stdout",
          "text": [
            "Mounted at /content/drive\n"
          ]
        }
      ]
    },
    {
      "cell_type": "code",
      "source": [
        "PATH = '/content/drive/MyDrive/listing-of-building-energy-performance-data-for-commercial-buildings.csv'"
      ],
      "metadata": {
        "id": "GqJbES5vmBF_"
      },
      "execution_count": null,
      "outputs": []
    },
    {
      "cell_type": "code",
      "source": [
        "df = pd.read_csv(PATH)\n",
        "df.head()"
      ],
      "metadata": {
        "colab": {
          "base_uri": "https://localhost:8080/",
          "height": 478
        },
        "id": "GSto38MUmpYB",
        "outputId": "b8d515a8-79d7-4490-e12c-7b5d7b69436c"
      },
      "execution_count": null,
      "outputs": [
        {
          "output_type": "execute_result",
          "data": {
            "text/plain": [
              "       buildingname                       buildingaddress       buildingtype  \\\n",
              "0          HEXACUBE     160 CHANGI ROAD, SINGAPORE 419728  Mixed Development   \n",
              "1               NaN                                   NaN             Retail   \n",
              "2  CITY SQUARE MALL  180 KITCHENER ROAD, SINGAPORE 208539             Retail   \n",
              "3    REPUBLIC PLAZA     9 RAFFLES PLACE, SINGAPORE 048619             Office   \n",
              "4      CENTRAL MALL     1 MAGAZINE ROAD, SINGAPORE 059567             Office   \n",
              "\n",
              "  greenmarkstatus greenmarkrating  greenmarkyearaward buildingsize  \\\n",
              "0              No             NaN                 NaN        Small   \n",
              "1              No             NaN                 NaN        Small   \n",
              "2             Yes        Platinum              2018.0        Large   \n",
              "3             Yes        Platinum              2018.0        Large   \n",
              "4             Yes        Platinum              2017.0        Large   \n",
              "\n",
              "  grossfloorarea  2017energyuseintensity  2018energyusintensity  \\\n",
              "0          5,036                    81.0                  105.0   \n",
              "1            NaN                   475.0                  402.0   \n",
              "2         65,640                   382.0                  365.0   \n",
              "3        102,356                   212.0                  183.0   \n",
              "4         15,769                   203.0                  181.0   \n",
              "\n",
              "  voluntarydisclosure  \n",
              "0                   Y  \n",
              "1                   N  \n",
              "2                   Y  \n",
              "3                   Y  \n",
              "4                   Y  "
            ],
            "text/html": [
              "\n",
              "  <div id=\"df-4ed59c66-45e9-4bb6-9607-68cf6480b105\">\n",
              "    <div class=\"colab-df-container\">\n",
              "      <div>\n",
              "<style scoped>\n",
              "    .dataframe tbody tr th:only-of-type {\n",
              "        vertical-align: middle;\n",
              "    }\n",
              "\n",
              "    .dataframe tbody tr th {\n",
              "        vertical-align: top;\n",
              "    }\n",
              "\n",
              "    .dataframe thead th {\n",
              "        text-align: right;\n",
              "    }\n",
              "</style>\n",
              "<table border=\"1\" class=\"dataframe\">\n",
              "  <thead>\n",
              "    <tr style=\"text-align: right;\">\n",
              "      <th></th>\n",
              "      <th>buildingname</th>\n",
              "      <th>buildingaddress</th>\n",
              "      <th>buildingtype</th>\n",
              "      <th>greenmarkstatus</th>\n",
              "      <th>greenmarkrating</th>\n",
              "      <th>greenmarkyearaward</th>\n",
              "      <th>buildingsize</th>\n",
              "      <th>grossfloorarea</th>\n",
              "      <th>2017energyuseintensity</th>\n",
              "      <th>2018energyusintensity</th>\n",
              "      <th>voluntarydisclosure</th>\n",
              "    </tr>\n",
              "  </thead>\n",
              "  <tbody>\n",
              "    <tr>\n",
              "      <th>0</th>\n",
              "      <td>HEXACUBE</td>\n",
              "      <td>160 CHANGI ROAD, SINGAPORE 419728</td>\n",
              "      <td>Mixed Development</td>\n",
              "      <td>No</td>\n",
              "      <td>NaN</td>\n",
              "      <td>NaN</td>\n",
              "      <td>Small</td>\n",
              "      <td>5,036</td>\n",
              "      <td>81.0</td>\n",
              "      <td>105.0</td>\n",
              "      <td>Y</td>\n",
              "    </tr>\n",
              "    <tr>\n",
              "      <th>1</th>\n",
              "      <td>NaN</td>\n",
              "      <td>NaN</td>\n",
              "      <td>Retail</td>\n",
              "      <td>No</td>\n",
              "      <td>NaN</td>\n",
              "      <td>NaN</td>\n",
              "      <td>Small</td>\n",
              "      <td>NaN</td>\n",
              "      <td>475.0</td>\n",
              "      <td>402.0</td>\n",
              "      <td>N</td>\n",
              "    </tr>\n",
              "    <tr>\n",
              "      <th>2</th>\n",
              "      <td>CITY SQUARE MALL</td>\n",
              "      <td>180 KITCHENER ROAD, SINGAPORE 208539</td>\n",
              "      <td>Retail</td>\n",
              "      <td>Yes</td>\n",
              "      <td>Platinum</td>\n",
              "      <td>2018.0</td>\n",
              "      <td>Large</td>\n",
              "      <td>65,640</td>\n",
              "      <td>382.0</td>\n",
              "      <td>365.0</td>\n",
              "      <td>Y</td>\n",
              "    </tr>\n",
              "    <tr>\n",
              "      <th>3</th>\n",
              "      <td>REPUBLIC PLAZA</td>\n",
              "      <td>9 RAFFLES PLACE, SINGAPORE 048619</td>\n",
              "      <td>Office</td>\n",
              "      <td>Yes</td>\n",
              "      <td>Platinum</td>\n",
              "      <td>2018.0</td>\n",
              "      <td>Large</td>\n",
              "      <td>102,356</td>\n",
              "      <td>212.0</td>\n",
              "      <td>183.0</td>\n",
              "      <td>Y</td>\n",
              "    </tr>\n",
              "    <tr>\n",
              "      <th>4</th>\n",
              "      <td>CENTRAL MALL</td>\n",
              "      <td>1 MAGAZINE ROAD, SINGAPORE 059567</td>\n",
              "      <td>Office</td>\n",
              "      <td>Yes</td>\n",
              "      <td>Platinum</td>\n",
              "      <td>2017.0</td>\n",
              "      <td>Large</td>\n",
              "      <td>15,769</td>\n",
              "      <td>203.0</td>\n",
              "      <td>181.0</td>\n",
              "      <td>Y</td>\n",
              "    </tr>\n",
              "  </tbody>\n",
              "</table>\n",
              "</div>\n",
              "      <button class=\"colab-df-convert\" onclick=\"convertToInteractive('df-4ed59c66-45e9-4bb6-9607-68cf6480b105')\"\n",
              "              title=\"Convert this dataframe to an interactive table.\"\n",
              "              style=\"display:none;\">\n",
              "        \n",
              "  <svg xmlns=\"http://www.w3.org/2000/svg\" height=\"24px\"viewBox=\"0 0 24 24\"\n",
              "       width=\"24px\">\n",
              "    <path d=\"M0 0h24v24H0V0z\" fill=\"none\"/>\n",
              "    <path d=\"M18.56 5.44l.94 2.06.94-2.06 2.06-.94-2.06-.94-.94-2.06-.94 2.06-2.06.94zm-11 1L8.5 8.5l.94-2.06 2.06-.94-2.06-.94L8.5 2.5l-.94 2.06-2.06.94zm10 10l.94 2.06.94-2.06 2.06-.94-2.06-.94-.94-2.06-.94 2.06-2.06.94z\"/><path d=\"M17.41 7.96l-1.37-1.37c-.4-.4-.92-.59-1.43-.59-.52 0-1.04.2-1.43.59L10.3 9.45l-7.72 7.72c-.78.78-.78 2.05 0 2.83L4 21.41c.39.39.9.59 1.41.59.51 0 1.02-.2 1.41-.59l7.78-7.78 2.81-2.81c.8-.78.8-2.07 0-2.86zM5.41 20L4 18.59l7.72-7.72 1.47 1.35L5.41 20z\"/>\n",
              "  </svg>\n",
              "      </button>\n",
              "      \n",
              "  <style>\n",
              "    .colab-df-container {\n",
              "      display:flex;\n",
              "      flex-wrap:wrap;\n",
              "      gap: 12px;\n",
              "    }\n",
              "\n",
              "    .colab-df-convert {\n",
              "      background-color: #E8F0FE;\n",
              "      border: none;\n",
              "      border-radius: 50%;\n",
              "      cursor: pointer;\n",
              "      display: none;\n",
              "      fill: #1967D2;\n",
              "      height: 32px;\n",
              "      padding: 0 0 0 0;\n",
              "      width: 32px;\n",
              "    }\n",
              "\n",
              "    .colab-df-convert:hover {\n",
              "      background-color: #E2EBFA;\n",
              "      box-shadow: 0px 1px 2px rgba(60, 64, 67, 0.3), 0px 1px 3px 1px rgba(60, 64, 67, 0.15);\n",
              "      fill: #174EA6;\n",
              "    }\n",
              "\n",
              "    [theme=dark] .colab-df-convert {\n",
              "      background-color: #3B4455;\n",
              "      fill: #D2E3FC;\n",
              "    }\n",
              "\n",
              "    [theme=dark] .colab-df-convert:hover {\n",
              "      background-color: #434B5C;\n",
              "      box-shadow: 0px 1px 3px 1px rgba(0, 0, 0, 0.15);\n",
              "      filter: drop-shadow(0px 1px 2px rgba(0, 0, 0, 0.3));\n",
              "      fill: #FFFFFF;\n",
              "    }\n",
              "  </style>\n",
              "\n",
              "      <script>\n",
              "        const buttonEl =\n",
              "          document.querySelector('#df-4ed59c66-45e9-4bb6-9607-68cf6480b105 button.colab-df-convert');\n",
              "        buttonEl.style.display =\n",
              "          google.colab.kernel.accessAllowed ? 'block' : 'none';\n",
              "\n",
              "        async function convertToInteractive(key) {\n",
              "          const element = document.querySelector('#df-4ed59c66-45e9-4bb6-9607-68cf6480b105');\n",
              "          const dataTable =\n",
              "            await google.colab.kernel.invokeFunction('convertToInteractive',\n",
              "                                                     [key], {});\n",
              "          if (!dataTable) return;\n",
              "\n",
              "          const docLinkHtml = 'Like what you see? Visit the ' +\n",
              "            '<a target=\"_blank\" href=https://colab.research.google.com/notebooks/data_table.ipynb>data table notebook</a>'\n",
              "            + ' to learn more about interactive tables.';\n",
              "          element.innerHTML = '';\n",
              "          dataTable['output_type'] = 'display_data';\n",
              "          await google.colab.output.renderOutput(dataTable, element);\n",
              "          const docLink = document.createElement('div');\n",
              "          docLink.innerHTML = docLinkHtml;\n",
              "          element.appendChild(docLink);\n",
              "        }\n",
              "      </script>\n",
              "    </div>\n",
              "  </div>\n",
              "  "
            ]
          },
          "metadata": {},
          "execution_count": 6
        }
      ]
    },
    {
      "cell_type": "code",
      "source": [
        "df.info()"
      ],
      "metadata": {
        "colab": {
          "base_uri": "https://localhost:8080/"
        },
        "id": "U0vDHQ6GmuPU",
        "outputId": "24887746-b8df-427b-f003-cbbc53174be9"
      },
      "execution_count": null,
      "outputs": [
        {
          "output_type": "stream",
          "name": "stdout",
          "text": [
            "<class 'pandas.core.frame.DataFrame'>\n",
            "RangeIndex: 1244 entries, 0 to 1243\n",
            "Data columns (total 11 columns):\n",
            " #   Column                  Non-Null Count  Dtype  \n",
            "---  ------                  --------------  -----  \n",
            " 0   buildingname            783 non-null    object \n",
            " 1   buildingaddress         986 non-null    object \n",
            " 2   buildingtype            1244 non-null   object \n",
            " 3   greenmarkstatus         1244 non-null   object \n",
            " 4   greenmarkrating         306 non-null    object \n",
            " 5   greenmarkyearaward      306 non-null    float64\n",
            " 6   buildingsize            1189 non-null   object \n",
            " 7   grossfloorarea          986 non-null    object \n",
            " 8   2017energyuseintensity  1224 non-null   float64\n",
            " 9   2018energyusintensity   1224 non-null   float64\n",
            " 10  voluntarydisclosure     1244 non-null   object \n",
            "dtypes: float64(3), object(8)\n",
            "memory usage: 107.0+ KB\n"
          ]
        }
      ]
    },
    {
      "cell_type": "code",
      "source": [
        "df.isnull().sum()"
      ],
      "metadata": {
        "colab": {
          "base_uri": "https://localhost:8080/"
        },
        "id": "Xm3CaFVutF-j",
        "outputId": "a3808f82-3548-4ef5-da55-f6af95b27b04"
      },
      "execution_count": null,
      "outputs": [
        {
          "output_type": "execute_result",
          "data": {
            "text/plain": [
              "buildingname              461\n",
              "buildingaddress           258\n",
              "buildingtype                0\n",
              "greenmarkstatus             0\n",
              "greenmarkrating           938\n",
              "greenmarkyearaward        938\n",
              "buildingsize               55\n",
              "grossfloorarea            258\n",
              "2017energyuseintensity     20\n",
              "2018energyusintensity      20\n",
              "voluntarydisclosure         0\n",
              "dtype: int64"
            ]
          },
          "metadata": {},
          "execution_count": 8
        }
      ]
    },
    {
      "cell_type": "code",
      "source": [
        "sns.heatmap(df.isnull())"
      ],
      "metadata": {
        "colab": {
          "base_uri": "https://localhost:8080/",
          "height": 399
        },
        "id": "0cSvRp_4tU-9",
        "outputId": "e393b9c2-742f-4a77-be64-a6ea744446eb"
      },
      "execution_count": null,
      "outputs": [
        {
          "output_type": "execute_result",
          "data": {
            "text/plain": [
              "<matplotlib.axes._subplots.AxesSubplot at 0x7f499cad7e50>"
            ]
          },
          "metadata": {},
          "execution_count": 9
        },
        {
          "output_type": "display_data",
          "data": {
            "text/plain": [
              "<Figure size 432x288 with 2 Axes>"
            ],
            "image/png": "[encoded data removed]"
          },
          "metadata": {
            "needs_background": "light"
          }
        }
      ]
    },
    {
      "cell_type": "markdown",
      "source": [
        "I think building address, energy use on 2017 and 2018 are curcial.\n",
        "So we will drop row that have null values on those columns."
      ],
      "metadata": {
        "id": "CfzqvwZawW_w"
      }
    },
    {
      "cell_type": "code",
      "source": [
        "df = df.dropna(subset = ['buildingaddress','2017energyuseintensity','2018energyusintensity']).reset_index(drop=True)"
      ],
      "metadata": {
        "id": "LWecVN8kwOrG"
      },
      "execution_count": null,
      "outputs": []
    },
    {
      "cell_type": "markdown",
      "source": [
        "Also, we don't building's name, building size (Large or Small) and Voluntary Disclosure."
      ],
      "metadata": {
        "id": "ypUVvhpIweDS"
      }
    },
    {
      "cell_type": "code",
      "source": [
        "df = df.drop(['buildingname','buildingsize','voluntarydisclosure'], axis=1).reset_index(drop=True)"
      ],
      "metadata": {
        "id": "07q-c9IrwZak"
      },
      "execution_count": null,
      "outputs": []
    },
    {
      "cell_type": "code",
      "source": [
        "df.isnull().sum()"
      ],
      "metadata": {
        "colab": {
          "base_uri": "https://localhost:8080/"
        },
        "id": "zVJjnKOjwjdF",
        "outputId": "c8761cab-b9ba-43ac-c43d-90288733b59d"
      },
      "execution_count": null,
      "outputs": [
        {
          "output_type": "execute_result",
          "data": {
            "text/plain": [
              "buildingaddress             0\n",
              "buildingtype                0\n",
              "greenmarkstatus             0\n",
              "greenmarkrating           676\n",
              "greenmarkyearaward        676\n",
              "grossfloorarea              0\n",
              "2017energyuseintensity      0\n",
              "2018energyusintensity       0\n",
              "dtype: int64"
            ]
          },
          "metadata": {},
          "execution_count": 12
        }
      ]
    },
    {
      "cell_type": "code",
      "source": [
        "#Check greenmarkrating and greenmarkyearaward.\n",
        "df[['greenmarkrating','greenmarkyearaward']]"
      ],
      "metadata": {
        "colab": {
          "base_uri": "https://localhost:8080/",
          "height": 424
        },
        "id": "vkkMHBPswnoU",
        "outputId": "cec23a80-0237-4545-bdef-4a6609c2c562"
      },
      "execution_count": null,
      "outputs": [
        {
          "output_type": "execute_result",
          "data": {
            "text/plain": [
              "    greenmarkrating  greenmarkyearaward\n",
              "0               NaN                 NaN\n",
              "1          Platinum              2018.0\n",
              "2          Platinum              2018.0\n",
              "3          Platinum              2017.0\n",
              "4              Gold              2015.0\n",
              "..              ...                 ...\n",
              "972             NaN                 NaN\n",
              "973             NaN                 NaN\n",
              "974        Platinum              2010.0\n",
              "975        Platinum              2016.0\n",
              "976             NaN                 NaN\n",
              "\n",
              "[977 rows x 2 columns]"
            ],
            "text/html": [
              "\n",
              "  <div id=\"df-34c5c5a5-fc0b-49b2-993c-0452f436c0a1\">\n",
              "    <div class=\"colab-df-container\">\n",
              "      <div>\n",
              "<style scoped>\n",
              "    .dataframe tbody tr th:only-of-type {\n",
              "        vertical-align: middle;\n",
              "    }\n",
              "\n",
              "    .dataframe tbody tr th {\n",
              "        vertical-align: top;\n",
              "    }\n",
              "\n",
              "    .dataframe thead th {\n",
              "        text-align: right;\n",
              "    }\n",
              "</style>\n",
              "<table border=\"1\" class=\"dataframe\">\n",
              "  <thead>\n",
              "    <tr style=\"text-align: right;\">\n",
              "      <th></th>\n",
              "      <th>greenmarkrating</th>\n",
              "      <th>greenmarkyearaward</th>\n",
              "    </tr>\n",
              "  </thead>\n",
              "  <tbody>\n",
              "    <tr>\n",
              "      <th>0</th>\n",
              "      <td>NaN</td>\n",
              "      <td>NaN</td>\n",
              "    </tr>\n",
              "    <tr>\n",
              "      <th>1</th>\n",
              "      <td>Platinum</td>\n",
              "      <td>2018.0</td>\n",
              "    </tr>\n",
              "    <tr>\n",
              "      <th>2</th>\n",
              "      <td>Platinum</td>\n",
              "      <td>2018.0</td>\n",
              "    </tr>\n",
              "    <tr>\n",
              "      <th>3</th>\n",
              "      <td>Platinum</td>\n",
              "      <td>2017.0</td>\n",
              "    </tr>\n",
              "    <tr>\n",
              "      <th>4</th>\n",
              "      <td>Gold</td>\n",
              "      <td>2015.0</td>\n",
              "    </tr>\n",
              "    <tr>\n",
              "      <th>...</th>\n",
              "      <td>...</td>\n",
              "      <td>...</td>\n",
              "    </tr>\n",
              "    <tr>\n",
              "      <th>972</th>\n",
              "      <td>NaN</td>\n",
              "      <td>NaN</td>\n",
              "    </tr>\n",
              "    <tr>\n",
              "      <th>973</th>\n",
              "      <td>NaN</td>\n",
              "      <td>NaN</td>\n",
              "    </tr>\n",
              "    <tr>\n",
              "      <th>974</th>\n",
              "      <td>Platinum</td>\n",
              "      <td>2010.0</td>\n",
              "    </tr>\n",
              "    <tr>\n",
              "      <th>975</th>\n",
              "      <td>Platinum</td>\n",
              "      <td>2016.0</td>\n",
              "    </tr>\n",
              "    <tr>\n",
              "      <th>976</th>\n",
              "      <td>NaN</td>\n",
              "      <td>NaN</td>\n",
              "    </tr>\n",
              "  </tbody>\n",
              "</table>\n",
              "<p>977 rows × 2 columns</p>\n",
              "</div>\n",
              "      <button class=\"colab-df-convert\" onclick=\"convertToInteractive('df-34c5c5a5-fc0b-49b2-993c-0452f436c0a1')\"\n",
              "              title=\"Convert this dataframe to an interactive table.\"\n",
              "              style=\"display:none;\">\n",
              "        \n",
              "  <svg xmlns=\"http://www.w3.org/2000/svg\" height=\"24px\"viewBox=\"0 0 24 24\"\n",
              "       width=\"24px\">\n",
              "    <path d=\"M0 0h24v24H0V0z\" fill=\"none\"/>\n",
              "    <path d=\"M18.56 5.44l.94 2.06.94-2.06 2.06-.94-2.06-.94-.94-2.06-.94 2.06-2.06.94zm-11 1L8.5 8.5l.94-2.06 2.06-.94-2.06-.94L8.5 2.5l-.94 2.06-2.06.94zm10 10l.94 2.06.94-2.06 2.06-.94-2.06-.94-.94-2.06-.94 2.06-2.06.94z\"/><path d=\"M17.41 7.96l-1.37-1.37c-.4-.4-.92-.59-1.43-.59-.52 0-1.04.2-1.43.59L10.3 9.45l-7.72 7.72c-.78.78-.78 2.05 0 2.83L4 21.41c.39.39.9.59 1.41.59.51 0 1.02-.2 1.41-.59l7.78-7.78 2.81-2.81c.8-.78.8-2.07 0-2.86zM5.41 20L4 18.59l7.72-7.72 1.47 1.35L5.41 20z\"/>\n",
              "  </svg>\n",
              "      </button>\n",
              "      \n",
              "  <style>\n",
              "    .colab-df-container {\n",
              "      display:flex;\n",
              "      flex-wrap:wrap;\n",
              "      gap: 12px;\n",
              "    }\n",
              "\n",
              "    .colab-df-convert {\n",
              "      background-color: #E8F0FE;\n",
              "      border: none;\n",
              "      border-radius: 50%;\n",
              "      cursor: pointer;\n",
              "      display: none;\n",
              "      fill: #1967D2;\n",
              "      height: 32px;\n",
              "      padding: 0 0 0 0;\n",
              "      width: 32px;\n",
              "    }\n",
              "\n",
              "    .colab-df-convert:hover {\n",
              "      background-color: #E2EBFA;\n",
              "      box-shadow: 0px 1px 2px rgba(60, 64, 67, 0.3), 0px 1px 3px 1px rgba(60, 64, 67, 0.15);\n",
              "      fill: #174EA6;\n",
              "    }\n",
              "\n",
              "    [theme=dark] .colab-df-convert {\n",
              "      background-color: #3B4455;\n",
              "      fill: #D2E3FC;\n",
              "    }\n",
              "\n",
              "    [theme=dark] .colab-df-convert:hover {\n",
              "      background-color: #434B5C;\n",
              "      box-shadow: 0px 1px 3px 1px rgba(0, 0, 0, 0.15);\n",
              "      filter: drop-shadow(0px 1px 2px rgba(0, 0, 0, 0.3));\n",
              "      fill: #FFFFFF;\n",
              "    }\n",
              "  </style>\n",
              "\n",
              "      <script>\n",
              "        const buttonEl =\n",
              "          document.querySelector('#df-34c5c5a5-fc0b-49b2-993c-0452f436c0a1 button.colab-df-convert');\n",
              "        buttonEl.style.display =\n",
              "          google.colab.kernel.accessAllowed ? 'block' : 'none';\n",
              "\n",
              "        async function convertToInteractive(key) {\n",
              "          const element = document.querySelector('#df-34c5c5a5-fc0b-49b2-993c-0452f436c0a1');\n",
              "          const dataTable =\n",
              "            await google.colab.kernel.invokeFunction('convertToInteractive',\n",
              "                                                     [key], {});\n",
              "          if (!dataTable) return;\n",
              "\n",
              "          const docLinkHtml = 'Like what you see? Visit the ' +\n",
              "            '<a target=\"_blank\" href=https://colab.research.google.com/notebooks/data_table.ipynb>data table notebook</a>'\n",
              "            + ' to learn more about interactive tables.';\n",
              "          element.innerHTML = '';\n",
              "          dataTable['output_type'] = 'display_data';\n",
              "          await google.colab.output.renderOutput(dataTable, element);\n",
              "          const docLink = document.createElement('div');\n",
              "          docLink.innerHTML = docLinkHtml;\n",
              "          element.appendChild(docLink);\n",
              "        }\n",
              "      </script>\n",
              "    </div>\n",
              "  </div>\n",
              "  "
            ]
          },
          "metadata": {},
          "execution_count": 13
        }
      ]
    },
    {
      "cell_type": "markdown",
      "source": [
        "So every greenmarkrating's value is null, greenmarkyearaward also null.\n",
        "We can leave them now.\n",
        "Next, we are going to extract address to get postal code."
      ],
      "metadata": {
        "id": "Muq_q1KlwwfB"
      }
    },
    {
      "cell_type": "code",
      "source": [
        "def splitpostalcode(address):\n",
        "    code = address.split(', ')[1].split(' ')[1]\n",
        "    return code"
      ],
      "metadata": {
        "id": "c03jDVndwuQs"
      },
      "execution_count": null,
      "outputs": []
    },
    {
      "cell_type": "code",
      "source": [
        "df['postalcode'] = df['buildingaddress'].apply(lambda x : splitpostalcode(x))"
      ],
      "metadata": {
        "id": "DGK-Qkguwyfw"
      },
      "execution_count": null,
      "outputs": []
    },
    {
      "cell_type": "code",
      "source": [
        "df['postalcode']"
      ],
      "metadata": {
        "colab": {
          "base_uri": "https://localhost:8080/"
        },
        "id": "zzYkmLzFw0O0",
        "outputId": "b3505665-844b-403f-f8af-29d6d0bc068b"
      },
      "execution_count": null,
      "outputs": [
        {
          "output_type": "execute_result",
          "data": {
            "text/plain": [
              "0      419728\n",
              "1      208539\n",
              "2      048619\n",
              "3      059567\n",
              "4      437157\n",
              "        ...  \n",
              "972    048942\n",
              "973    088542\n",
              "974    188306\n",
              "975    449269\n",
              "976    609922\n",
              "Name: postalcode, Length: 977, dtype: object"
            ]
          },
          "metadata": {},
          "execution_count": 16
        }
      ]
    },
    {
      "cell_type": "code",
      "source": [
        "#Change grossfloorarea type\n",
        "df['grossfloorarea'] = df['grossfloorarea'].str.replace(',','').astype(int)"
      ],
      "metadata": {
        "id": "goeNTW6Pw126"
      },
      "execution_count": null,
      "outputs": []
    },
    {
      "cell_type": "markdown",
      "source": [
        "Actually a little typo on columns name and value in building type ('Univerisity')"
      ],
      "metadata": {
        "id": "iV9-Xa9Ay0qx"
      }
    },
    {
      "cell_type": "code",
      "source": [
        "df['buildingtype'].unique()"
      ],
      "metadata": {
        "colab": {
          "base_uri": "https://localhost:8080/"
        },
        "id": "mque5nsKw6-_",
        "outputId": "be38535f-4e91-4d72-ec8b-e7f107324e98"
      },
      "execution_count": null,
      "outputs": [
        {
          "output_type": "execute_result",
          "data": {
            "text/plain": [
              "array(['Mixed Development', 'Retail', 'Office', 'Hotel',\n",
              "       'Community Hospital', 'Private Clinic', 'Polytechnic',\n",
              "       'General Hospital/ Specialist Centre (Public)', 'Nursing Home',\n",
              "       'Private School', 'Univerisity', 'Specialist Centre (Public)',\n",
              "       'TCM Clinic', 'ITE', 'Private Hospital (Private)',\n",
              "       'Private College', 'Polyclinic'], dtype=object)"
            ]
          },
          "metadata": {},
          "execution_count": 18
        }
      ]
    },
    {
      "cell_type": "code",
      "source": [
        "df['buildingtype'] = df['buildingtype'].apply(lambda x : 'University' if x == 'Univerisity' else x)"
      ],
      "metadata": {
        "id": "ATyLs9WWy3Iu"
      },
      "execution_count": null,
      "outputs": []
    },
    {
      "cell_type": "code",
      "source": [
        "df = df.rename(columns={'2018energyusintensity':'2018energyuseintensity'})\n",
        "df"
      ],
      "metadata": {
        "colab": {
          "base_uri": "https://localhost:8080/",
          "height": 537
        },
        "id": "-vvLe46uy5zs",
        "outputId": "5d04339b-7cb8-4239-9f6a-86cdc28e2a5d"
      },
      "execution_count": null,
      "outputs": [
        {
          "output_type": "execute_result",
          "data": {
            "text/plain": [
              "                                      buildingaddress       buildingtype  \\\n",
              "0                   160 CHANGI ROAD, SINGAPORE 419728  Mixed Development   \n",
              "1                180 KITCHENER ROAD, SINGAPORE 208539             Retail   \n",
              "2                   9 RAFFLES PLACE, SINGAPORE 048619             Office   \n",
              "3                   1 MAGAZINE ROAD, SINGAPORE 059567             Office   \n",
              "4            11 TANJONG KATONG ROAD, SINGAPORE 437157             Retail   \n",
              "..                                                ...                ...   \n",
              "972                63 MARKET STREET, SINGAPORE 048942             Office   \n",
              "973          260 TANJONG PAGAR ROAD, SINGAPORE 088542             Office   \n",
              "974                  1 SELEGIE ROAD, SINGAPORE 188306     Private School   \n",
              "975           80 MARINE PARADE ROAD, SINGAPORE 449269             Office   \n",
              "976  14 INTERNATIONAL BUSINESS PARK, SINGAPORE 609922             Office   \n",
              "\n",
              "    greenmarkstatus greenmarkrating  greenmarkyearaward  grossfloorarea  \\\n",
              "0                No             NaN                 NaN            5036   \n",
              "1               Yes        Platinum              2018.0           65640   \n",
              "2               Yes        Platinum              2018.0          102356   \n",
              "3               Yes        Platinum              2017.0           15769   \n",
              "4               Yes            Gold              2015.0           28938   \n",
              "..              ...             ...                 ...             ...   \n",
              "972              No             NaN                 NaN           18275   \n",
              "973              No             NaN                 NaN            4024   \n",
              "974             Yes        Platinum              2010.0           21832   \n",
              "975             Yes        Platinum              2016.0           99012   \n",
              "976              No             NaN                 NaN            8838   \n",
              "\n",
              "     2017energyuseintensity  2018energyuseintensity postalcode  \n",
              "0                      81.0                   105.0     419728  \n",
              "1                     382.0                   365.0     208539  \n",
              "2                     212.0                   183.0     048619  \n",
              "3                     203.0                   181.0     059567  \n",
              "4                     431.0                   396.0     437157  \n",
              "..                      ...                     ...        ...  \n",
              "972                   456.0                   458.0     048942  \n",
              "973                   155.0                   160.0     088542  \n",
              "974                   288.0                   261.0     188306  \n",
              "975                   326.0                   330.0     449269  \n",
              "976                   213.0                   191.0     609922  \n",
              "\n",
              "[977 rows x 9 columns]"
            ],
            "text/html": [
              "\n",
              "  <div id=\"df-8688c728-d58d-4ce2-9d5d-9c9efbd05f69\">\n",
              "    <div class=\"colab-df-container\">\n",
              "      <div>\n",
              "<style scoped>\n",
              "    .dataframe tbody tr th:only-of-type {\n",
              "        vertical-align: middle;\n",
              "    }\n",
              "\n",
              "    .dataframe tbody tr th {\n",
              "        vertical-align: top;\n",
              "    }\n",
              "\n",
              "    .dataframe thead th {\n",
              "        text-align: right;\n",
              "    }\n",
              "</style>\n",
              "<table border=\"1\" class=\"dataframe\">\n",
              "  <thead>\n",
              "    <tr style=\"text-align: right;\">\n",
              "      <th></th>\n",
              "      <th>buildingaddress</th>\n",
              "      <th>buildingtype</th>\n",
              "      <th>greenmarkstatus</th>\n",
              "      <th>greenmarkrating</th>\n",
              "      <th>greenmarkyearaward</th>\n",
              "      <th>grossfloorarea</th>\n",
              "      <th>2017energyuseintensity</th>\n",
              "      <th>2018energyuseintensity</th>\n",
              "      <th>postalcode</th>\n",
              "    </tr>\n",
              "  </thead>\n",
              "  <tbody>\n",
              "    <tr>\n",
              "      <th>0</th>\n",
              "      <td>160 CHANGI ROAD, SINGAPORE 419728</td>\n",
              "      <td>Mixed Development</td>\n",
              "      <td>No</td>\n",
              "      <td>NaN</td>\n",
              "      <td>NaN</td>\n",
              "      <td>5036</td>\n",
              "      <td>81.0</td>\n",
              "      <td>105.0</td>\n",
              "      <td>419728</td>\n",
              "    </tr>\n",
              "    <tr>\n",
              "      <th>1</th>\n",
              "      <td>180 KITCHENER ROAD, SINGAPORE 208539</td>\n",
              "      <td>Retail</td>\n",
              "      <td>Yes</td>\n",
              "      <td>Platinum</td>\n",
              "      <td>2018.0</td>\n",
              "      <td>65640</td>\n",
              "      <td>382.0</td>\n",
              "      <td>365.0</td>\n",
              "      <td>208539</td>\n",
              "    </tr>\n",
              "    <tr>\n",
              "      <th>2</th>\n",
              "      <td>9 RAFFLES PLACE, SINGAPORE 048619</td>\n",
              "      <td>Office</td>\n",
              "      <td>Yes</td>\n",
              "      <td>Platinum</td>\n",
              "      <td>2018.0</td>\n",
              "      <td>102356</td>\n",
              "      <td>212.0</td>\n",
              "      <td>183.0</td>\n",
              "      <td>048619</td>\n",
              "    </tr>\n",
              "    <tr>\n",
              "      <th>3</th>\n",
              "      <td>1 MAGAZINE ROAD, SINGAPORE 059567</td>\n",
              "      <td>Office</td>\n",
              "      <td>Yes</td>\n",
              "      <td>Platinum</td>\n",
              "      <td>2017.0</td>\n",
              "      <td>15769</td>\n",
              "      <td>203.0</td>\n",
              "      <td>181.0</td>\n",
              "      <td>059567</td>\n",
              "    </tr>\n",
              "    <tr>\n",
              "      <th>4</th>\n",
              "      <td>11 TANJONG KATONG ROAD, SINGAPORE 437157</td>\n",
              "      <td>Retail</td>\n",
              "      <td>Yes</td>\n",
              "      <td>Gold</td>\n",
              "      <td>2015.0</td>\n",
              "      <td>28938</td>\n",
              "      <td>431.0</td>\n",
              "      <td>396.0</td>\n",
              "      <td>437157</td>\n",
              "    </tr>\n",
              "    <tr>\n",
              "      <th>...</th>\n",
              "      <td>...</td>\n",
              "      <td>...</td>\n",
              "      <td>...</td>\n",
              "      <td>...</td>\n",
              "      <td>...</td>\n",
              "      <td>...</td>\n",
              "      <td>...</td>\n",
              "      <td>...</td>\n",
              "      <td>...</td>\n",
              "    </tr>\n",
              "    <tr>\n",
              "      <th>972</th>\n",
              "      <td>63 MARKET STREET, SINGAPORE 048942</td>\n",
              "      <td>Office</td>\n",
              "      <td>No</td>\n",
              "      <td>NaN</td>\n",
              "      <td>NaN</td>\n",
              "      <td>18275</td>\n",
              "      <td>456.0</td>\n",
              "      <td>458.0</td>\n",
              "      <td>048942</td>\n",
              "    </tr>\n",
              "    <tr>\n",
              "      <th>973</th>\n",
              "      <td>260 TANJONG PAGAR ROAD, SINGAPORE 088542</td>\n",
              "      <td>Office</td>\n",
              "      <td>No</td>\n",
              "      <td>NaN</td>\n",
              "      <td>NaN</td>\n",
              "      <td>4024</td>\n",
              "      <td>155.0</td>\n",
              "      <td>160.0</td>\n",
              "      <td>088542</td>\n",
              "    </tr>\n",
              "    <tr>\n",
              "      <th>974</th>\n",
              "      <td>1 SELEGIE ROAD, SINGAPORE 188306</td>\n",
              "      <td>Private School</td>\n",
              "      <td>Yes</td>\n",
              "      <td>Platinum</td>\n",
              "      <td>2010.0</td>\n",
              "      <td>21832</td>\n",
              "      <td>288.0</td>\n",
              "      <td>261.0</td>\n",
              "      <td>188306</td>\n",
              "    </tr>\n",
              "    <tr>\n",
              "      <th>975</th>\n",
              "      <td>80 MARINE PARADE ROAD, SINGAPORE 449269</td>\n",
              "      <td>Office</td>\n",
              "      <td>Yes</td>\n",
              "      <td>Platinum</td>\n",
              "      <td>2016.0</td>\n",
              "      <td>99012</td>\n",
              "      <td>326.0</td>\n",
              "      <td>330.0</td>\n",
              "      <td>449269</td>\n",
              "    </tr>\n",
              "    <tr>\n",
              "      <th>976</th>\n",
              "      <td>14 INTERNATIONAL BUSINESS PARK, SINGAPORE 609922</td>\n",
              "      <td>Office</td>\n",
              "      <td>No</td>\n",
              "      <td>NaN</td>\n",
              "      <td>NaN</td>\n",
              "      <td>8838</td>\n",
              "      <td>213.0</td>\n",
              "      <td>191.0</td>\n",
              "      <td>609922</td>\n",
              "    </tr>\n",
              "  </tbody>\n",
              "</table>\n",
              "<p>977 rows × 9 columns</p>\n",
              "</div>\n",
              "      <button class=\"colab-df-convert\" onclick=\"convertToInteractive('df-8688c728-d58d-4ce2-9d5d-9c9efbd05f69')\"\n",
              "              title=\"Convert this dataframe to an interactive table.\"\n",
              "              style=\"display:none;\">\n",
              "        \n",
              "  <svg xmlns=\"http://www.w3.org/2000/svg\" height=\"24px\"viewBox=\"0 0 24 24\"\n",
              "       width=\"24px\">\n",
              "    <path d=\"M0 0h24v24H0V0z\" fill=\"none\"/>\n",
              "    <path d=\"M18.56 5.44l.94 2.06.94-2.06 2.06-.94-2.06-.94-.94-2.06-.94 2.06-2.06.94zm-11 1L8.5 8.5l.94-2.06 2.06-.94-2.06-.94L8.5 2.5l-.94 2.06-2.06.94zm10 10l.94 2.06.94-2.06 2.06-.94-2.06-.94-.94-2.06-.94 2.06-2.06.94z\"/><path d=\"M17.41 7.96l-1.37-1.37c-.4-.4-.92-.59-1.43-.59-.52 0-1.04.2-1.43.59L10.3 9.45l-7.72 7.72c-.78.78-.78 2.05 0 2.83L4 21.41c.39.39.9.59 1.41.59.51 0 1.02-.2 1.41-.59l7.78-7.78 2.81-2.81c.8-.78.8-2.07 0-2.86zM5.41 20L4 18.59l7.72-7.72 1.47 1.35L5.41 20z\"/>\n",
              "  </svg>\n",
              "      </button>\n",
              "      \n",
              "  <style>\n",
              "    .colab-df-container {\n",
              "      display:flex;\n",
              "      flex-wrap:wrap;\n",
              "      gap: 12px;\n",
              "    }\n",
              "\n",
              "    .colab-df-convert {\n",
              "      background-color: #E8F0FE;\n",
              "      border: none;\n",
              "      border-radius: 50%;\n",
              "      cursor: pointer;\n",
              "      display: none;\n",
              "      fill: #1967D2;\n",
              "      height: 32px;\n",
              "      padding: 0 0 0 0;\n",
              "      width: 32px;\n",
              "    }\n",
              "\n",
              "    .colab-df-convert:hover {\n",
              "      background-color: #E2EBFA;\n",
              "      box-shadow: 0px 1px 2px rgba(60, 64, 67, 0.3), 0px 1px 3px 1px rgba(60, 64, 67, 0.15);\n",
              "      fill: #174EA6;\n",
              "    }\n",
              "\n",
              "    [theme=dark] .colab-df-convert {\n",
              "      background-color: #3B4455;\n",
              "      fill: #D2E3FC;\n",
              "    }\n",
              "\n",
              "    [theme=dark] .colab-df-convert:hover {\n",
              "      background-color: #434B5C;\n",
              "      box-shadow: 0px 1px 3px 1px rgba(0, 0, 0, 0.15);\n",
              "      filter: drop-shadow(0px 1px 2px rgba(0, 0, 0, 0.3));\n",
              "      fill: #FFFFFF;\n",
              "    }\n",
              "  </style>\n",
              "\n",
              "      <script>\n",
              "        const buttonEl =\n",
              "          document.querySelector('#df-8688c728-d58d-4ce2-9d5d-9c9efbd05f69 button.colab-df-convert');\n",
              "        buttonEl.style.display =\n",
              "          google.colab.kernel.accessAllowed ? 'block' : 'none';\n",
              "\n",
              "        async function convertToInteractive(key) {\n",
              "          const element = document.querySelector('#df-8688c728-d58d-4ce2-9d5d-9c9efbd05f69');\n",
              "          const dataTable =\n",
              "            await google.colab.kernel.invokeFunction('convertToInteractive',\n",
              "                                                     [key], {});\n",
              "          if (!dataTable) return;\n",
              "\n",
              "          const docLinkHtml = 'Like what you see? Visit the ' +\n",
              "            '<a target=\"_blank\" href=https://colab.research.google.com/notebooks/data_table.ipynb>data table notebook</a>'\n",
              "            + ' to learn more about interactive tables.';\n",
              "          element.innerHTML = '';\n",
              "          dataTable['output_type'] = 'display_data';\n",
              "          await google.colab.output.renderOutput(dataTable, element);\n",
              "          const docLink = document.createElement('div');\n",
              "          docLink.innerHTML = docLinkHtml;\n",
              "          element.appendChild(docLink);\n",
              "        }\n",
              "      </script>\n",
              "    </div>\n",
              "  </div>\n",
              "  "
            ]
          },
          "metadata": {},
          "execution_count": 20
        }
      ]
    },
    {
      "cell_type": "code",
      "source": [
        "df.to_csv('data.csv')\n",
        "!cp data.csv \"drive/My Drive/\""
      ],
      "metadata": {
        "id": "jUzjXoaRy7_U"
      },
      "execution_count": null,
      "outputs": []
    },
    {
      "cell_type": "markdown",
      "source": [
        "# Visualization"
      ],
      "metadata": {
        "id": "0oULSvFfzBGa"
      }
    },
    {
      "cell_type": "markdown",
      "source": [
        "Create Variable for colors and def newLegend for change name on legend"
      ],
      "metadata": {
        "id": "T3YSNsjmzDiq"
      }
    },
    {
      "cell_type": "code",
      "source": [
        "color_2_types = ['DarkGray','LawnGreen']\n",
        "color_rating = dict(Certified='DarkGreen', Legislated='Red', Gold='Gold', GoldPlus='DarkGoldenRod', NotCertified='Black', Platinum='#e5e4e2')"
      ],
      "metadata": {
        "id": "GJdVWQ7hzFYU"
      },
      "execution_count": null,
      "outputs": []
    },
    {
      "cell_type": "code",
      "source": [
        "def newLegend(fig, newNames):\n",
        "    for item in newNames:\n",
        "        for i, elem in enumerate(fig.data[0].labels):\n",
        "            if elem == item:\n",
        "                fig.data[0].labels[i] = newNames[item]\n",
        "    return(fig)"
      ],
      "metadata": {
        "id": "-7GZXhDpzG5K"
      },
      "execution_count": null,
      "outputs": []
    },
    {
      "cell_type": "code",
      "source": [
        "fig = px.pie(df, \n",
        "             names='greenmarkstatus',\n",
        "             color_discrete_sequence=color_2_types, \n",
        "             title='Composition Green Building in Singapore', \n",
        "            )\n",
        "\n",
        "fig.update_traces(textposition='inside', \n",
        "                  textinfo='percent+label+value',\n",
        "                  textfont_size=16, \n",
        "                  showlegend=False,\n",
        "                  )\n",
        "\n",
        "fig = newLegend(fig = fig, \n",
        "                newNames = dict(No='Normal Building',\n",
        "                                Yes='GreenBuilding',\n",
        "                               )\n",
        "               )\n",
        "fig.show()"
      ],
      "metadata": {
        "colab": {
          "base_uri": "https://localhost:8080/",
          "height": 542
        },
        "id": "MXPrQemRzI78",
        "outputId": "4c9cb193-1f04-439f-e76d-45f736f557e4"
      },
      "execution_count": null,
      "outputs": [
        {
          "output_type": "display_data",
          "data": {
            "text/html": [
              "<html>\n",
              "<head><meta charset=\"utf-8\" /></head>\n",
              "<body>\n",
              "    <div>            <script src=\"https://cdnjs.cloudflare.com/ajax/libs/mathjax/2.7.5/MathJax.js?config=TeX-AMS-MML_SVG\"></script><script type=\"text/javascript\">if (window.MathJax) {MathJax.Hub.Config({SVG: {font: \"STIX-Web\"}});}</script>                <script type=\"text/javascript\">window.PlotlyConfig = {MathJaxConfig: 'local'};</script>\n",
              "        <script src=\"https://cdn.plot.ly/plotly-2.8.3.min.js\"></script>                <div id=\"8adb7e10-40bb-4792-a594-94c4b5cf797d\" class=\"plotly-graph-div\" style=\"height:525px; width:100%;\"></div>            <script type=\"text/javascript\">                                    window.PLOTLYENV=window.PLOTLYENV || {};                                    if (document.getElementById(\"8adb7e10-40bb-4792-a594-94c4b5cf797d\")) {                    Plotly.newPlot(                        \"8adb7e10-40bb-4792-a594-94c4b5cf797d\",                        [{\"domain\":{\"x\":[0.0,1.0],\"y\":[0.0,1.0]},\"hovertemplate\":\"greenmarkstatus=%{label}<extra></extra>\",\"labels\":[\"Normal Building\",\"GreenBuilding\",\"GreenBuilding\",\"GreenBuilding\",\"GreenBuilding\",\"Normal Building\",\"Normal Building\",\"Normal Building\",\"Normal Building\",\"Normal Building\",\"Normal Building\",\"Normal Building\",\"Normal Building\",\"Normal Building\",\"Normal Building\",\"Normal Building\",\"GreenBuilding\",\"Normal Building\",\"Normal Building\",\"Normal Building\",\"Normal Building\",\"Normal Building\",\"Normal Building\",\"Normal Building\",\"Normal Building\",\"GreenBuilding\",\"Normal Building\",\"Normal Building\",\"Normal Building\",\"Normal Building\",\"Normal Building\",\"Normal Building\",\"Normal Building\",\"Normal Building\",\"Normal Building\",\"Normal Building\",\"GreenBuilding\",\"Normal Building\",\"Normal Building\",\"Normal Building\",\"Normal Building\",\"Normal Building\",\"Normal Building\",\"GreenBuilding\",\"GreenBuilding\",\"GreenBuilding\",\"GreenBuilding\",\"Normal Building\",\"Normal Building\",\"Normal Building\",\"GreenBuilding\",\"Normal Building\",\"Normal Building\",\"GreenBuilding\",\"GreenBuilding\",\"Normal Building\",\"GreenBuilding\",\"Normal Building\",\"Normal Building\",\"Normal Building\",\"Normal Building\",\"Normal Building\",\"Normal Building\",\"Normal Building\",\"GreenBuilding\",\"GreenBuilding\",\"Normal Building\",\"Normal Building\",\"Normal Building\",\"Normal Building\",\"Normal Building\",\"Normal Building\",\"GreenBuilding\",\"GreenBuilding\",\"Normal Building\",\"Normal Building\",\"Normal Building\",\"Normal Building\",\"Normal Building\",\"GreenBuilding\",\"GreenBuilding\",\"GreenBuilding\",\"Normal Building\",\"GreenBuilding\",\"Normal Building\",\"Normal Building\",\"Normal Building\",\"Normal Building\",\"Normal Building\",\"GreenBuilding\",\"Normal Building\",\"GreenBuilding\",\"Normal Building\",\"Normal Building\",\"GreenBuilding\",\"Normal Building\",\"Normal Building\",\"Normal Building\",\"Normal Building\",\"GreenBuilding\",\"GreenBuilding\",\"Normal Building\",\"GreenBuilding\",\"Normal Building\",\"GreenBuilding\",\"GreenBuilding\",\"Normal Building\",\"GreenBuilding\",\"GreenBuilding\",\"GreenBuilding\",\"GreenBuilding\",\"GreenBuilding\",\"Normal Building\",\"Normal Building\",\"GreenBuilding\",\"GreenBuilding\",\"Normal Building\",\"Normal Building\",\"Normal Building\",\"GreenBuilding\",\"Normal Building\",\"Normal Building\",\"Normal Building\",\"GreenBuilding\",\"Normal Building\",\"Normal Building\",\"Normal Building\",\"Normal Building\",\"GreenBuilding\",\"Normal Building\",\"Normal Building\",\"Normal Building\",\"Normal Building\",\"GreenBuilding\",\"GreenBuilding\",\"GreenBuilding\",\"Normal Building\",\"GreenBuilding\",\"Normal Building\",\"Normal Building\",\"Normal Building\",\"Normal Building\",\"GreenBuilding\",\"Normal Building\",\"Normal Building\",\"Normal Building\",\"GreenBuilding\",\"GreenBuilding\",\"GreenBuilding\",\"Normal Building\",\"GreenBuilding\",\"Normal Building\",\"Normal Building\",\"GreenBuilding\",\"Normal Building\",\"GreenBuilding\",\"Normal Building\",\"Normal Building\",\"Normal Building\",\"Normal Building\",\"Normal Building\",\"Normal Building\",\"GreenBuilding\",\"Normal Building\",\"Normal Building\",\"GreenBuilding\",\"Normal Building\",\"GreenBuilding\",\"Normal Building\",\"Normal Building\",\"GreenBuilding\",\"Normal Building\",\"Normal Building\",\"GreenBuilding\",\"GreenBuilding\",\"Normal Building\",\"Normal Building\",\"Normal Building\",\"GreenBuilding\",\"GreenBuilding\",\"Normal Building\",\"Normal Building\",\"Normal Building\",\"Normal Building\",\"GreenBuilding\",\"Normal Building\",\"Normal Building\",\"GreenBuilding\",\"Normal Building\",\"Normal Building\",\"Normal Building\",\"Normal Building\",\"Normal Building\",\"Normal Building\",\"Normal Building\",\"Normal Building\",\"GreenBuilding\",\"Normal Building\",\"Normal Building\",\"Normal Building\",\"Normal Building\",\"Normal Building\",\"Normal Building\",\"Normal Building\",\"GreenBuilding\",\"Normal Building\",\"Normal Building\",\"Normal Building\",\"Normal Building\",\"Normal Building\",\"GreenBuilding\",\"Normal Building\",\"Normal Building\",\"Normal Building\",\"GreenBuilding\",\"GreenBuilding\",\"Normal Building\",\"Normal Building\",\"Normal Building\",\"Normal Building\",\"Normal Building\",\"Normal Building\",\"GreenBuilding\",\"Normal Building\",\"Normal Building\",\"Normal Building\",\"Normal Building\",\"Normal Building\",\"Normal Building\",\"Normal Building\",\"Normal Building\",\"Normal Building\",\"Normal Building\",\"Normal Building\",\"Normal Building\",\"Normal Building\",\"Normal Building\",\"GreenBuilding\",\"Normal Building\",\"Normal Building\",\"Normal Building\",\"Normal Building\",\"Normal Building\",\"Normal Building\",\"Normal Building\",\"GreenBuilding\",\"GreenBuilding\",\"GreenBuilding\",\"Normal Building\",\"Normal Building\",\"GreenBuilding\",\"Normal Building\",\"Normal Building\",\"Normal Building\",\"Normal Building\",\"GreenBuilding\",\"Normal Building\",\"Normal Building\",\"Normal Building\",\"GreenBuilding\",\"Normal Building\",\"Normal Building\",\"Normal Building\",\"GreenBuilding\",\"Normal Building\",\"Normal Building\",\"GreenBuilding\",\"Normal Building\",\"Normal Building\",\"Normal Building\",\"Normal Building\",\"Normal Building\",\"Normal Building\",\"Normal Building\",\"Normal Building\",\"Normal Building\",\"Normal Building\",\"Normal Building\",\"Normal Building\",\"Normal Building\",\"Normal Building\",\"GreenBuilding\",\"GreenBuilding\",\"GreenBuilding\",\"Normal Building\",\"Normal Building\",\"GreenBuilding\",\"Normal Building\",\"Normal Building\",\"Normal Building\",\"Normal Building\",\"Normal Building\",\"Normal Building\",\"Normal Building\",\"Normal Building\",\"Normal Building\",\"Normal Building\",\"Normal Building\",\"Normal Building\",\"Normal Building\",\"Normal Building\",\"Normal Building\",\"Normal Building\",\"Normal Building\",\"Normal Building\",\"Normal Building\",\"Normal Building\",\"GreenBuilding\",\"GreenBuilding\",\"Normal Building\",\"Normal Building\",\"Normal Building\",\"Normal Building\",\"Normal Building\",\"GreenBuilding\",\"Normal Building\",\"GreenBuilding\",\"GreenBuilding\",\"GreenBuilding\",\"Normal Building\",\"Normal Building\",\"Normal Building\",\"Normal Building\",\"Normal Building\",\"GreenBuilding\",\"Normal Building\",\"Normal Building\",\"GreenBuilding\",\"GreenBuilding\",\"GreenBuilding\",\"GreenBuilding\",\"GreenBuilding\",\"GreenBuilding\",\"Normal Building\",\"GreenBuilding\",\"Normal Building\",\"Normal Building\",\"Normal Building\",\"Normal Building\",\"GreenBuilding\",\"GreenBuilding\",\"Normal Building\",\"GreenBuilding\",\"GreenBuilding\",\"Normal Building\",\"Normal Building\",\"GreenBuilding\",\"Normal Building\",\"GreenBuilding\",\"GreenBuilding\",\"GreenBuilding\",\"Normal Building\",\"Normal Building\",\"Normal Building\",\"Normal Building\",\"Normal Building\",\"Normal Building\",\"GreenBuilding\",\"Normal Building\",\"Normal Building\",\"GreenBuilding\",\"GreenBuilding\",\"GreenBuilding\",\"GreenBuilding\",\"GreenBuilding\",\"Normal Building\",\"GreenBuilding\",\"Normal Building\",\"Normal Building\",\"Normal Building\",\"Normal Building\",\"GreenBuilding\",\"GreenBuilding\",\"GreenBuilding\",\"GreenBuilding\",\"Normal Building\",\"GreenBuilding\",\"GreenBuilding\",\"Normal Building\",\"Normal Building\",\"GreenBuilding\",\"Normal Building\",\"Normal Building\",\"Normal Building\",\"Normal Building\",\"GreenBuilding\",\"GreenBuilding\",\"Normal Building\",\"Normal Building\",\"Normal Building\",\"GreenBuilding\",\"GreenBuilding\",\"Normal Building\",\"Normal Building\",\"Normal Building\",\"Normal Building\",\"Normal Building\",\"Normal Building\",\"Normal Building\",\"GreenBuilding\",\"Normal Building\",\"Normal Building\",\"Normal Building\",\"Normal Building\",\"Normal Building\",\"Normal Building\",\"Normal Building\",\"GreenBuilding\",\"Normal Building\",\"GreenBuilding\",\"Normal Building\",\"Normal Building\",\"GreenBuilding\",\"Normal Building\",\"Normal Building\",\"GreenBuilding\",\"Normal Building\",\"Normal Building\",\"Normal Building\",\"Normal Building\",\"Normal Building\",\"Normal Building\",\"Normal Building\",\"GreenBuilding\",\"Normal Building\",\"Normal Building\",\"Normal Building\",\"Normal Building\",\"GreenBuilding\",\"Normal Building\",\"Normal Building\",\"Normal Building\",\"Normal Building\",\"GreenBuilding\",\"Normal Building\",\"Normal Building\",\"Normal Building\",\"GreenBuilding\",\"Normal Building\",\"GreenBuilding\",\"Normal Building\",\"Normal Building\",\"Normal Building\",\"GreenBuilding\",\"GreenBuilding\",\"GreenBuilding\",\"GreenBuilding\",\"Normal Building\",\"Normal Building\",\"Normal Building\",\"Normal Building\",\"Normal Building\",\"Normal Building\",\"Normal Building\",\"Normal Building\",\"Normal Building\",\"Normal Building\",\"Normal Building\",\"GreenBuilding\",\"GreenBuilding\",\"GreenBuilding\",\"GreenBuilding\",\"Normal Building\",\"GreenBuilding\",\"Normal Building\",\"Normal Building\",\"Normal Building\",\"Normal Building\",\"GreenBuilding\",\"GreenBuilding\",\"Normal Building\",\"GreenBuilding\",\"GreenBuilding\",\"GreenBuilding\",\"GreenBuilding\",\"Normal Building\",\"Normal Building\",\"Normal Building\",\"Normal Building\",\"GreenBuilding\",\"Normal Building\",\"GreenBuilding\",\"Normal Building\",\"Normal Building\",\"Normal Building\",\"GreenBuilding\",\"Normal Building\",\"Normal Building\",\"GreenBuilding\",\"Normal Building\",\"GreenBuilding\",\"Normal Building\",\"Normal Building\",\"GreenBuilding\",\"Normal Building\",\"Normal Building\",\"GreenBuilding\",\"Normal Building\",\"GreenBuilding\",\"Normal Building\",\"Normal Building\",\"Normal Building\",\"Normal Building\",\"Normal Building\",\"Normal Building\",\"Normal Building\",\"Normal Building\",\"GreenBuilding\",\"Normal Building\",\"Normal Building\",\"GreenBuilding\",\"GreenBuilding\",\"GreenBuilding\",\"Normal Building\",\"GreenBuilding\",\"GreenBuilding\",\"Normal Building\",\"Normal Building\",\"Normal Building\",\"Normal Building\",\"GreenBuilding\",\"GreenBuilding\",\"Normal Building\",\"GreenBuilding\",\"Normal Building\",\"Normal Building\",\"GreenBuilding\",\"GreenBuilding\",\"GreenBuilding\",\"Normal Building\",\"Normal Building\",\"Normal Building\",\"Normal Building\",\"Normal Building\",\"GreenBuilding\",\"GreenBuilding\",\"Normal Building\",\"GreenBuilding\",\"GreenBuilding\",\"Normal Building\",\"Normal Building\",\"Normal Building\",\"GreenBuilding\",\"GreenBuilding\",\"Normal Building\",\"GreenBuilding\",\"Normal Building\",\"GreenBuilding\",\"Normal Building\",\"Normal Building\",\"Normal Building\",\"Normal Building\",\"Normal Building\",\"GreenBuilding\",\"GreenBuilding\",\"GreenBuilding\",\"GreenBuilding\",\"GreenBuilding\",\"GreenBuilding\",\"GreenBuilding\",\"GreenBuilding\",\"Normal Building\",\"Normal Building\",\"GreenBuilding\",\"GreenBuilding\",\"Normal Building\",\"Normal Building\",\"Normal Building\",\"Normal Building\",\"GreenBuilding\",\"Normal Building\",\"GreenBuilding\",\"GreenBuilding\",\"GreenBuilding\",\"GreenBuilding\",\"GreenBuilding\",\"GreenBuilding\",\"GreenBuilding\",\"GreenBuilding\",\"GreenBuilding\",\"GreenBuilding\",\"GreenBuilding\",\"GreenBuilding\",\"GreenBuilding\",\"Normal Building\",\"GreenBuilding\",\"Normal Building\",\"GreenBuilding\",\"Normal Building\",\"Normal Building\",\"Normal Building\",\"Normal Building\",\"Normal Building\",\"Normal Building\",\"Normal Building\",\"GreenBuilding\",\"Normal Building\",\"Normal Building\",\"Normal Building\",\"Normal Building\",\"Normal Building\",\"GreenBuilding\",\"Normal Building\",\"Normal Building\",\"Normal Building\",\"Normal Building\",\"Normal Building\",\"Normal Building\",\"Normal Building\",\"GreenBuilding\",\"Normal Building\",\"Normal Building\",\"GreenBuilding\",\"Normal Building\",\"Normal Building\",\"Normal Building\",\"GreenBuilding\",\"GreenBuilding\",\"Normal Building\",\"GreenBuilding\",\"Normal Building\",\"Normal Building\",\"Normal Building\",\"Normal Building\",\"GreenBuilding\",\"Normal Building\",\"GreenBuilding\",\"GreenBuilding\",\"Normal Building\",\"Normal Building\",\"Normal Building\",\"GreenBuilding\",\"GreenBuilding\",\"Normal Building\",\"GreenBuilding\",\"Normal Building\",\"Normal Building\",\"GreenBuilding\",\"GreenBuilding\",\"Normal Building\",\"Normal Building\",\"GreenBuilding\",\"GreenBuilding\",\"Normal Building\",\"Normal Building\",\"Normal Building\",\"Normal Building\",\"Normal Building\",\"Normal Building\",\"Normal Building\",\"Normal Building\",\"Normal Building\",\"Normal Building\",\"GreenBuilding\",\"Normal Building\",\"Normal Building\",\"Normal Building\",\"Normal Building\",\"Normal Building\",\"GreenBuilding\",\"Normal Building\",\"Normal Building\",\"Normal Building\",\"GreenBuilding\",\"GreenBuilding\",\"Normal Building\",\"Normal Building\",\"Normal Building\",\"Normal Building\",\"Normal Building\",\"GreenBuilding\",\"Normal Building\",\"Normal Building\",\"GreenBuilding\",\"GreenBuilding\",\"GreenBuilding\",\"Normal Building\",\"Normal Building\",\"GreenBuilding\",\"Normal Building\",\"Normal Building\",\"GreenBuilding\",\"Normal Building\",\"Normal Building\",\"GreenBuilding\",\"Normal Building\",\"Normal Building\",\"Normal Building\",\"GreenBuilding\",\"Normal Building\",\"Normal Building\",\"Normal Building\",\"GreenBuilding\",\"Normal Building\",\"Normal Building\",\"Normal Building\",\"Normal Building\",\"Normal Building\",\"Normal Building\",\"Normal Building\",\"Normal Building\",\"Normal Building\",\"GreenBuilding\",\"GreenBuilding\",\"Normal Building\",\"Normal Building\",\"GreenBuilding\",\"Normal Building\",\"Normal Building\",\"Normal Building\",\"GreenBuilding\",\"GreenBuilding\",\"GreenBuilding\",\"GreenBuilding\",\"GreenBuilding\",\"GreenBuilding\",\"GreenBuilding\",\"GreenBuilding\",\"GreenBuilding\",\"Normal Building\",\"Normal Building\",\"Normal Building\",\"Normal Building\",\"Normal Building\",\"GreenBuilding\",\"Normal Building\",\"Normal Building\",\"Normal Building\",\"Normal Building\",\"Normal Building\",\"Normal Building\",\"Normal Building\",\"GreenBuilding\",\"Normal Building\",\"Normal Building\",\"Normal Building\",\"Normal Building\",\"GreenBuilding\",\"Normal Building\",\"Normal Building\",\"Normal Building\",\"Normal Building\",\"Normal Building\",\"Normal Building\",\"Normal Building\",\"Normal Building\",\"Normal Building\",\"GreenBuilding\",\"Normal Building\",\"Normal Building\",\"Normal Building\",\"Normal Building\",\"GreenBuilding\",\"Normal Building\",\"GreenBuilding\",\"Normal Building\",\"Normal Building\",\"Normal Building\",\"Normal Building\",\"Normal Building\",\"Normal Building\",\"Normal Building\",\"Normal Building\",\"Normal Building\",\"Normal Building\",\"Normal Building\",\"Normal Building\",\"Normal Building\",\"Normal Building\",\"Normal Building\",\"Normal Building\",\"Normal Building\",\"GreenBuilding\",\"Normal Building\",\"Normal Building\",\"Normal Building\",\"Normal Building\",\"Normal Building\",\"Normal Building\",\"Normal Building\",\"GreenBuilding\",\"GreenBuilding\",\"Normal Building\",\"Normal Building\",\"Normal Building\",\"GreenBuilding\",\"GreenBuilding\",\"Normal Building\",\"Normal Building\",\"Normal Building\",\"Normal Building\",\"Normal Building\",\"Normal Building\",\"Normal Building\",\"Normal Building\",\"GreenBuilding\",\"Normal Building\",\"Normal Building\",\"GreenBuilding\",\"Normal Building\",\"Normal Building\",\"Normal Building\",\"GreenBuilding\",\"Normal Building\",\"Normal Building\",\"GreenBuilding\",\"Normal Building\",\"Normal Building\",\"GreenBuilding\",\"Normal Building\",\"Normal Building\",\"GreenBuilding\",\"GreenBuilding\",\"Normal Building\",\"Normal Building\",\"Normal Building\",\"Normal Building\",\"Normal Building\",\"Normal Building\",\"GreenBuilding\",\"Normal Building\",\"Normal Building\",\"Normal Building\",\"Normal Building\",\"Normal Building\",\"Normal Building\",\"Normal Building\",\"GreenBuilding\",\"Normal Building\",\"Normal Building\",\"GreenBuilding\",\"Normal Building\",\"Normal Building\",\"Normal Building\",\"Normal Building\",\"Normal Building\",\"GreenBuilding\",\"Normal Building\",\"Normal Building\",\"GreenBuilding\",\"GreenBuilding\",\"Normal Building\",\"Normal Building\",\"Normal Building\",\"GreenBuilding\",\"Normal Building\",\"GreenBuilding\",\"Normal Building\",\"GreenBuilding\",\"Normal Building\",\"Normal Building\",\"Normal Building\",\"Normal Building\",\"Normal Building\",\"GreenBuilding\",\"Normal Building\",\"Normal Building\",\"GreenBuilding\",\"GreenBuilding\",\"GreenBuilding\",\"Normal Building\",\"GreenBuilding\",\"GreenBuilding\",\"Normal Building\",\"Normal Building\",\"Normal Building\",\"Normal Building\",\"Normal Building\",\"Normal Building\",\"Normal Building\",\"Normal Building\",\"Normal Building\",\"GreenBuilding\",\"GreenBuilding\",\"Normal Building\",\"Normal Building\",\"Normal Building\",\"Normal Building\",\"GreenBuilding\",\"Normal Building\",\"Normal Building\",\"Normal Building\",\"GreenBuilding\",\"Normal Building\",\"Normal Building\",\"Normal Building\",\"Normal Building\",\"Normal Building\",\"Normal Building\",\"GreenBuilding\",\"GreenBuilding\",\"Normal Building\",\"Normal Building\",\"GreenBuilding\",\"Normal Building\",\"GreenBuilding\",\"Normal Building\",\"Normal Building\",\"GreenBuilding\",\"Normal Building\",\"GreenBuilding\",\"Normal Building\",\"Normal Building\",\"GreenBuilding\",\"GreenBuilding\",\"Normal Building\",\"Normal Building\",\"Normal Building\",\"Normal Building\",\"Normal Building\",\"Normal Building\",\"Normal Building\",\"Normal Building\",\"Normal Building\",\"Normal Building\",\"Normal Building\",\"Normal Building\",\"Normal Building\",\"GreenBuilding\",\"Normal Building\",\"Normal Building\",\"Normal Building\",\"GreenBuilding\",\"Normal Building\",\"Normal Building\",\"GreenBuilding\",\"Normal Building\",\"Normal Building\",\"GreenBuilding\",\"GreenBuilding\",\"GreenBuilding\",\"GreenBuilding\",\"GreenBuilding\",\"GreenBuilding\",\"Normal Building\",\"Normal Building\",\"Normal Building\",\"Normal Building\",\"Normal Building\",\"Normal Building\",\"Normal Building\",\"Normal Building\",\"Normal Building\",\"Normal Building\",\"Normal Building\",\"Normal Building\",\"Normal Building\",\"Normal Building\",\"Normal Building\",\"Normal Building\",\"Normal Building\",\"Normal Building\",\"Normal Building\",\"Normal Building\",\"Normal Building\",\"Normal Building\",\"Normal Building\",\"GreenBuilding\",\"Normal Building\",\"Normal Building\",\"Normal Building\",\"Normal Building\",\"Normal Building\",\"Normal Building\",\"Normal Building\",\"Normal Building\",\"Normal Building\",\"Normal Building\",\"Normal Building\",\"GreenBuilding\",\"Normal Building\",\"GreenBuilding\",\"Normal Building\",\"Normal Building\",\"GreenBuilding\",\"GreenBuilding\",\"Normal Building\"],\"legendgroup\":\"\",\"name\":\"\",\"showlegend\":false,\"type\":\"pie\",\"textfont\":{\"size\":16},\"textinfo\":\"percent+label+value\",\"textposition\":\"inside\"}],                        {\"template\":{\"data\":{\"bar\":[{\"error_x\":{\"color\":\"#2a3f5f\"},\"error_y\":{\"color\":\"#2a3f5f\"},\"marker\":{\"line\":{\"color\":\"#E5ECF6\",\"width\":0.5},\"pattern\":{\"fillmode\":\"overlay\",\"size\":10,\"solidity\":0.2}},\"type\":\"bar\"}],\"barpolar\":[{\"marker\":{\"line\":{\"color\":\"#E5ECF6\",\"width\":0.5},\"pattern\":{\"fillmode\":\"overlay\",\"size\":10,\"solidity\":0.2}},\"type\":\"barpolar\"}],\"carpet\":[{\"aaxis\":{\"endlinecolor\":\"#2a3f5f\",\"gridcolor\":\"white\",\"linecolor\":\"white\",\"minorgridcolor\":\"white\",\"startlinecolor\":\"#2a3f5f\"},\"baxis\":{\"endlinecolor\":\"#2a3f5f\",\"gridcolor\":\"white\",\"linecolor\":\"white\",\"minorgridcolor\":\"white\",\"startlinecolor\":\"#2a3f5f\"},\"type\":\"carpet\"}],\"choropleth\":[{\"colorbar\":{\"outlinewidth\":0,\"ticks\":\"\"},\"type\":\"choropleth\"}],\"contour\":[{\"colorbar\":{\"outlinewidth\":0,\"ticks\":\"\"},\"colorscale\":[[0.0,\"#0d0887\"],[0.1111111111111111,\"#46039f\"],[0.2222222222222222,\"#7201a8\"],[0.3333333333333333,\"#9c179e\"],[0.4444444444444444,\"#bd3786\"],[0.5555555555555556,\"#d8576b\"],[0.6666666666666666,\"#ed7953\"],[0.7777777777777778,\"#fb9f3a\"],[0.8888888888888888,\"#fdca26\"],[1.0,\"#f0f921\"]],\"type\":\"contour\"}],\"contourcarpet\":[{\"colorbar\":{\"outlinewidth\":0,\"ticks\":\"\"},\"type\":\"contourcarpet\"}],\"heatmap\":[{\"colorbar\":{\"outlinewidth\":0,\"ticks\":\"\"},\"colorscale\":[[0.0,\"#0d0887\"],[0.1111111111111111,\"#46039f\"],[0.2222222222222222,\"#7201a8\"],[0.3333333333333333,\"#9c179e\"],[0.4444444444444444,\"#bd3786\"],[0.5555555555555556,\"#d8576b\"],[0.6666666666666666,\"#ed7953\"],[0.7777777777777778,\"#fb9f3a\"],[0.8888888888888888,\"#fdca26\"],[1.0,\"#f0f921\"]],\"type\":\"heatmap\"}],\"heatmapgl\":[{\"colorbar\":{\"outlinewidth\":0,\"ticks\":\"\"},\"colorscale\":[[0.0,\"#0d0887\"],[0.1111111111111111,\"#46039f\"],[0.2222222222222222,\"#7201a8\"],[0.3333333333333333,\"#9c179e\"],[0.4444444444444444,\"#bd3786\"],[0.5555555555555556,\"#d8576b\"],[0.6666666666666666,\"#ed7953\"],[0.7777777777777778,\"#fb9f3a\"],[0.8888888888888888,\"#fdca26\"],[1.0,\"#f0f921\"]],\"type\":\"heatmapgl\"}],\"histogram\":[{\"marker\":{\"pattern\":{\"fillmode\":\"overlay\",\"size\":10,\"solidity\":0.2}},\"type\":\"histogram\"}],\"histogram2d\":[{\"colorbar\":{\"outlinewidth\":0,\"ticks\":\"\"},\"colorscale\":[[0.0,\"#0d0887\"],[0.1111111111111111,\"#46039f\"],[0.2222222222222222,\"#7201a8\"],[0.3333333333333333,\"#9c179e\"],[0.4444444444444444,\"#bd3786\"],[0.5555555555555556,\"#d8576b\"],[0.6666666666666666,\"#ed7953\"],[0.7777777777777778,\"#fb9f3a\"],[0.8888888888888888,\"#fdca26\"],[1.0,\"#f0f921\"]],\"type\":\"histogram2d\"}],\"histogram2dcontour\":[{\"colorbar\":{\"outlinewidth\":0,\"ticks\":\"\"},\"colorscale\":[[0.0,\"#0d0887\"],[0.1111111111111111,\"#46039f\"],[0.2222222222222222,\"#7201a8\"],[0.3333333333333333,\"#9c179e\"],[0.4444444444444444,\"#bd3786\"],[0.5555555555555556,\"#d8576b\"],[0.6666666666666666,\"#ed7953\"],[0.7777777777777778,\"#fb9f3a\"],[0.8888888888888888,\"#fdca26\"],[1.0,\"#f0f921\"]],\"type\":\"histogram2dcontour\"}],\"mesh3d\":[{\"colorbar\":{\"outlinewidth\":0,\"ticks\":\"\"},\"type\":\"mesh3d\"}],\"parcoords\":[{\"line\":{\"colorbar\":{\"outlinewidth\":0,\"ticks\":\"\"}},\"type\":\"parcoords\"}],\"pie\":[{\"automargin\":true,\"type\":\"pie\"}],\"scatter\":[{\"marker\":{\"colorbar\":{\"outlinewidth\":0,\"ticks\":\"\"}},\"type\":\"scatter\"}],\"scatter3d\":[{\"line\":{\"colorbar\":{\"outlinewidth\":0,\"ticks\":\"\"}},\"marker\":{\"colorbar\":{\"outlinewidth\":0,\"ticks\":\"\"}},\"type\":\"scatter3d\"}],\"scattercarpet\":[{\"marker\":{\"colorbar\":{\"outlinewidth\":0,\"ticks\":\"\"}},\"type\":\"scattercarpet\"}],\"scattergeo\":[{\"marker\":{\"colorbar\":{\"outlinewidth\":0,\"ticks\":\"\"}},\"type\":\"scattergeo\"}],\"scattergl\":[{\"marker\":{\"colorbar\":{\"outlinewidth\":0,\"ticks\":\"\"}},\"type\":\"scattergl\"}],\"scattermapbox\":[{\"marker\":{\"colorbar\":{\"outlinewidth\":0,\"ticks\":\"\"}},\"type\":\"scattermapbox\"}],\"scatterpolar\":[{\"marker\":{\"colorbar\":{\"outlinewidth\":0,\"ticks\":\"\"}},\"type\":\"scatterpolar\"}],\"scatterpolargl\":[{\"marker\":{\"colorbar\":{\"outlinewidth\":0,\"ticks\":\"\"}},\"type\":\"scatterpolargl\"}],\"scatterternary\":[{\"marker\":{\"colorbar\":{\"outlinewidth\":0,\"ticks\":\"\"}},\"type\":\"scatterternary\"}],\"surface\":[{\"colorbar\":{\"outlinewidth\":0,\"ticks\":\"\"},\"colorscale\":[[0.0,\"#0d0887\"],[0.1111111111111111,\"#46039f\"],[0.2222222222222222,\"#7201a8\"],[0.3333333333333333,\"#9c179e\"],[0.4444444444444444,\"#bd3786\"],[0.5555555555555556,\"#d8576b\"],[0.6666666666666666,\"#ed7953\"],[0.7777777777777778,\"#fb9f3a\"],[0.8888888888888888,\"#fdca26\"],[1.0,\"#f0f921\"]],\"type\":\"surface\"}],\"table\":[{\"cells\":{\"fill\":{\"color\":\"#EBF0F8\"},\"line\":{\"color\":\"white\"}},\"header\":{\"fill\":{\"color\":\"#C8D4E3\"},\"line\":{\"color\":\"white\"}},\"type\":\"table\"}]},\"layout\":{\"annotationdefaults\":{\"arrowcolor\":\"#2a3f5f\",\"arrowhead\":0,\"arrowwidth\":1},\"autotypenumbers\":\"strict\",\"coloraxis\":{\"colorbar\":{\"outlinewidth\":0,\"ticks\":\"\"}},\"colorscale\":{\"diverging\":[[0,\"#8e0152\"],[0.1,\"#c51b7d\"],[0.2,\"#de77ae\"],[0.3,\"#f1b6da\"],[0.4,\"#fde0ef\"],[0.5,\"#f7f7f7\"],[0.6,\"#e6f5d0\"],[0.7,\"#b8e186\"],[0.8,\"#7fbc41\"],[0.9,\"#4d9221\"],[1,\"#276419\"]],\"sequential\":[[0.0,\"#0d0887\"],[0.1111111111111111,\"#46039f\"],[0.2222222222222222,\"#7201a8\"],[0.3333333333333333,\"#9c179e\"],[0.4444444444444444,\"#bd3786\"],[0.5555555555555556,\"#d8576b\"],[0.6666666666666666,\"#ed7953\"],[0.7777777777777778,\"#fb9f3a\"],[0.8888888888888888,\"#fdca26\"],[1.0,\"#f0f921\"]],\"sequentialminus\":[[0.0,\"#0d0887\"],[0.1111111111111111,\"#46039f\"],[0.2222222222222222,\"#7201a8\"],[0.3333333333333333,\"#9c179e\"],[0.4444444444444444,\"#bd3786\"],[0.5555555555555556,\"#d8576b\"],[0.6666666666666666,\"#ed7953\"],[0.7777777777777778,\"#fb9f3a\"],[0.8888888888888888,\"#fdca26\"],[1.0,\"#f0f921\"]]},\"colorway\":[\"#636efa\",\"#EF553B\",\"#00cc96\",\"#ab63fa\",\"#FFA15A\",\"#19d3f3\",\"#FF6692\",\"#B6E880\",\"#FF97FF\",\"#FECB52\"],\"font\":{\"color\":\"#2a3f5f\"},\"geo\":{\"bgcolor\":\"white\",\"lakecolor\":\"white\",\"landcolor\":\"#E5ECF6\",\"showlakes\":true,\"showland\":true,\"subunitcolor\":\"white\"},\"hoverlabel\":{\"align\":\"left\"},\"hovermode\":\"closest\",\"mapbox\":{\"style\":\"light\"},\"paper_bgcolor\":\"white\",\"plot_bgcolor\":\"#E5ECF6\",\"polar\":{\"angularaxis\":{\"gridcolor\":\"white\",\"linecolor\":\"white\",\"ticks\":\"\"},\"bgcolor\":\"#E5ECF6\",\"radialaxis\":{\"gridcolor\":\"white\",\"linecolor\":\"white\",\"ticks\":\"\"}},\"scene\":{\"xaxis\":{\"backgroundcolor\":\"#E5ECF6\",\"gridcolor\":\"white\",\"gridwidth\":2,\"linecolor\":\"white\",\"showbackground\":true,\"ticks\":\"\",\"zerolinecolor\":\"white\"},\"yaxis\":{\"backgroundcolor\":\"#E5ECF6\",\"gridcolor\":\"white\",\"gridwidth\":2,\"linecolor\":\"white\",\"showbackground\":true,\"ticks\":\"\",\"zerolinecolor\":\"white\"},\"zaxis\":{\"backgroundcolor\":\"#E5ECF6\",\"gridcolor\":\"white\",\"gridwidth\":2,\"linecolor\":\"white\",\"showbackground\":true,\"ticks\":\"\",\"zerolinecolor\":\"white\"}},\"shapedefaults\":{\"line\":{\"color\":\"#2a3f5f\"}},\"ternary\":{\"aaxis\":{\"gridcolor\":\"white\",\"linecolor\":\"white\",\"ticks\":\"\"},\"baxis\":{\"gridcolor\":\"white\",\"linecolor\":\"white\",\"ticks\":\"\"},\"bgcolor\":\"#E5ECF6\",\"caxis\":{\"gridcolor\":\"white\",\"linecolor\":\"white\",\"ticks\":\"\"}},\"title\":{\"x\":0.05},\"xaxis\":{\"automargin\":true,\"gridcolor\":\"white\",\"linecolor\":\"white\",\"ticks\":\"\",\"title\":{\"standoff\":15},\"zerolinecolor\":\"white\",\"zerolinewidth\":2},\"yaxis\":{\"automargin\":true,\"gridcolor\":\"white\",\"linecolor\":\"white\",\"ticks\":\"\",\"title\":{\"standoff\":15},\"zerolinecolor\":\"white\",\"zerolinewidth\":2}}},\"legend\":{\"tracegroupgap\":0},\"title\":{\"text\":\"Composition Green Building in Singapore\"},\"piecolorway\":[\"DarkGray\",\"LawnGreen\"]},                        {\"responsive\": true}                    ).then(function(){\n",
              "                            \n",
              "var gd = document.getElementById('8adb7e10-40bb-4792-a594-94c4b5cf797d');\n",
              "var x = new MutationObserver(function (mutations, observer) {{\n",
              "        var display = window.getComputedStyle(gd).display;\n",
              "        if (!display || display === 'none') {{\n",
              "            console.log([gd, 'removed!']);\n",
              "            Plotly.purge(gd);\n",
              "            observer.disconnect();\n",
              "        }}\n",
              "}});\n",
              "\n",
              "// Listen for the removal of the full notebook cells\n",
              "var notebookContainer = gd.closest('#notebook-container');\n",
              "if (notebookContainer) {{\n",
              "    x.observe(notebookContainer, {childList: true});\n",
              "}}\n",
              "\n",
              "// Listen for the clearing of the current output cell\n",
              "var outputEl = gd.closest('.output');\n",
              "if (outputEl) {{\n",
              "    x.observe(outputEl, {childList: true});\n",
              "}}\n",
              "\n",
              "                        })                };                            </script>        </div>\n",
              "</body>\n",
              "</html>"
            ]
          },
          "metadata": {}
        }
      ]
    },
    {
      "cell_type": "code",
      "source": [
        "data1 = df[df['greenmarkstatus'] == 'Yes'].groupby('buildingtype').count()\n",
        "data2 = df[df['greenmarkstatus'] == 'No'].groupby('buildingtype').count()\n",
        "\n",
        "fig = go.Figure()\n",
        "fig.add_trace(go.Bar(x=data1.index,\n",
        "                     y=data1['greenmarkstatus'],\n",
        "                     name='Green Building',\n",
        "                     marker_color='LawnGreen',\n",
        "                    )\n",
        "             )\n",
        "\n",
        "fig.add_trace(go.Bar(x=data2.index,\n",
        "                     y=data2['greenmarkstatus'],\n",
        "                     name='Normal Building',\n",
        "                     marker_color='DarkGray',\n",
        "                    )\n",
        "             )\n",
        "\n",
        "fig.update_layout(barmode='group',\n",
        "                  xaxis=dict(categoryorder='total descending'),\n",
        "                  yaxis=dict(tickvals=[0,150,300]),\n",
        "                  title='Building Type Wise Green Building',\n",
        "                 )\n",
        "\n",
        "fig.show()"
      ],
      "metadata": {
        "colab": {
          "base_uri": "https://localhost:8080/",
          "height": 542
        },
        "id": "cQGGNVbWzMAP",
        "outputId": "138cc2ef-4f79-4992-8139-a8b6ece2a3cd"
      },
      "execution_count": null,
      "outputs": [
        {
          "output_type": "display_data",
          "data": {
            "text/html": [
              "<html>\n",
              "<head><meta charset=\"utf-8\" /></head>\n",
              "<body>\n",
              "    <div>            <script src=\"https://cdnjs.cloudflare.com/ajax/libs/mathjax/2.7.5/MathJax.js?config=TeX-AMS-MML_SVG\"></script><script type=\"text/javascript\">if (window.MathJax) {MathJax.Hub.Config({SVG: {font: \"STIX-Web\"}});}</script>                <script type=\"text/javascript\">window.PlotlyConfig = {MathJaxConfig: 'local'};</script>\n",
              "        <script src=\"https://cdn.plot.ly/plotly-2.8.3.min.js\"></script>                <div id=\"8cd92ae9-ec9f-4d85-869f-542cade0e4db\" class=\"plotly-graph-div\" style=\"height:525px; width:100%;\"></div>            <script type=\"text/javascript\">                                    window.PLOTLYENV=window.PLOTLYENV || {};                                    if (document.getElementById(\"8cd92ae9-ec9f-4d85-869f-542cade0e4db\")) {                    Plotly.newPlot(                        \"8cd92ae9-ec9f-4d85-869f-542cade0e4db\",                        [{\"marker\":{\"color\":\"LawnGreen\"},\"name\":\"Green Building\",\"x\":[\"Community Hospital\",\"General Hospital/ Specialist Centre (Public)\",\"Hotel\",\"ITE\",\"Mixed Development\",\"Nursing Home\",\"Office\",\"Polyclinic\",\"Polytechnic\",\"Private College\",\"Private Hospital (Private)\",\"Private School\",\"Retail\",\"Specialist Centre (Public)\",\"University\"],\"y\":[1,4,39,3,19,7,149,1,6,5,2,7,48,1,9],\"type\":\"bar\"},{\"marker\":{\"color\":\"DarkGray\"},\"name\":\"Normal Building\",\"x\":[\"Community Hospital\",\"General Hospital/ Specialist Centre (Public)\",\"Hotel\",\"Mixed Development\",\"Nursing Home\",\"Office\",\"Polyclinic\",\"Polytechnic\",\"Private Clinic\",\"Private College\",\"Private Hospital (Private)\",\"Private School\",\"Retail\",\"Specialist Centre (Public)\",\"TCM Clinic\",\"University\"],\"y\":[3,4,172,27,20,301,9,1,9,2,3,17,98,4,1,5],\"type\":\"bar\"}],                        {\"template\":{\"data\":{\"bar\":[{\"error_x\":{\"color\":\"#2a3f5f\"},\"error_y\":{\"color\":\"#2a3f5f\"},\"marker\":{\"line\":{\"color\":\"#E5ECF6\",\"width\":0.5},\"pattern\":{\"fillmode\":\"overlay\",\"size\":10,\"solidity\":0.2}},\"type\":\"bar\"}],\"barpolar\":[{\"marker\":{\"line\":{\"color\":\"#E5ECF6\",\"width\":0.5},\"pattern\":{\"fillmode\":\"overlay\",\"size\":10,\"solidity\":0.2}},\"type\":\"barpolar\"}],\"carpet\":[{\"aaxis\":{\"endlinecolor\":\"#2a3f5f\",\"gridcolor\":\"white\",\"linecolor\":\"white\",\"minorgridcolor\":\"white\",\"startlinecolor\":\"#2a3f5f\"},\"baxis\":{\"endlinecolor\":\"#2a3f5f\",\"gridcolor\":\"white\",\"linecolor\":\"white\",\"minorgridcolor\":\"white\",\"startlinecolor\":\"#2a3f5f\"},\"type\":\"carpet\"}],\"choropleth\":[{\"colorbar\":{\"outlinewidth\":0,\"ticks\":\"\"},\"type\":\"choropleth\"}],\"contour\":[{\"colorbar\":{\"outlinewidth\":0,\"ticks\":\"\"},\"colorscale\":[[0.0,\"#0d0887\"],[0.1111111111111111,\"#46039f\"],[0.2222222222222222,\"#7201a8\"],[0.3333333333333333,\"#9c179e\"],[0.4444444444444444,\"#bd3786\"],[0.5555555555555556,\"#d8576b\"],[0.6666666666666666,\"#ed7953\"],[0.7777777777777778,\"#fb9f3a\"],[0.8888888888888888,\"#fdca26\"],[1.0,\"#f0f921\"]],\"type\":\"contour\"}],\"contourcarpet\":[{\"colorbar\":{\"outlinewidth\":0,\"ticks\":\"\"},\"type\":\"contourcarpet\"}],\"heatmap\":[{\"colorbar\":{\"outlinewidth\":0,\"ticks\":\"\"},\"colorscale\":[[0.0,\"#0d0887\"],[0.1111111111111111,\"#46039f\"],[0.2222222222222222,\"#7201a8\"],[0.3333333333333333,\"#9c179e\"],[0.4444444444444444,\"#bd3786\"],[0.5555555555555556,\"#d8576b\"],[0.6666666666666666,\"#ed7953\"],[0.7777777777777778,\"#fb9f3a\"],[0.8888888888888888,\"#fdca26\"],[1.0,\"#f0f921\"]],\"type\":\"heatmap\"}],\"heatmapgl\":[{\"colorbar\":{\"outlinewidth\":0,\"ticks\":\"\"},\"colorscale\":[[0.0,\"#0d0887\"],[0.1111111111111111,\"#46039f\"],[0.2222222222222222,\"#7201a8\"],[0.3333333333333333,\"#9c179e\"],[0.4444444444444444,\"#bd3786\"],[0.5555555555555556,\"#d8576b\"],[0.6666666666666666,\"#ed7953\"],[0.7777777777777778,\"#fb9f3a\"],[0.8888888888888888,\"#fdca26\"],[1.0,\"#f0f921\"]],\"type\":\"heatmapgl\"}],\"histogram\":[{\"marker\":{\"pattern\":{\"fillmode\":\"overlay\",\"size\":10,\"solidity\":0.2}},\"type\":\"histogram\"}],\"histogram2d\":[{\"colorbar\":{\"outlinewidth\":0,\"ticks\":\"\"},\"colorscale\":[[0.0,\"#0d0887\"],[0.1111111111111111,\"#46039f\"],[0.2222222222222222,\"#7201a8\"],[0.3333333333333333,\"#9c179e\"],[0.4444444444444444,\"#bd3786\"],[0.5555555555555556,\"#d8576b\"],[0.6666666666666666,\"#ed7953\"],[0.7777777777777778,\"#fb9f3a\"],[0.8888888888888888,\"#fdca26\"],[1.0,\"#f0f921\"]],\"type\":\"histogram2d\"}],\"histogram2dcontour\":[{\"colorbar\":{\"outlinewidth\":0,\"ticks\":\"\"},\"colorscale\":[[0.0,\"#0d0887\"],[0.1111111111111111,\"#46039f\"],[0.2222222222222222,\"#7201a8\"],[0.3333333333333333,\"#9c179e\"],[0.4444444444444444,\"#bd3786\"],[0.5555555555555556,\"#d8576b\"],[0.6666666666666666,\"#ed7953\"],[0.7777777777777778,\"#fb9f3a\"],[0.8888888888888888,\"#fdca26\"],[1.0,\"#f0f921\"]],\"type\":\"histogram2dcontour\"}],\"mesh3d\":[{\"colorbar\":{\"outlinewidth\":0,\"ticks\":\"\"},\"type\":\"mesh3d\"}],\"parcoords\":[{\"line\":{\"colorbar\":{\"outlinewidth\":0,\"ticks\":\"\"}},\"type\":\"parcoords\"}],\"pie\":[{\"automargin\":true,\"type\":\"pie\"}],\"scatter\":[{\"marker\":{\"colorbar\":{\"outlinewidth\":0,\"ticks\":\"\"}},\"type\":\"scatter\"}],\"scatter3d\":[{\"line\":{\"colorbar\":{\"outlinewidth\":0,\"ticks\":\"\"}},\"marker\":{\"colorbar\":{\"outlinewidth\":0,\"ticks\":\"\"}},\"type\":\"scatter3d\"}],\"scattercarpet\":[{\"marker\":{\"colorbar\":{\"outlinewidth\":0,\"ticks\":\"\"}},\"type\":\"scattercarpet\"}],\"scattergeo\":[{\"marker\":{\"colorbar\":{\"outlinewidth\":0,\"ticks\":\"\"}},\"type\":\"scattergeo\"}],\"scattergl\":[{\"marker\":{\"colorbar\":{\"outlinewidth\":0,\"ticks\":\"\"}},\"type\":\"scattergl\"}],\"scattermapbox\":[{\"marker\":{\"colorbar\":{\"outlinewidth\":0,\"ticks\":\"\"}},\"type\":\"scattermapbox\"}],\"scatterpolar\":[{\"marker\":{\"colorbar\":{\"outlinewidth\":0,\"ticks\":\"\"}},\"type\":\"scatterpolar\"}],\"scatterpolargl\":[{\"marker\":{\"colorbar\":{\"outlinewidth\":0,\"ticks\":\"\"}},\"type\":\"scatterpolargl\"}],\"scatterternary\":[{\"marker\":{\"colorbar\":{\"outlinewidth\":0,\"ticks\":\"\"}},\"type\":\"scatterternary\"}],\"surface\":[{\"colorbar\":{\"outlinewidth\":0,\"ticks\":\"\"},\"colorscale\":[[0.0,\"#0d0887\"],[0.1111111111111111,\"#46039f\"],[0.2222222222222222,\"#7201a8\"],[0.3333333333333333,\"#9c179e\"],[0.4444444444444444,\"#bd3786\"],[0.5555555555555556,\"#d8576b\"],[0.6666666666666666,\"#ed7953\"],[0.7777777777777778,\"#fb9f3a\"],[0.8888888888888888,\"#fdca26\"],[1.0,\"#f0f921\"]],\"type\":\"surface\"}],\"table\":[{\"cells\":{\"fill\":{\"color\":\"#EBF0F8\"},\"line\":{\"color\":\"white\"}},\"header\":{\"fill\":{\"color\":\"#C8D4E3\"},\"line\":{\"color\":\"white\"}},\"type\":\"table\"}]},\"layout\":{\"annotationdefaults\":{\"arrowcolor\":\"#2a3f5f\",\"arrowhead\":0,\"arrowwidth\":1},\"autotypenumbers\":\"strict\",\"coloraxis\":{\"colorbar\":{\"outlinewidth\":0,\"ticks\":\"\"}},\"colorscale\":{\"diverging\":[[0,\"#8e0152\"],[0.1,\"#c51b7d\"],[0.2,\"#de77ae\"],[0.3,\"#f1b6da\"],[0.4,\"#fde0ef\"],[0.5,\"#f7f7f7\"],[0.6,\"#e6f5d0\"],[0.7,\"#b8e186\"],[0.8,\"#7fbc41\"],[0.9,\"#4d9221\"],[1,\"#276419\"]],\"sequential\":[[0.0,\"#0d0887\"],[0.1111111111111111,\"#46039f\"],[0.2222222222222222,\"#7201a8\"],[0.3333333333333333,\"#9c179e\"],[0.4444444444444444,\"#bd3786\"],[0.5555555555555556,\"#d8576b\"],[0.6666666666666666,\"#ed7953\"],[0.7777777777777778,\"#fb9f3a\"],[0.8888888888888888,\"#fdca26\"],[1.0,\"#f0f921\"]],\"sequentialminus\":[[0.0,\"#0d0887\"],[0.1111111111111111,\"#46039f\"],[0.2222222222222222,\"#7201a8\"],[0.3333333333333333,\"#9c179e\"],[0.4444444444444444,\"#bd3786\"],[0.5555555555555556,\"#d8576b\"],[0.6666666666666666,\"#ed7953\"],[0.7777777777777778,\"#fb9f3a\"],[0.8888888888888888,\"#fdca26\"],[1.0,\"#f0f921\"]]},\"colorway\":[\"#636efa\",\"#EF553B\",\"#00cc96\",\"#ab63fa\",\"#FFA15A\",\"#19d3f3\",\"#FF6692\",\"#B6E880\",\"#FF97FF\",\"#FECB52\"],\"font\":{\"color\":\"#2a3f5f\"},\"geo\":{\"bgcolor\":\"white\",\"lakecolor\":\"white\",\"landcolor\":\"#E5ECF6\",\"showlakes\":true,\"showland\":true,\"subunitcolor\":\"white\"},\"hoverlabel\":{\"align\":\"left\"},\"hovermode\":\"closest\",\"mapbox\":{\"style\":\"light\"},\"paper_bgcolor\":\"white\",\"plot_bgcolor\":\"#E5ECF6\",\"polar\":{\"angularaxis\":{\"gridcolor\":\"white\",\"linecolor\":\"white\",\"ticks\":\"\"},\"bgcolor\":\"#E5ECF6\",\"radialaxis\":{\"gridcolor\":\"white\",\"linecolor\":\"white\",\"ticks\":\"\"}},\"scene\":{\"xaxis\":{\"backgroundcolor\":\"#E5ECF6\",\"gridcolor\":\"white\",\"gridwidth\":2,\"linecolor\":\"white\",\"showbackground\":true,\"ticks\":\"\",\"zerolinecolor\":\"white\"},\"yaxis\":{\"backgroundcolor\":\"#E5ECF6\",\"gridcolor\":\"white\",\"gridwidth\":2,\"linecolor\":\"white\",\"showbackground\":true,\"ticks\":\"\",\"zerolinecolor\":\"white\"},\"zaxis\":{\"backgroundcolor\":\"#E5ECF6\",\"gridcolor\":\"white\",\"gridwidth\":2,\"linecolor\":\"white\",\"showbackground\":true,\"ticks\":\"\",\"zerolinecolor\":\"white\"}},\"shapedefaults\":{\"line\":{\"color\":\"#2a3f5f\"}},\"ternary\":{\"aaxis\":{\"gridcolor\":\"white\",\"linecolor\":\"white\",\"ticks\":\"\"},\"baxis\":{\"gridcolor\":\"white\",\"linecolor\":\"white\",\"ticks\":\"\"},\"bgcolor\":\"#E5ECF6\",\"caxis\":{\"gridcolor\":\"white\",\"linecolor\":\"white\",\"ticks\":\"\"}},\"title\":{\"x\":0.05},\"xaxis\":{\"automargin\":true,\"gridcolor\":\"white\",\"linecolor\":\"white\",\"ticks\":\"\",\"title\":{\"standoff\":15},\"zerolinecolor\":\"white\",\"zerolinewidth\":2},\"yaxis\":{\"automargin\":true,\"gridcolor\":\"white\",\"linecolor\":\"white\",\"ticks\":\"\",\"title\":{\"standoff\":15},\"zerolinecolor\":\"white\",\"zerolinewidth\":2}}},\"xaxis\":{\"categoryorder\":\"total descending\"},\"yaxis\":{\"tickvals\":[0,150,300]},\"barmode\":\"group\",\"title\":{\"text\":\"Building Type Wise Green Building\"}},                        {\"responsive\": true}                    ).then(function(){\n",
              "                            \n",
              "var gd = document.getElementById('8cd92ae9-ec9f-4d85-869f-542cade0e4db');\n",
              "var x = new MutationObserver(function (mutations, observer) {{\n",
              "        var display = window.getComputedStyle(gd).display;\n",
              "        if (!display || display === 'none') {{\n",
              "            console.log([gd, 'removed!']);\n",
              "            Plotly.purge(gd);\n",
              "            observer.disconnect();\n",
              "        }}\n",
              "}});\n",
              "\n",
              "// Listen for the removal of the full notebook cells\n",
              "var notebookContainer = gd.closest('#notebook-container');\n",
              "if (notebookContainer) {{\n",
              "    x.observe(notebookContainer, {childList: true});\n",
              "}}\n",
              "\n",
              "// Listen for the clearing of the current output cell\n",
              "var outputEl = gd.closest('.output');\n",
              "if (outputEl) {{\n",
              "    x.observe(outputEl, {childList: true});\n",
              "}}\n",
              "\n",
              "                        })                };                            </script>        </div>\n",
              "</body>\n",
              "</html>"
            ]
          },
          "metadata": {}
        }
      ]
    },
    {
      "cell_type": "code",
      "source": [
        "data = df[df['greenmarkstatus'] == 'Yes'].groupby(['greenmarkrating','buildingtype']).count().reset_index()\n",
        "\n",
        "fig = px.treemap(data, \n",
        "                 path=['greenmarkrating', 'buildingtype'], \n",
        "                 values='greenmarkstatus',\n",
        "                 color='greenmarkrating',\n",
        "                 color_discrete_map=color_rating,\n",
        "                 title='Rating Wise Green Building'\n",
        "                )\n",
        "\n",
        "fig.update_layout(uniformtext_minsize=14, \n",
        "                  uniformtext_mode='hide',\n",
        "                 )\n",
        "\n",
        "fig.show()"
      ],
      "metadata": {
        "colab": {
          "base_uri": "https://localhost:8080/",
          "height": 542
        },
        "id": "5Uquz-JazSJ8",
        "outputId": "d41dbbf2-b1d6-4e90-b11c-92de20d28c2c"
      },
      "execution_count": null,
      "outputs": [
        {
          "output_type": "display_data",
          "data": {
            "text/html": [
              "<html>\n",
              "<head><meta charset=\"utf-8\" /></head>\n",
              "<body>\n",
              "    <div>            <script src=\"https://cdnjs.cloudflare.com/ajax/libs/mathjax/2.7.5/MathJax.js?config=TeX-AMS-MML_SVG\"></script><script type=\"text/javascript\">if (window.MathJax) {MathJax.Hub.Config({SVG: {font: \"STIX-Web\"}});}</script>                <script type=\"text/javascript\">window.PlotlyConfig = {MathJaxConfig: 'local'};</script>\n",
              "        <script src=\"https://cdn.plot.ly/plotly-2.8.3.min.js\"></script>                <div id=\"4d99067e-2ef1-486d-bf53-96b280da910e\" class=\"plotly-graph-div\" style=\"height:525px; width:100%;\"></div>            <script type=\"text/javascript\">                                    window.PLOTLYENV=window.PLOTLYENV || {};                                    if (document.getElementById(\"4d99067e-2ef1-486d-bf53-96b280da910e\")) {                    Plotly.newPlot(                        \"4d99067e-2ef1-486d-bf53-96b280da910e\",                        [{\"branchvalues\":\"total\",\"customdata\":[[\"Gold\"],[\"Platinum\"],[\"Certified\"],[\"Gold\"],[\"GoldPlus\"],[\"Platinum\"],[\"Platinum\"],[\"Certified\"],[\"Platinum\"],[\"GoldPlus\"],[\"Certified\"],[\"GoldPlus\"],[\"Gold\"],[\"Certified\"],[\"Platinum\"],[\"GoldPlus\"],[\"Gold\"],[\"Platinum\"],[\"Gold\"],[\"Platinum\"],[\"Legislated\"],[\"GoldPlus\"],[\"Gold\"],[\"Platinum\"],[\"Certified\"],[\"Platinum\"],[\"Platinum\"],[\"GoldPlus\"],[\"Gold\"],[\"Platinum\"],[\"GoldPlus\"],[\"GoldPlus\"],[\"Gold\"],[\"Platinum\"],[\"Certified\"],[\"Certified\"],[\"Platinum\"],[\"Certified\"],[\"Gold\"],[\"GoldPlus\"],[\"Legislated\"],[\"Platinum\"]],\"domain\":{\"x\":[0.0,1.0],\"y\":[0.0,1.0]},\"hovertemplate\":\"labels=%{label}<br>greenmarkstatus=%{value}<br>parent=%{parent}<br>id=%{id}<br>greenmarkrating=%{customdata[0]}<extra></extra>\",\"ids\":[\"Gold/Community Hospital\",\"Platinum/General Hospital/ Specialist Centre (Public)\",\"Certified/Hotel\",\"Gold/Hotel\",\"GoldPlus/Hotel\",\"Platinum/Hotel\",\"Platinum/ITE\",\"Certified/Office\",\"Platinum/Nursing Home\",\"GoldPlus/Nursing Home\",\"Certified/Nursing Home\",\"GoldPlus/Mixed Development\",\"Gold/Mixed Development\",\"Certified/Mixed Development\",\"Platinum/Mixed Development\",\"GoldPlus/Polytechnic\",\"Gold/Private College\",\"Platinum/Polytechnic\",\"Gold/Polyclinic\",\"Platinum/Office\",\"Legislated/Office\",\"GoldPlus/Office\",\"Gold/Office\",\"Platinum/Private College\",\"Certified/University\",\"Platinum/Specialist Centre (Public)\",\"Platinum/Retail\",\"GoldPlus/Retail\",\"Gold/Retail\",\"Platinum/Private School\",\"GoldPlus/University\",\"GoldPlus/Private School\",\"Gold/Private School\",\"Platinum/Private Hospital (Private)\",\"Certified/Private Hospital (Private)\",\"Certified/Retail\",\"Platinum/University\",\"Certified\",\"Gold\",\"GoldPlus\",\"Legislated\",\"Platinum\"],\"labels\":[\"Community Hospital\",\"General Hospital/ Specialist Centre (Public)\",\"Hotel\",\"Hotel\",\"Hotel\",\"Hotel\",\"ITE\",\"Office\",\"Nursing Home\",\"Nursing Home\",\"Nursing Home\",\"Mixed Development\",\"Mixed Development\",\"Mixed Development\",\"Mixed Development\",\"Polytechnic\",\"Private College\",\"Polytechnic\",\"Polyclinic\",\"Office\",\"Office\",\"Office\",\"Office\",\"Private College\",\"University\",\"Specialist Centre (Public)\",\"Retail\",\"Retail\",\"Retail\",\"Private School\",\"University\",\"Private School\",\"Private School\",\"Private Hospital (Private)\",\"Private Hospital (Private)\",\"Retail\",\"University\",\"Certified\",\"Gold\",\"GoldPlus\",\"Legislated\",\"Platinum\"],\"marker\":{\"colors\":[\"Gold\",\"#e5e4e2\",\"DarkGreen\",\"Gold\",\"DarkGoldenRod\",\"#e5e4e2\",\"#e5e4e2\",\"DarkGreen\",\"#e5e4e2\",\"DarkGoldenRod\",\"DarkGreen\",\"DarkGoldenRod\",\"Gold\",\"DarkGreen\",\"#e5e4e2\",\"DarkGoldenRod\",\"Gold\",\"#e5e4e2\",\"Gold\",\"#e5e4e2\",\"Red\",\"DarkGoldenRod\",\"Gold\",\"#e5e4e2\",\"DarkGreen\",\"#e5e4e2\",\"#e5e4e2\",\"DarkGoldenRod\",\"Gold\",\"#e5e4e2\",\"DarkGoldenRod\",\"DarkGoldenRod\",\"Gold\",\"#e5e4e2\",\"DarkGreen\",\"DarkGreen\",\"#e5e4e2\",\"DarkGreen\",\"Gold\",\"DarkGoldenRod\",\"Red\",\"#e5e4e2\"]},\"name\":\"\",\"parents\":[\"Gold\",\"Platinum\",\"Certified\",\"Gold\",\"GoldPlus\",\"Platinum\",\"Platinum\",\"Certified\",\"Platinum\",\"GoldPlus\",\"Certified\",\"GoldPlus\",\"Gold\",\"Certified\",\"Platinum\",\"GoldPlus\",\"Gold\",\"Platinum\",\"Gold\",\"Platinum\",\"Legislated\",\"GoldPlus\",\"Gold\",\"Platinum\",\"Certified\",\"Platinum\",\"Platinum\",\"GoldPlus\",\"Gold\",\"Platinum\",\"GoldPlus\",\"GoldPlus\",\"Gold\",\"Platinum\",\"Certified\",\"Certified\",\"Platinum\",\"\",\"\",\"\",\"\",\"\"],\"values\":[1,4,6,8,10,15,3,21,2,1,4,1,7,3,8,1,2,5,1,65,1,31,31,3,1,1,13,6,19,4,1,2,1,1,1,10,7,46,70,53,1,131],\"type\":\"treemap\"}],                        {\"template\":{\"data\":{\"bar\":[{\"error_x\":{\"color\":\"#2a3f5f\"},\"error_y\":{\"color\":\"#2a3f5f\"},\"marker\":{\"line\":{\"color\":\"#E5ECF6\",\"width\":0.5},\"pattern\":{\"fillmode\":\"overlay\",\"size\":10,\"solidity\":0.2}},\"type\":\"bar\"}],\"barpolar\":[{\"marker\":{\"line\":{\"color\":\"#E5ECF6\",\"width\":0.5},\"pattern\":{\"fillmode\":\"overlay\",\"size\":10,\"solidity\":0.2}},\"type\":\"barpolar\"}],\"carpet\":[{\"aaxis\":{\"endlinecolor\":\"#2a3f5f\",\"gridcolor\":\"white\",\"linecolor\":\"white\",\"minorgridcolor\":\"white\",\"startlinecolor\":\"#2a3f5f\"},\"baxis\":{\"endlinecolor\":\"#2a3f5f\",\"gridcolor\":\"white\",\"linecolor\":\"white\",\"minorgridcolor\":\"white\",\"startlinecolor\":\"#2a3f5f\"},\"type\":\"carpet\"}],\"choropleth\":[{\"colorbar\":{\"outlinewidth\":0,\"ticks\":\"\"},\"type\":\"choropleth\"}],\"contour\":[{\"colorbar\":{\"outlinewidth\":0,\"ticks\":\"\"},\"colorscale\":[[0.0,\"#0d0887\"],[0.1111111111111111,\"#46039f\"],[0.2222222222222222,\"#7201a8\"],[0.3333333333333333,\"#9c179e\"],[0.4444444444444444,\"#bd3786\"],[0.5555555555555556,\"#d8576b\"],[0.6666666666666666,\"#ed7953\"],[0.7777777777777778,\"#fb9f3a\"],[0.8888888888888888,\"#fdca26\"],[1.0,\"#f0f921\"]],\"type\":\"contour\"}],\"contourcarpet\":[{\"colorbar\":{\"outlinewidth\":0,\"ticks\":\"\"},\"type\":\"contourcarpet\"}],\"heatmap\":[{\"colorbar\":{\"outlinewidth\":0,\"ticks\":\"\"},\"colorscale\":[[0.0,\"#0d0887\"],[0.1111111111111111,\"#46039f\"],[0.2222222222222222,\"#7201a8\"],[0.3333333333333333,\"#9c179e\"],[0.4444444444444444,\"#bd3786\"],[0.5555555555555556,\"#d8576b\"],[0.6666666666666666,\"#ed7953\"],[0.7777777777777778,\"#fb9f3a\"],[0.8888888888888888,\"#fdca26\"],[1.0,\"#f0f921\"]],\"type\":\"heatmap\"}],\"heatmapgl\":[{\"colorbar\":{\"outlinewidth\":0,\"ticks\":\"\"},\"colorscale\":[[0.0,\"#0d0887\"],[0.1111111111111111,\"#46039f\"],[0.2222222222222222,\"#7201a8\"],[0.3333333333333333,\"#9c179e\"],[0.4444444444444444,\"#bd3786\"],[0.5555555555555556,\"#d8576b\"],[0.6666666666666666,\"#ed7953\"],[0.7777777777777778,\"#fb9f3a\"],[0.8888888888888888,\"#fdca26\"],[1.0,\"#f0f921\"]],\"type\":\"heatmapgl\"}],\"histogram\":[{\"marker\":{\"pattern\":{\"fillmode\":\"overlay\",\"size\":10,\"solidity\":0.2}},\"type\":\"histogram\"}],\"histogram2d\":[{\"colorbar\":{\"outlinewidth\":0,\"ticks\":\"\"},\"colorscale\":[[0.0,\"#0d0887\"],[0.1111111111111111,\"#46039f\"],[0.2222222222222222,\"#7201a8\"],[0.3333333333333333,\"#9c179e\"],[0.4444444444444444,\"#bd3786\"],[0.5555555555555556,\"#d8576b\"],[0.6666666666666666,\"#ed7953\"],[0.7777777777777778,\"#fb9f3a\"],[0.8888888888888888,\"#fdca26\"],[1.0,\"#f0f921\"]],\"type\":\"histogram2d\"}],\"histogram2dcontour\":[{\"colorbar\":{\"outlinewidth\":0,\"ticks\":\"\"},\"colorscale\":[[0.0,\"#0d0887\"],[0.1111111111111111,\"#46039f\"],[0.2222222222222222,\"#7201a8\"],[0.3333333333333333,\"#9c179e\"],[0.4444444444444444,\"#bd3786\"],[0.5555555555555556,\"#d8576b\"],[0.6666666666666666,\"#ed7953\"],[0.7777777777777778,\"#fb9f3a\"],[0.8888888888888888,\"#fdca26\"],[1.0,\"#f0f921\"]],\"type\":\"histogram2dcontour\"}],\"mesh3d\":[{\"colorbar\":{\"outlinewidth\":0,\"ticks\":\"\"},\"type\":\"mesh3d\"}],\"parcoords\":[{\"line\":{\"colorbar\":{\"outlinewidth\":0,\"ticks\":\"\"}},\"type\":\"parcoords\"}],\"pie\":[{\"automargin\":true,\"type\":\"pie\"}],\"scatter\":[{\"marker\":{\"colorbar\":{\"outlinewidth\":0,\"ticks\":\"\"}},\"type\":\"scatter\"}],\"scatter3d\":[{\"line\":{\"colorbar\":{\"outlinewidth\":0,\"ticks\":\"\"}},\"marker\":{\"colorbar\":{\"outlinewidth\":0,\"ticks\":\"\"}},\"type\":\"scatter3d\"}],\"scattercarpet\":[{\"marker\":{\"colorbar\":{\"outlinewidth\":0,\"ticks\":\"\"}},\"type\":\"scattercarpet\"}],\"scattergeo\":[{\"marker\":{\"colorbar\":{\"outlinewidth\":0,\"ticks\":\"\"}},\"type\":\"scattergeo\"}],\"scattergl\":[{\"marker\":{\"colorbar\":{\"outlinewidth\":0,\"ticks\":\"\"}},\"type\":\"scattergl\"}],\"scattermapbox\":[{\"marker\":{\"colorbar\":{\"outlinewidth\":0,\"ticks\":\"\"}},\"type\":\"scattermapbox\"}],\"scatterpolar\":[{\"marker\":{\"colorbar\":{\"outlinewidth\":0,\"ticks\":\"\"}},\"type\":\"scatterpolar\"}],\"scatterpolargl\":[{\"marker\":{\"colorbar\":{\"outlinewidth\":0,\"ticks\":\"\"}},\"type\":\"scatterpolargl\"}],\"scatterternary\":[{\"marker\":{\"colorbar\":{\"outlinewidth\":0,\"ticks\":\"\"}},\"type\":\"scatterternary\"}],\"surface\":[{\"colorbar\":{\"outlinewidth\":0,\"ticks\":\"\"},\"colorscale\":[[0.0,\"#0d0887\"],[0.1111111111111111,\"#46039f\"],[0.2222222222222222,\"#7201a8\"],[0.3333333333333333,\"#9c179e\"],[0.4444444444444444,\"#bd3786\"],[0.5555555555555556,\"#d8576b\"],[0.6666666666666666,\"#ed7953\"],[0.7777777777777778,\"#fb9f3a\"],[0.8888888888888888,\"#fdca26\"],[1.0,\"#f0f921\"]],\"type\":\"surface\"}],\"table\":[{\"cells\":{\"fill\":{\"color\":\"#EBF0F8\"},\"line\":{\"color\":\"white\"}},\"header\":{\"fill\":{\"color\":\"#C8D4E3\"},\"line\":{\"color\":\"white\"}},\"type\":\"table\"}]},\"layout\":{\"annotationdefaults\":{\"arrowcolor\":\"#2a3f5f\",\"arrowhead\":0,\"arrowwidth\":1},\"autotypenumbers\":\"strict\",\"coloraxis\":{\"colorbar\":{\"outlinewidth\":0,\"ticks\":\"\"}},\"colorscale\":{\"diverging\":[[0,\"#8e0152\"],[0.1,\"#c51b7d\"],[0.2,\"#de77ae\"],[0.3,\"#f1b6da\"],[0.4,\"#fde0ef\"],[0.5,\"#f7f7f7\"],[0.6,\"#e6f5d0\"],[0.7,\"#b8e186\"],[0.8,\"#7fbc41\"],[0.9,\"#4d9221\"],[1,\"#276419\"]],\"sequential\":[[0.0,\"#0d0887\"],[0.1111111111111111,\"#46039f\"],[0.2222222222222222,\"#7201a8\"],[0.3333333333333333,\"#9c179e\"],[0.4444444444444444,\"#bd3786\"],[0.5555555555555556,\"#d8576b\"],[0.6666666666666666,\"#ed7953\"],[0.7777777777777778,\"#fb9f3a\"],[0.8888888888888888,\"#fdca26\"],[1.0,\"#f0f921\"]],\"sequentialminus\":[[0.0,\"#0d0887\"],[0.1111111111111111,\"#46039f\"],[0.2222222222222222,\"#7201a8\"],[0.3333333333333333,\"#9c179e\"],[0.4444444444444444,\"#bd3786\"],[0.5555555555555556,\"#d8576b\"],[0.6666666666666666,\"#ed7953\"],[0.7777777777777778,\"#fb9f3a\"],[0.8888888888888888,\"#fdca26\"],[1.0,\"#f0f921\"]]},\"colorway\":[\"#636efa\",\"#EF553B\",\"#00cc96\",\"#ab63fa\",\"#FFA15A\",\"#19d3f3\",\"#FF6692\",\"#B6E880\",\"#FF97FF\",\"#FECB52\"],\"font\":{\"color\":\"#2a3f5f\"},\"geo\":{\"bgcolor\":\"white\",\"lakecolor\":\"white\",\"landcolor\":\"#E5ECF6\",\"showlakes\":true,\"showland\":true,\"subunitcolor\":\"white\"},\"hoverlabel\":{\"align\":\"left\"},\"hovermode\":\"closest\",\"mapbox\":{\"style\":\"light\"},\"paper_bgcolor\":\"white\",\"plot_bgcolor\":\"#E5ECF6\",\"polar\":{\"angularaxis\":{\"gridcolor\":\"white\",\"linecolor\":\"white\",\"ticks\":\"\"},\"bgcolor\":\"#E5ECF6\",\"radialaxis\":{\"gridcolor\":\"white\",\"linecolor\":\"white\",\"ticks\":\"\"}},\"scene\":{\"xaxis\":{\"backgroundcolor\":\"#E5ECF6\",\"gridcolor\":\"white\",\"gridwidth\":2,\"linecolor\":\"white\",\"showbackground\":true,\"ticks\":\"\",\"zerolinecolor\":\"white\"},\"yaxis\":{\"backgroundcolor\":\"#E5ECF6\",\"gridcolor\":\"white\",\"gridwidth\":2,\"linecolor\":\"white\",\"showbackground\":true,\"ticks\":\"\",\"zerolinecolor\":\"white\"},\"zaxis\":{\"backgroundcolor\":\"#E5ECF6\",\"gridcolor\":\"white\",\"gridwidth\":2,\"linecolor\":\"white\",\"showbackground\":true,\"ticks\":\"\",\"zerolinecolor\":\"white\"}},\"shapedefaults\":{\"line\":{\"color\":\"#2a3f5f\"}},\"ternary\":{\"aaxis\":{\"gridcolor\":\"white\",\"linecolor\":\"white\",\"ticks\":\"\"},\"baxis\":{\"gridcolor\":\"white\",\"linecolor\":\"white\",\"ticks\":\"\"},\"bgcolor\":\"#E5ECF6\",\"caxis\":{\"gridcolor\":\"white\",\"linecolor\":\"white\",\"ticks\":\"\"}},\"title\":{\"x\":0.05},\"xaxis\":{\"automargin\":true,\"gridcolor\":\"white\",\"linecolor\":\"white\",\"ticks\":\"\",\"title\":{\"standoff\":15},\"zerolinecolor\":\"white\",\"zerolinewidth\":2},\"yaxis\":{\"automargin\":true,\"gridcolor\":\"white\",\"linecolor\":\"white\",\"ticks\":\"\",\"title\":{\"standoff\":15},\"zerolinecolor\":\"white\",\"zerolinewidth\":2}}},\"legend\":{\"tracegroupgap\":0},\"title\":{\"text\":\"Rating Wise Green Building\"},\"uniformtext\":{\"minsize\":14,\"mode\":\"hide\"}},                        {\"responsive\": true}                    ).then(function(){\n",
              "                            \n",
              "var gd = document.getElementById('4d99067e-2ef1-486d-bf53-96b280da910e');\n",
              "var x = new MutationObserver(function (mutations, observer) {{\n",
              "        var display = window.getComputedStyle(gd).display;\n",
              "        if (!display || display === 'none') {{\n",
              "            console.log([gd, 'removed!']);\n",
              "            Plotly.purge(gd);\n",
              "            observer.disconnect();\n",
              "        }}\n",
              "}});\n",
              "\n",
              "// Listen for the removal of the full notebook cells\n",
              "var notebookContainer = gd.closest('#notebook-container');\n",
              "if (notebookContainer) {{\n",
              "    x.observe(notebookContainer, {childList: true});\n",
              "}}\n",
              "\n",
              "// Listen for the clearing of the current output cell\n",
              "var outputEl = gd.closest('.output');\n",
              "if (outputEl) {{\n",
              "    x.observe(outputEl, {childList: true});\n",
              "}}\n",
              "\n",
              "                        })                };                            </script>        </div>\n",
              "</body>\n",
              "</html>"
            ]
          },
          "metadata": {}
        }
      ]
    },
    {
      "cell_type": "code",
      "source": [
        "data = df[df['greenmarkstatus']=='Yes'].sort_values('greenmarkyearaward', ascending=False)\n",
        "\n",
        "fig = px.parallel_categories(data,\n",
        "                             dimensions=['greenmarkyearaward', 'greenmarkrating','buildingtype'],\n",
        "                             labels=dict(greenmarkyearaward='Year', \n",
        "                                              greenmarkrating='Rating', \n",
        "                                              buildingtype='Type'),\n",
        "                             title='Green Building at Singapore',\n",
        "                            )\n",
        "fig.show()"
      ],
      "metadata": {
        "colab": {
          "base_uri": "https://localhost:8080/",
          "height": 542
        },
        "id": "UXA_luR5zdWO",
        "outputId": "8eb4bccb-3587-4322-f1f6-38fdeb07337d"
      },
      "execution_count": null,
      "outputs": [
        {
          "output_type": "display_data",
          "data": {
            "text/html": [
              "<html>\n",
              "<head><meta charset=\"utf-8\" /></head>\n",
              "<body>\n",
              "    <div>            <script src=\"https://cdnjs.cloudflare.com/ajax/libs/mathjax/2.7.5/MathJax.js?config=TeX-AMS-MML_SVG\"></script><script type=\"text/javascript\">if (window.MathJax) {MathJax.Hub.Config({SVG: {font: \"STIX-Web\"}});}</script>                <script type=\"text/javascript\">window.PlotlyConfig = {MathJaxConfig: 'local'};</script>\n",
              "        <script src=\"https://cdn.plot.ly/plotly-2.8.3.min.js\"></script>                <div id=\"0bd1d42c-a525-4265-97aa-28c0c8c928bd\" class=\"plotly-graph-div\" style=\"height:525px; width:100%;\"></div>            <script type=\"text/javascript\">                                    window.PLOTLYENV=window.PLOTLYENV || {};                                    if (document.getElementById(\"0bd1d42c-a525-4265-97aa-28c0c8c928bd\")) {                    Plotly.newPlot(                        \"0bd1d42c-a525-4265-97aa-28c0c8c928bd\",                        [{\"dimensions\":[{\"label\":\"Year\",\"values\":[2019.0,2018.0,2018.0,2018.0,2018.0,2018.0,2018.0,2018.0,2018.0,2018.0,2018.0,2018.0,2018.0,2018.0,2018.0,2018.0,2018.0,2018.0,2018.0,2018.0,2018.0,2018.0,2018.0,2018.0,2018.0,2018.0,2018.0,2018.0,2018.0,2018.0,2018.0,2018.0,2018.0,2018.0,2017.0,2017.0,2017.0,2017.0,2017.0,2017.0,2017.0,2017.0,2017.0,2017.0,2017.0,2017.0,2017.0,2017.0,2017.0,2017.0,2017.0,2017.0,2017.0,2017.0,2017.0,2017.0,2017.0,2017.0,2017.0,2017.0,2017.0,2017.0,2017.0,2017.0,2017.0,2017.0,2017.0,2017.0,2017.0,2017.0,2017.0,2017.0,2017.0,2017.0,2017.0,2017.0,2017.0,2017.0,2017.0,2017.0,2017.0,2017.0,2017.0,2017.0,2017.0,2017.0,2017.0,2017.0,2017.0,2017.0,2016.0,2016.0,2016.0,2016.0,2016.0,2016.0,2016.0,2016.0,2016.0,2016.0,2016.0,2016.0,2016.0,2016.0,2016.0,2016.0,2016.0,2016.0,2016.0,2016.0,2016.0,2016.0,2016.0,2016.0,2016.0,2016.0,2016.0,2016.0,2016.0,2016.0,2016.0,2016.0,2016.0,2016.0,2016.0,2016.0,2016.0,2016.0,2016.0,2016.0,2016.0,2016.0,2016.0,2016.0,2016.0,2016.0,2016.0,2016.0,2016.0,2016.0,2016.0,2016.0,2016.0,2016.0,2016.0,2016.0,2015.0,2015.0,2015.0,2015.0,2015.0,2015.0,2015.0,2015.0,2015.0,2015.0,2015.0,2015.0,2015.0,2015.0,2015.0,2015.0,2015.0,2015.0,2015.0,2015.0,2015.0,2015.0,2015.0,2015.0,2015.0,2015.0,2015.0,2015.0,2015.0,2015.0,2015.0,2015.0,2015.0,2015.0,2015.0,2015.0,2015.0,2014.0,2014.0,2014.0,2014.0,2014.0,2014.0,2014.0,2014.0,2014.0,2014.0,2014.0,2014.0,2014.0,2014.0,2014.0,2014.0,2014.0,2014.0,2014.0,2014.0,2014.0,2014.0,2014.0,2014.0,2014.0,2014.0,2014.0,2014.0,2014.0,2014.0,2014.0,2014.0,2014.0,2014.0,2014.0,2014.0,2014.0,2014.0,2013.0,2013.0,2013.0,2013.0,2013.0,2013.0,2013.0,2013.0,2013.0,2013.0,2013.0,2013.0,2013.0,2013.0,2013.0,2013.0,2013.0,2013.0,2013.0,2013.0,2013.0,2013.0,2013.0,2013.0,2013.0,2012.0,2012.0,2012.0,2012.0,2012.0,2012.0,2012.0,2012.0,2012.0,2012.0,2012.0,2012.0,2012.0,2012.0,2012.0,2012.0,2012.0,2012.0,2011.0,2011.0,2011.0,2011.0,2011.0,2011.0,2011.0,2011.0,2011.0,2011.0,2011.0,2011.0,2011.0,2011.0,2011.0,2010.0,2010.0,2010.0,2010.0,2009.0,2009.0,2009.0,2009.0,2009.0,2009.0,2009.0,2009.0,2009.0,2008.0,2008.0,2008.0,2008.0,2008.0,2007.0,2006.0,2006.0,2006.0]},{\"label\":\"Rating\",\"values\":[\"Platinum\",\"Platinum\",\"Certified\",\"Platinum\",\"Platinum\",\"Platinum\",\"GoldPlus\",\"Platinum\",\"Gold\",\"Platinum\",\"GoldPlus\",\"Certified\",\"Platinum\",\"Gold\",\"Platinum\",\"Platinum\",\"GoldPlus\",\"GoldPlus\",\"GoldPlus\",\"Platinum\",\"Platinum\",\"Platinum\",\"Platinum\",\"GoldPlus\",\"GoldPlus\",\"Gold\",\"GoldPlus\",\"Platinum\",\"Certified\",\"Platinum\",\"Certified\",\"GoldPlus\",\"Platinum\",\"Platinum\",\"GoldPlus\",\"GoldPlus\",\"Platinum\",\"Certified\",\"GoldPlus\",\"Platinum\",\"Platinum\",\"Platinum\",\"Gold\",\"GoldPlus\",\"Gold\",\"GoldPlus\",\"Platinum\",\"Platinum\",\"Platinum\",\"Platinum\",\"GoldPlus\",\"Platinum\",\"Gold\",\"Platinum\",\"Gold\",\"Platinum\",\"GoldPlus\",\"Gold\",\"Platinum\",\"Platinum\",\"Platinum\",\"Gold\",\"Platinum\",\"GoldPlus\",\"Platinum\",\"Platinum\",\"Platinum\",\"Platinum\",\"GoldPlus\",\"Platinum\",\"Platinum\",\"Gold\",\"Gold\",\"GoldPlus\",\"Certified\",\"Gold\",\"Certified\",\"Certified\",\"Certified\",\"Platinum\",\"Gold\",\"Platinum\",\"Platinum\",\"Platinum\",\"Certified\",\"Platinum\",\"Certified\",\"Certified\",\"Platinum\",\"Certified\",\"Platinum\",\"GoldPlus\",\"Gold\",\"Gold\",\"Platinum\",\"Certified\",\"Platinum\",\"Gold\",\"Platinum\",\"Platinum\",\"Gold\",\"Gold\",\"Gold\",\"Gold\",\"Certified\",\"Gold\",\"Gold\",\"GoldPlus\",\"GoldPlus\",\"Platinum\",\"Gold\",\"Platinum\",\"Certified\",\"Gold\",\"GoldPlus\",\"Platinum\",\"GoldPlus\",\"Certified\",\"Platinum\",\"Certified\",\"Platinum\",\"Platinum\",\"GoldPlus\",\"GoldPlus\",\"Gold\",\"Gold\",\"Gold\",\"Certified\",\"Platinum\",\"Gold\",\"Certified\",\"Certified\",\"Platinum\",\"Gold\",\"Platinum\",\"Platinum\",\"Platinum\",\"Platinum\",\"Platinum\",\"Gold\",\"Certified\",\"Platinum\",\"Platinum\",\"Gold\",\"Gold\",\"GoldPlus\",\"Platinum\",\"Gold\",\"Gold\",\"Platinum\",\"Gold\",\"Platinum\",\"Gold\",\"Platinum\",\"GoldPlus\",\"GoldPlus\",\"Gold\",\"GoldPlus\",\"Platinum\",\"Platinum\",\"Legislated\",\"GoldPlus\",\"Platinum\",\"Gold\",\"Platinum\",\"Platinum\",\"Gold\",\"Platinum\",\"Platinum\",\"Platinum\",\"Certified\",\"Platinum\",\"Platinum\",\"Platinum\",\"Certified\",\"Certified\",\"Platinum\",\"Platinum\",\"Platinum\",\"Gold\",\"Platinum\",\"Platinum\",\"Platinum\",\"Platinum\",\"Platinum\",\"Platinum\",\"Gold\",\"Platinum\",\"Platinum\",\"Certified\",\"Platinum\",\"Gold\",\"Platinum\",\"GoldPlus\",\"Platinum\",\"Platinum\",\"Certified\",\"Platinum\",\"Gold\",\"Platinum\",\"GoldPlus\",\"Platinum\",\"Platinum\",\"Gold\",\"Gold\",\"Gold\",\"Certified\",\"Platinum\",\"Platinum\",\"Gold\",\"GoldPlus\",\"Platinum\",\"Gold\",\"Certified\",\"Platinum\",\"GoldPlus\",\"Certified\",\"GoldPlus\",\"Platinum\",\"Gold\",\"Platinum\",\"Platinum\",\"Certified\",\"Platinum\",\"Platinum\",\"GoldPlus\",\"Certified\",\"GoldPlus\",\"GoldPlus\",\"Platinum\",\"Gold\",\"Platinum\",\"GoldPlus\",\"Platinum\",\"Platinum\",\"Platinum\",\"Gold\",\"GoldPlus\",\"Platinum\",\"Certified\",\"Platinum\",\"Platinum\",\"Gold\",\"Platinum\",\"Gold\",\"GoldPlus\",\"GoldPlus\",\"Gold\",\"Gold\",\"Gold\",\"Platinum\",\"Gold\",\"Platinum\",\"Gold\",\"Platinum\",\"Gold\",\"Gold\",\"GoldPlus\",\"Gold\",\"Platinum\",\"Gold\",\"Platinum\",\"Platinum\",\"GoldPlus\",\"Platinum\",\"Certified\",\"Gold\",\"Gold\",\"Platinum\",\"Certified\",\"Certified\",\"GoldPlus\",\"Platinum\",\"Certified\",\"Certified\",\"GoldPlus\",\"Gold\",\"Certified\",\"Certified\",\"Platinum\",\"Platinum\",\"Certified\",\"Platinum\",\"Gold\",\"GoldPlus\",\"Gold\",\"Certified\",\"Gold\",\"Gold\",\"GoldPlus\",\"GoldPlus\",\"Certified\",\"Certified\",\"Certified\",\"Certified\",\"GoldPlus\",\"GoldPlus\",\"Gold\",\"Platinum\",\"Platinum\",\"GoldPlus\"]},{\"label\":\"Type\",\"values\":[\"Hotel\",\"Retail\",\"Retail\",\"Retail\",\"Office\",\"Retail\",\"Office\",\"Hotel\",\"Office\",\"Office\",\"Hotel\",\"Nursing Home\",\"Office\",\"Hotel\",\"Office\",\"Mixed Development\",\"Hotel\",\"Office\",\"Hotel\",\"Office\",\"ITE\",\"Office\",\"Office\",\"Office\",\"Office\",\"Office\",\"Mixed Development\",\"Hotel\",\"Mixed Development\",\"Hotel\",\"Office\",\"Office\",\"Retail\",\"Office\",\"Retail\",\"Hotel\",\"Office\",\"Nursing Home\",\"Hotel\",\"Office\",\"Retail\",\"Office\",\"Mixed Development\",\"Office\",\"Community Hospital\",\"Office\",\"Office\",\"Retail\",\"ITE\",\"Mixed Development\",\"Office\",\"Hotel\",\"Mixed Development\",\"Office\",\"Office\",\"Hotel\",\"Office\",\"Hotel\",\"ITE\",\"Office\",\"Retail\",\"Office\",\"Office\",\"Office\",\"Retail\",\"Office\",\"Mixed Development\",\"Mixed Development\",\"Office\",\"Office\",\"Office\",\"Retail\",\"Office\",\"Office\",\"Office\",\"Retail\",\"Retail\",\"Office\",\"Office\",\"Mixed Development\",\"Retail\",\"Office\",\"Office\",\"Office\",\"Office\",\"University\",\"Office\",\"Retail\",\"Office\",\"Office\",\"Office\",\"Private School\",\"Retail\",\"Retail\",\"Retail\",\"Office\",\"Private School\",\"Office\",\"Office\",\"Private School\",\"Retail\",\"Office\",\"Office\",\"Office\",\"Office\",\"Private College\",\"Mixed Development\",\"Retail\",\"Office\",\"Nursing Home\",\"Mixed Development\",\"Office\",\"University\",\"Office\",\"Office\",\"Office\",\"Office\",\"Retail\",\"Nursing Home\",\"Nursing Home\",\"Office\",\"Office\",\"Hotel\",\"Polytechnic\",\"Office\",\"Office\",\"Office\",\"Mixed Development\",\"Office\",\"Retail\",\"Mixed Development\",\"Hotel\",\"Office\",\"Office\",\"Office\",\"Retail\",\"Hotel\",\"Polytechnic\",\"University\",\"Office\",\"Office\",\"Office\",\"Office\",\"Hotel\",\"Retail\",\"Office\",\"Office\",\"Retail\",\"Office\",\"Office\",\"Office\",\"Mixed Development\",\"Office\",\"Hotel\",\"Retail\",\"Office\",\"Office\",\"Nursing Home\",\"Hotel\",\"Office\",\"Office\",\"Hotel\",\"Retail\",\"Mixed Development\",\"Private College\",\"University\",\"Private School\",\"Polytechnic\",\"Office\",\"Hotel\",\"Retail\",\"Hotel\",\"Office\",\"Polytechnic\",\"Hotel\",\"Hotel\",\"Office\",\"Office\",\"Office\",\"Hotel\",\"Retail\",\"Office\",\"Office\",\"Polytechnic\",\"Specialist Centre (Public)\",\"Private College\",\"Retail\",\"Office\",\"Office\",\"Retail\",\"Office\",\"Office\",\"University\",\"University\",\"Office\",\"Hotel\",\"Nursing Home\",\"Office\",\"Retail\",\"Office\",\"Retail\",\"Office\",\"Office\",\"Office\",\"Office\",\"Office\",\"Office\",\"Private College\",\"Office\",\"Retail\",\"Office\",\"Private Hospital (Private)\",\"Hotel\",\"Retail\",\"Hotel\",\"Office\",\"Private Hospital (Private)\",\"Office\",\"Office\",\"Hotel\",\"General Hospital/ Specialist Centre (Public)\",\"Office\",\"Retail\",\"Office\",\"Office\",\"Office\",\"Hotel\",\"Office\",\"Private School\",\"Office\",\"Retail\",\"Hotel\",\"Retail\",\"Office\",\"University\",\"Office\",\"Polyclinic\",\"Office\",\"Private School\",\"Retail\",\"General Hospital/ Specialist Centre (Public)\",\"University\",\"Mixed Development\",\"Office\",\"Retail\",\"Office\",\"Hotel\",\"Hotel\",\"Office\",\"Office\",\"Mixed Development\",\"Retail\",\"University\",\"Office\",\"Office\",\"Office\",\"Office\",\"Office\",\"Office\",\"Office\",\"Private College\",\"Office\",\"Office\",\"Office\",\"Retail\",\"Office\",\"Office\",\"Mixed Development\",\"Office\",\"Office\",\"Office\",\"Office\",\"Mixed Development\",\"Office\",\"Office\",\"Retail\",\"Retail\",\"Retail\",\"Office\",\"Private School\",\"Hotel\",\"Office\",\"General Hospital/ Specialist Centre (Public)\",\"Office\",\"Office\",\"Retail\",\"Office\",\"Hotel\",\"Retail\",\"Office\",\"Office\",\"Office\",\"Hotel\",\"Hotel\",\"Office\",\"Hotel\",\"Office\",\"Retail\",\"Polytechnic\",\"General Hospital/ Specialist Centre (Public)\",\"Hotel\"]}],\"domain\":{\"x\":[0.0,1.0],\"y\":[0.0,1.0]},\"name\":\"\",\"type\":\"parcats\"}],                        {\"template\":{\"data\":{\"bar\":[{\"error_x\":{\"color\":\"#2a3f5f\"},\"error_y\":{\"color\":\"#2a3f5f\"},\"marker\":{\"line\":{\"color\":\"#E5ECF6\",\"width\":0.5},\"pattern\":{\"fillmode\":\"overlay\",\"size\":10,\"solidity\":0.2}},\"type\":\"bar\"}],\"barpolar\":[{\"marker\":{\"line\":{\"color\":\"#E5ECF6\",\"width\":0.5},\"pattern\":{\"fillmode\":\"overlay\",\"size\":10,\"solidity\":0.2}},\"type\":\"barpolar\"}],\"carpet\":[{\"aaxis\":{\"endlinecolor\":\"#2a3f5f\",\"gridcolor\":\"white\",\"linecolor\":\"white\",\"minorgridcolor\":\"white\",\"startlinecolor\":\"#2a3f5f\"},\"baxis\":{\"endlinecolor\":\"#2a3f5f\",\"gridcolor\":\"white\",\"linecolor\":\"white\",\"minorgridcolor\":\"white\",\"startlinecolor\":\"#2a3f5f\"},\"type\":\"carpet\"}],\"choropleth\":[{\"colorbar\":{\"outlinewidth\":0,\"ticks\":\"\"},\"type\":\"choropleth\"}],\"contour\":[{\"colorbar\":{\"outlinewidth\":0,\"ticks\":\"\"},\"colorscale\":[[0.0,\"#0d0887\"],[0.1111111111111111,\"#46039f\"],[0.2222222222222222,\"#7201a8\"],[0.3333333333333333,\"#9c179e\"],[0.4444444444444444,\"#bd3786\"],[0.5555555555555556,\"#d8576b\"],[0.6666666666666666,\"#ed7953\"],[0.7777777777777778,\"#fb9f3a\"],[0.8888888888888888,\"#fdca26\"],[1.0,\"#f0f921\"]],\"type\":\"contour\"}],\"contourcarpet\":[{\"colorbar\":{\"outlinewidth\":0,\"ticks\":\"\"},\"type\":\"contourcarpet\"}],\"heatmap\":[{\"colorbar\":{\"outlinewidth\":0,\"ticks\":\"\"},\"colorscale\":[[0.0,\"#0d0887\"],[0.1111111111111111,\"#46039f\"],[0.2222222222222222,\"#7201a8\"],[0.3333333333333333,\"#9c179e\"],[0.4444444444444444,\"#bd3786\"],[0.5555555555555556,\"#d8576b\"],[0.6666666666666666,\"#ed7953\"],[0.7777777777777778,\"#fb9f3a\"],[0.8888888888888888,\"#fdca26\"],[1.0,\"#f0f921\"]],\"type\":\"heatmap\"}],\"heatmapgl\":[{\"colorbar\":{\"outlinewidth\":0,\"ticks\":\"\"},\"colorscale\":[[0.0,\"#0d0887\"],[0.1111111111111111,\"#46039f\"],[0.2222222222222222,\"#7201a8\"],[0.3333333333333333,\"#9c179e\"],[0.4444444444444444,\"#bd3786\"],[0.5555555555555556,\"#d8576b\"],[0.6666666666666666,\"#ed7953\"],[0.7777777777777778,\"#fb9f3a\"],[0.8888888888888888,\"#fdca26\"],[1.0,\"#f0f921\"]],\"type\":\"heatmapgl\"}],\"histogram\":[{\"marker\":{\"pattern\":{\"fillmode\":\"overlay\",\"size\":10,\"solidity\":0.2}},\"type\":\"histogram\"}],\"histogram2d\":[{\"colorbar\":{\"outlinewidth\":0,\"ticks\":\"\"},\"colorscale\":[[0.0,\"#0d0887\"],[0.1111111111111111,\"#46039f\"],[0.2222222222222222,\"#7201a8\"],[0.3333333333333333,\"#9c179e\"],[0.4444444444444444,\"#bd3786\"],[0.5555555555555556,\"#d8576b\"],[0.6666666666666666,\"#ed7953\"],[0.7777777777777778,\"#fb9f3a\"],[0.8888888888888888,\"#fdca26\"],[1.0,\"#f0f921\"]],\"type\":\"histogram2d\"}],\"histogram2dcontour\":[{\"colorbar\":{\"outlinewidth\":0,\"ticks\":\"\"},\"colorscale\":[[0.0,\"#0d0887\"],[0.1111111111111111,\"#46039f\"],[0.2222222222222222,\"#7201a8\"],[0.3333333333333333,\"#9c179e\"],[0.4444444444444444,\"#bd3786\"],[0.5555555555555556,\"#d8576b\"],[0.6666666666666666,\"#ed7953\"],[0.7777777777777778,\"#fb9f3a\"],[0.8888888888888888,\"#fdca26\"],[1.0,\"#f0f921\"]],\"type\":\"histogram2dcontour\"}],\"mesh3d\":[{\"colorbar\":{\"outlinewidth\":0,\"ticks\":\"\"},\"type\":\"mesh3d\"}],\"parcoords\":[{\"line\":{\"colorbar\":{\"outlinewidth\":0,\"ticks\":\"\"}},\"type\":\"parcoords\"}],\"pie\":[{\"automargin\":true,\"type\":\"pie\"}],\"scatter\":[{\"marker\":{\"colorbar\":{\"outlinewidth\":0,\"ticks\":\"\"}},\"type\":\"scatter\"}],\"scatter3d\":[{\"line\":{\"colorbar\":{\"outlinewidth\":0,\"ticks\":\"\"}},\"marker\":{\"colorbar\":{\"outlinewidth\":0,\"ticks\":\"\"}},\"type\":\"scatter3d\"}],\"scattercarpet\":[{\"marker\":{\"colorbar\":{\"outlinewidth\":0,\"ticks\":\"\"}},\"type\":\"scattercarpet\"}],\"scattergeo\":[{\"marker\":{\"colorbar\":{\"outlinewidth\":0,\"ticks\":\"\"}},\"type\":\"scattergeo\"}],\"scattergl\":[{\"marker\":{\"colorbar\":{\"outlinewidth\":0,\"ticks\":\"\"}},\"type\":\"scattergl\"}],\"scattermapbox\":[{\"marker\":{\"colorbar\":{\"outlinewidth\":0,\"ticks\":\"\"}},\"type\":\"scattermapbox\"}],\"scatterpolar\":[{\"marker\":{\"colorbar\":{\"outlinewidth\":0,\"ticks\":\"\"}},\"type\":\"scatterpolar\"}],\"scatterpolargl\":[{\"marker\":{\"colorbar\":{\"outlinewidth\":0,\"ticks\":\"\"}},\"type\":\"scatterpolargl\"}],\"scatterternary\":[{\"marker\":{\"colorbar\":{\"outlinewidth\":0,\"ticks\":\"\"}},\"type\":\"scatterternary\"}],\"surface\":[{\"colorbar\":{\"outlinewidth\":0,\"ticks\":\"\"},\"colorscale\":[[0.0,\"#0d0887\"],[0.1111111111111111,\"#46039f\"],[0.2222222222222222,\"#7201a8\"],[0.3333333333333333,\"#9c179e\"],[0.4444444444444444,\"#bd3786\"],[0.5555555555555556,\"#d8576b\"],[0.6666666666666666,\"#ed7953\"],[0.7777777777777778,\"#fb9f3a\"],[0.8888888888888888,\"#fdca26\"],[1.0,\"#f0f921\"]],\"type\":\"surface\"}],\"table\":[{\"cells\":{\"fill\":{\"color\":\"#EBF0F8\"},\"line\":{\"color\":\"white\"}},\"header\":{\"fill\":{\"color\":\"#C8D4E3\"},\"line\":{\"color\":\"white\"}},\"type\":\"table\"}]},\"layout\":{\"annotationdefaults\":{\"arrowcolor\":\"#2a3f5f\",\"arrowhead\":0,\"arrowwidth\":1},\"autotypenumbers\":\"strict\",\"coloraxis\":{\"colorbar\":{\"outlinewidth\":0,\"ticks\":\"\"}},\"colorscale\":{\"diverging\":[[0,\"#8e0152\"],[0.1,\"#c51b7d\"],[0.2,\"#de77ae\"],[0.3,\"#f1b6da\"],[0.4,\"#fde0ef\"],[0.5,\"#f7f7f7\"],[0.6,\"#e6f5d0\"],[0.7,\"#b8e186\"],[0.8,\"#7fbc41\"],[0.9,\"#4d9221\"],[1,\"#276419\"]],\"sequential\":[[0.0,\"#0d0887\"],[0.1111111111111111,\"#46039f\"],[0.2222222222222222,\"#7201a8\"],[0.3333333333333333,\"#9c179e\"],[0.4444444444444444,\"#bd3786\"],[0.5555555555555556,\"#d8576b\"],[0.6666666666666666,\"#ed7953\"],[0.7777777777777778,\"#fb9f3a\"],[0.8888888888888888,\"#fdca26\"],[1.0,\"#f0f921\"]],\"sequentialminus\":[[0.0,\"#0d0887\"],[0.1111111111111111,\"#46039f\"],[0.2222222222222222,\"#7201a8\"],[0.3333333333333333,\"#9c179e\"],[0.4444444444444444,\"#bd3786\"],[0.5555555555555556,\"#d8576b\"],[0.6666666666666666,\"#ed7953\"],[0.7777777777777778,\"#fb9f3a\"],[0.8888888888888888,\"#fdca26\"],[1.0,\"#f0f921\"]]},\"colorway\":[\"#636efa\",\"#EF553B\",\"#00cc96\",\"#ab63fa\",\"#FFA15A\",\"#19d3f3\",\"#FF6692\",\"#B6E880\",\"#FF97FF\",\"#FECB52\"],\"font\":{\"color\":\"#2a3f5f\"},\"geo\":{\"bgcolor\":\"white\",\"lakecolor\":\"white\",\"landcolor\":\"#E5ECF6\",\"showlakes\":true,\"showland\":true,\"subunitcolor\":\"white\"},\"hoverlabel\":{\"align\":\"left\"},\"hovermode\":\"closest\",\"mapbox\":{\"style\":\"light\"},\"paper_bgcolor\":\"white\",\"plot_bgcolor\":\"#E5ECF6\",\"polar\":{\"angularaxis\":{\"gridcolor\":\"white\",\"linecolor\":\"white\",\"ticks\":\"\"},\"bgcolor\":\"#E5ECF6\",\"radialaxis\":{\"gridcolor\":\"white\",\"linecolor\":\"white\",\"ticks\":\"\"}},\"scene\":{\"xaxis\":{\"backgroundcolor\":\"#E5ECF6\",\"gridcolor\":\"white\",\"gridwidth\":2,\"linecolor\":\"white\",\"showbackground\":true,\"ticks\":\"\",\"zerolinecolor\":\"white\"},\"yaxis\":{\"backgroundcolor\":\"#E5ECF6\",\"gridcolor\":\"white\",\"gridwidth\":2,\"linecolor\":\"white\",\"showbackground\":true,\"ticks\":\"\",\"zerolinecolor\":\"white\"},\"zaxis\":{\"backgroundcolor\":\"#E5ECF6\",\"gridcolor\":\"white\",\"gridwidth\":2,\"linecolor\":\"white\",\"showbackground\":true,\"ticks\":\"\",\"zerolinecolor\":\"white\"}},\"shapedefaults\":{\"line\":{\"color\":\"#2a3f5f\"}},\"ternary\":{\"aaxis\":{\"gridcolor\":\"white\",\"linecolor\":\"white\",\"ticks\":\"\"},\"baxis\":{\"gridcolor\":\"white\",\"linecolor\":\"white\",\"ticks\":\"\"},\"bgcolor\":\"#E5ECF6\",\"caxis\":{\"gridcolor\":\"white\",\"linecolor\":\"white\",\"ticks\":\"\"}},\"title\":{\"x\":0.05},\"xaxis\":{\"automargin\":true,\"gridcolor\":\"white\",\"linecolor\":\"white\",\"ticks\":\"\",\"title\":{\"standoff\":15},\"zerolinecolor\":\"white\",\"zerolinewidth\":2},\"yaxis\":{\"automargin\":true,\"gridcolor\":\"white\",\"linecolor\":\"white\",\"ticks\":\"\",\"title\":{\"standoff\":15},\"zerolinecolor\":\"white\",\"zerolinewidth\":2}}},\"legend\":{\"tracegroupgap\":0},\"title\":{\"text\":\"Green Building at Singapore\"}},                        {\"responsive\": true}                    ).then(function(){\n",
              "                            \n",
              "var gd = document.getElementById('0bd1d42c-a525-4265-97aa-28c0c8c928bd');\n",
              "var x = new MutationObserver(function (mutations, observer) {{\n",
              "        var display = window.getComputedStyle(gd).display;\n",
              "        if (!display || display === 'none') {{\n",
              "            console.log([gd, 'removed!']);\n",
              "            Plotly.purge(gd);\n",
              "            observer.disconnect();\n",
              "        }}\n",
              "}});\n",
              "\n",
              "// Listen for the removal of the full notebook cells\n",
              "var notebookContainer = gd.closest('#notebook-container');\n",
              "if (notebookContainer) {{\n",
              "    x.observe(notebookContainer, {childList: true});\n",
              "}}\n",
              "\n",
              "// Listen for the clearing of the current output cell\n",
              "var outputEl = gd.closest('.output');\n",
              "if (outputEl) {{\n",
              "    x.observe(outputEl, {childList: true});\n",
              "}}\n",
              "\n",
              "                        })                };                            </script>        </div>\n",
              "</body>\n",
              "</html>"
            ]
          },
          "metadata": {}
        }
      ]
    },
    {
      "cell_type": "code",
      "source": [
        "data = df\n",
        "data['percent'] = (data['2018energyuseintensity']-data['2017energyuseintensity'])/data['2017energyuseintensity']*100\n",
        "data = data.fillna('NotCertified')\n",
        "\n",
        "fig = px.box(data,\n",
        "                   x=\"percent\", \n",
        "                   title='Percentage Diference between 2017 and 2018', \n",
        "                   color='greenmarkrating',\n",
        "                   color_discrete_map=color_rating,\n",
        "                  )\n",
        "\n",
        "fig.update_layout(xaxis=dict(title='Difference Energy Usage (%)'),\n",
        "                  yaxis=dict(visible=False))\n",
        "fig.show()"
      ],
      "metadata": {
        "colab": {
          "base_uri": "https://localhost:8080/",
          "height": 542
        },
        "id": "G-tW7dotzmG1",
        "outputId": "6c8ac7d8-7e27-4760-ba1c-65929023e25c"
      },
      "execution_count": null,
      "outputs": [
        {
          "output_type": "display_data",
          "data": {
            "text/html": [
              "<html>\n",
              "<head><meta charset=\"utf-8\" /></head>\n",
              "<body>\n",
              "    <div>            <script src=\"https://cdnjs.cloudflare.com/ajax/libs/mathjax/2.7.5/MathJax.js?config=TeX-AMS-MML_SVG\"></script><script type=\"text/javascript\">if (window.MathJax) {MathJax.Hub.Config({SVG: {font: \"STIX-Web\"}});}</script>                <script type=\"text/javascript\">window.PlotlyConfig = {MathJaxConfig: 'local'};</script>\n",
              "        <script src=\"https://cdn.plot.ly/plotly-2.8.3.min.js\"></script>                <div id=\"35f7c321-8761-43dc-b7dd-57f29178aa66\" class=\"plotly-graph-div\" style=\"height:525px; width:100%;\"></div>            <script type=\"text/javascript\">                                    window.PLOTLYENV=window.PLOTLYENV || {};                                    if (document.getElementById(\"35f7c321-8761-43dc-b7dd-57f29178aa66\")) {                    Plotly.newPlot(                        \"35f7c321-8761-43dc-b7dd-57f29178aa66\",                        [{\"alignmentgroup\":\"True\",\"hovertemplate\":\"greenmarkrating=NotCertified<br>percent=%{x}<extra></extra>\",\"legendgroup\":\"NotCertified\",\"marker\":{\"color\":\"Black\"},\"name\":\"NotCertified\",\"notched\":false,\"offsetgroup\":\"NotCertified\",\"orientation\":\"h\",\"showlegend\":true,\"x\":[29.629629629629626,-1.4234875444839856,11.6751269035533,-3.237410071942446,-2.564102564102564,671.4285714285714,-0.5128205128205128,7.9787234042553195,-1.5,4.941860465116279,22.516556291390728,-17.100371747211895,2.42914979757085,-5.472636815920398,17.22222222222222,22.282608695652172,-0.7444168734491315,-2.3696682464454977,14.382022471910114,8.680555555555555,-18.452380952380953,0.0,-9.67741935483871,6.796116504854369,-2.857142857142857,-13.924050632911392,-4.651162790697675,-4.117647058823529,-6.815642458100559,-10.759493670886076,-13.745704467353953,-0.4524886877828055,-4.49438202247191,4.395604395604396,-0.9324009324009324,-23.92638036809816,-6.232294617563739,1.6574585635359116,-9.75609756097561,0.273224043715847,3.292181069958848,22.916666666666664,-8.37696335078534,-4.680851063829787,-8.552631578947368,3.076923076923077,10.483870967741936,-4.779411764705882,-4.0,-2.364864864864865,1.3605442176870748,-0.5524861878453038,-8.55614973262032,-0.819672131147541,-23.417721518987342,10.967741935483872,15.957446808510639,-14.873417721518987,-6.0,-10.0,-10.4,0.0,4.895104895104895,4.008438818565401,17.142857142857142,0.0,-9.411764705882353,1.8292682926829267,2.8735632183908044,13.636363636363635,-7.894736842105263,-1.680672268907563,-25.954198473282442,-3.4482758620689653,-2.3255813953488373,29.03225806451613,111.76470588235294,-0.3448275862068966,-11.538461538461538,3.3333333333333335,-2.191780821917808,1.7241379310344827,15.573770491803279,1.3215859030837005,-2.0168067226890756,-1.3157894736842104,-2.8000000000000003,0.0,4.066543438077634,1.9287833827893175,1.4492753623188406,-3.0303030303030303,-5.400981996726677,-1.858736059479554,-10.473815461346634,-1.3630731102850062,-0.8695652173913043,-10.05586592178771,-8.0,-4.761904761904762,-6.751592356687898,7.079646017699115,-0.7633587786259541,-3.0,-0.3968253968253968,-3.8461538461538463,-3.076923076923077,-0.7662835249042145,-4.075235109717868,-16.791044776119403,5.448717948717949,-15.306122448979592,-0.3968253968253968,8.285714285714285,3.4934497816593884,1.509433962264151,-3.937007874015748,2.0746887966804977,0.911854103343465,-7.6190476190476195,-4.477611940298507,-9.774436090225564,-10.251046025104603,0.46511627906976744,67.08860759493672,7.07070707070707,-0.9852216748768473,-4.166666666666666,6.084656084656085,3.125,222.41379310344826,-25.320512820512818,-0.8888888888888888,-3.2994923857868024,-4.044117647058823,-1.183431952662722,-8.333333333333332,7.112970711297072,0.7843137254901961,3.389830508474576,4.854368932038835,4.761904761904762,-4.455445544554455,1.1173184357541899,-2.330508474576271,1.8575851393188854,-7.865168539325842,-7.303370786516854,1.171875,-4.213483146067416,1.2903225806451613,-4.27807486631016,0.0,-4.968944099378882,-6.791569086651054,-5.9259259259259265,-3.2679738562091507,0.975609756097561,-1.6528925619834711,12.23021582733813,1.6348773841961852,10.638297872340425,6.220095693779904,2.681992337164751,5.797101449275362,2.843601895734597,-3.7593984962406015,-3.873239436619718,6.382978723404255,-6.521739130434782,-2.072538860103627,51.66666666666667,-0.9259259259259258,-1.3100436681222707,28.431372549019606,1.9920318725099602,1.2987012987012987,-7.936507936507936,-1.3761467889908259,16.157205240174672,10.16949152542373,-1.951219512195122,11.409395973154362,-16.030534351145036,0.0,-0.19120458891013384,-4.932735426008969,-1.238390092879257,-27.142857142857142,-3.225806451612903,0.0,46.64310954063604,-8.19672131147541,-5.263157894736842,-15.123456790123457,-2.631578947368421,9.44206008583691,16.040955631399317,1.5544041450777202,-4.5662100456621,-1.6064257028112447,9.49367088607595,-2.4193548387096775,4.430379746835443,-4.195804195804196,0.5361930294906166,3.225806451612903,-1.2738853503184715,-5.5045871559633035,-14.482758620689657,-7.152682255845942,-4.605263157894736,6.875000000000001,21.50537634408602,0.7575757575757576,-3.592814371257485,-5.460750853242321,5.384615384615385,1.6597510373443984,-2.4691358024691357,-6.993006993006993,10.526315789473683,2.793296089385475,-8.235294117647058,15.981735159817351,-0.6504065040650406,17.370892018779344,1.2612612612612613,-13.46938775510204,-4.424778761061947,-3.30188679245283,5.128205128205128,4.444444444444445,-19.047619047619047,6.666666666666667,-5.376344086021505,-1.0810810810810811,-9.81012658227848,1.0615711252653928,8.064516129032258,-2.0618556701030926,-24.907063197026023,-3.571428571428571,-2.9154518950437316,8.571428571428571,-25.0,-1.639344262295082,-6.837606837606838,-7.514450867052023,-5.128205128205128,2.262443438914027,4.859335038363171,-1.694915254237288,9.345794392523365,-0.8130081300813009,-7.458563535911603,-1.1715481171548117,88.0,6.6006600660066,-6.101694915254238,-6.104651162790697,-6.827309236947792,-3.3051498847040737,3.4722222222222223,-1.8292682926829267,-8.926417370325694,-11.29032258064516,-12.757201646090536,-1.9607843137254901,1.956521739130435,1.4397905759162304,-2.1164021164021163,-4.27807486631016,-4.022988505747127,12.295081967213115,-0.9836065573770493,-25.482625482625483,-25.099601593625497,-20.54054054054054,-0.4434589800443459,-11.627906976744185,146.42857142857142,6.9306930693069315,-7.772020725388601,15.068493150684931,-9.195402298850574,6.451612903225806,-10.047846889952153,26.666666666666668,-5.932203389830509,-12.745098039215685,-11.814859926918391,-3.1930333817126266,-10.047846889952153,-0.6211180124223602,13.496932515337424,-9.510869565217392,-15.789473684210526,8.51063829787234,3.508771929824561,-2.366863905325444,-2.358490566037736,10.285714285714285,-11.891891891891893,1.7699115044247788,-0.6472491909385114,2.843601895734597,7.142857142857142,-10.526315789473683,2.564102564102564,-3.286384976525822,1.8404907975460123,-1.2552301255230125,15.340909090909092,-21.678321678321677,-11.607142857142858,-4.3478260869565215,-5.275229357798166,14.920634920634921,1.4285714285714286,-2.5210084033613445,7.9470198675496695,11.711711711711711,-1.69971671388102,-2.631578947368421,14.925373134328357,6.504065040650407,0.6825938566552902,9.278350515463918,3.0434782608695654,-11.564625850340136,5.341246290801187,-26.400000000000002,-3.8338658146964857,-5.392156862745098,-2.680965147453083,-11.881188118811881,-11.11111111111111,-6.666666666666667,-26.699029126213592,-3.296703296703297,16.27906976744186,-2.2556390977443606,3.009259259259259,-6.024096385542169,18.27956989247312,-1.4184397163120568,-7.2992700729927,-9.401709401709402,-1.4084507042253522,0.684931506849315,-11.409395973154362,26.455026455026452,-8.061002178649238,5.56844547563805,1.6317016317016315,-1.146131805157593,1.3157894736842104,-12.135922330097088,-10.273972602739725,18.333333333333332,-2.13903743315508,-41.41414141414141,0.0,-15.845070422535212,-7.6923076923076925,2.2388059701492535,-0.8264462809917356,-11.469534050179211,12.935323383084576,3.485254691689008,-0.38167938931297707,-5.053191489361701,-3.272727272727273,-25.892857142857146,-38.405797101449274,37.96296296296296,29.069767441860467,6.804733727810651,-7.44466800804829,59.09090909090909,-5.5045871559633035,12.5,1.5789473684210527,2.272727272727273,-2.7777777777777777,-1.05318588730911,2.2058823529411766,14.285714285714285,-12.0,2.857142857142857,-12.371134020618557,-1.7857142857142856,78.37837837837837,17.80821917808219,0.2724795640326975,3.1088082901554404,-15.625,3.8461538461538463,3.74251497005988,-5.147058823529411,-37.5,153.33333333333334,8.461538461538462,10.869565217391305,-2.1538461538461537,0.5524861878453038,-8.23045267489712,9.090909090909092,0.8860759493670887,-28.08988764044944,-0.6980802792321117,-36.36363636363637,-3.5294117647058822,3.3112582781456954,0.0,-4.291845493562231,-2.7624309392265194,18.666666666666668,-2.197802197802198,-5.785123966942149,-3.125,4.220779220779221,3.7037037037037033,4.201680672268908,-4.242424242424243,-2.3605150214592276,2.4242424242424243,75.75757575757575,-5.491329479768786,-9.787234042553191,-67.33333333333333,-3.8338658146964857,-3.048780487804878,1.0416666666666665,-2.054794520547945,-4.923076923076923,-3.592814371257485,-12.727272727272727,21.153846153846153,15.789473684210526,1.1904761904761905,-16.46586345381526,39.81481481481482,-2.108433734939759,-4.291845493562231,0.0,-11.607142857142858,-20.80536912751678,1.477832512315271,4.929577464788732,15.037593984962406,-1.3157894736842104,-0.3236245954692557,-3.0534351145038165,6.7114093959731544,-4.964539007092199,0.0,4.895104895104895,-4.887983706720977,11.538461538461538,1.1173184357541899,-7.1065989847715745,-74.2081447963801,4.0,0.6944444444444444,3.5294117647058822,-0.4629629629629629,-5.47945205479452,-4.710144927536232,1.5444015444015444,-4.830917874396135,-4.3478260869565215,-5.434782608695652,2.5,13.106796116504855,-13.793103448275861,0.7905138339920948,1.8292682926829267,14.285714285714285,-4.577114427860696,1.7937219730941705,-2.2222222222222223,-3.9215686274509802,-7.196969696969697,-20.967741935483872,5.64516129032258,-6.2015503875969,-0.7109004739336493,-11.740890688259109,23.728813559322035,-15.0,-7.6923076923076925,-2.366863905325444,-3.90625,-1.948051948051948,-13.36206896551724,45.97701149425287,5.333333333333334,-46.400000000000006,2.2598870056497176,-10.276679841897234,2.5974025974025974,2.2388059701492535,-17.482517482517483,-49.03581267217631,-48.484848484848484,3.592814371257485,160.74074074074073,-28.104575163398692,7.01219512195122,1.0869565217391304,-1.1363636363636365,-7.1065989847715745,1.5761821366024518,-0.9950248756218906,4.57516339869281,-48.113207547169814,-4.261363636363636,14.237288135593221,10.071942446043165,-6.557377049180328,-6.9306930693069315,-2.941176470588235,-15.203426124197003,11.971830985915492,0.0,12.941176470588237,-6.024096385542169,-0.4464285714285714,6.0,-8.0,-1.3245033112582782,-0.390625,-15.492957746478872,-4.195804195804196,-4.129793510324483,-6.7669172932330826,-6.134969325153374,-7.5892857142857135,5.649717514124294,5.894308943089431,0.5291005291005291,-4.2622950819672125,-7.328605200945626,1.8072289156626504,-2.5,-3.4343434343434343,-11.57580283793876,-1.5706806282722512,4.901960784313726,17.209302325581397,-7.913669064748201,-8.661417322834646,28.57142857142857,-32.25806451612903,1.3574660633484164,-9.615384615384617,-29.906542056074763,17.391304347826086,-96.82539682539682,44.388609715242886,-7.603686635944701,-0.927643784786642,0.5076142131979695,-0.1434720229555237,-6.696428571428571,0.9389671361502347,-22.153846153846153,-13.218390804597702,7.479224376731302,-0.6369426751592357,10.303030303030303,0.8888888888888888,-1.4084507042253522,-4.697986577181208,0.430416068866571,-11.235955056179774,-3.9215686274509802,-8.724832214765101,2.1052631578947367,-7.317073170731707,-32.89473684210527,16.071428571428573,-1.694915254237288,183.33333333333331,17.761557177615572,-3.3333333333333335,-14.691943127962084,15.2,-11.822660098522167,10.646387832699618,8.695652173913043,-7.6923076923076925,9.684684684684685,55.932203389830505,0.0,-8.670520231213873,5.019305019305019,18.478260869565215,-0.6880733944954129,-1.4925373134328357,-8.125,-11.76470588235294,6.876790830945559,0.7518796992481203,6.83453237410072,8.235294117647058,23.52941176470588,-22.22222222222222,3.755868544600939,-6.802721088435375,-0.6802721088435374,-17.012448132780083,-12.0,-1.4084507042253522,10.828025477707007,0.0,-5.721393034825871,-25.925925925925924,-0.8032128514056224,-16.9811320754717,-11.976047904191617,171.42857142857142,1.171875,5.555555555555555,11.724137931034482,43.47826086956522,4.810996563573884,-0.9090909090909091,-7.111111111111111,3.5794183445190155,-10.526315789473683,1.1952191235059761,11.073825503355705,-26.451612903225808,105.74712643678161,-13.20754716981132,-8.275862068965518,25.423728813559322,22.22222222222222,6.132075471698113,0.0,-12.8,-14.285714285714285,13.88888888888889,-16.27906976744186,1.5957446808510638,-3.985507246376811,-24.215809284818068,-11.855670103092782,6.9164265129683,-8.98876404494382,-4.838709677419355,-3.076923076923077,-12.857142857142856,-4.697986577181208,-3.9840637450199203,-6.79886685552408,-1.5527950310559007,-13.428571428571429,-5.439330543933055,2.209944751381215,-14.049586776859504,24.946695095948826,-2.272727272727273,-2.745995423340961,-5.555555555555555,-13.703703703703704,-16.41025641025641,2.9810298102981028,3.3816425120772946,-0.5050505050505051,0.43859649122807015,3.225806451612903,-10.328638497652582],\"x0\":\" \",\"xaxis\":\"x\",\"y0\":\" \",\"yaxis\":\"y\",\"type\":\"box\"},{\"alignmentgroup\":\"True\",\"hovertemplate\":\"greenmarkrating=Platinum<br>percent=%{x}<extra></extra>\",\"legendgroup\":\"Platinum\",\"marker\":{\"color\":\"#e5e4e2\"},\"name\":\"Platinum\",\"notched\":false,\"offsetgroup\":\"Platinum\",\"orientation\":\"h\",\"showlegend\":true,\"x\":[-4.450261780104712,-13.679245283018867,-10.83743842364532,3.937007874015748,-35.88516746411483,2.9850746268656714,-0.7518796992481203,-1.4925373134328357,0.9615384615384616,-1.1811023622047243,-1.6227180527383367,-2.3529411764705883,517.6470588235294,-2.0895522388059704,0.6944444444444444,-2.2058823529411766,2.0,-5.633802816901409,0.0,25.685557586837295,-1.8181818181818181,12.280701754385964,-0.3883495145631068,-8.75912408759124,-5.172413793103448,-1.7699115044247788,1.0638297872340425,-8.955223880597014,-4.651162790697675,-1.3289036544850499,-8.45771144278607,-17.611940298507463,7.327586206896551,-0.4,-3.205128205128205,-3.9473684210526314,-6.392694063926941,1.3445378151260505,3.937007874015748,-1.9230769230769231,-2.912621359223301,1.1111111111111112,-1.276595744680851,-17.24137931034483,-0.3787878787878788,-14.925373134328357,0.0,1.89873417721519,-0.7575757575757576,-5.039787798408488,-1.8957345971563981,-2.051282051282051,82.15031315240083,11.416490486257928,2.3178807947019866,-2.9585798816568047,0.2840909090909091,-7.547169811320755,0.0,7.926829268292683,-6.474820143884892,1.1627906976744187,-4.142011834319527,-0.2695417789757413,-0.6734006734006733,15.483870967741936,-1.89873417721519,-1.9157088122605364,-3.0088495575221237,-0.7496251874062968,2.3529411764705883,0.4830917874396135,-12.389380530973451,-7.818930041152264,23.5,-7.024793388429752,-3.3653846153846154,0.7462686567164178,-2.564102564102564,-7.476635514018691,17.391304347826086,-4.761904761904762,0.5555555555555556,-5.47945205479452,-2.7027027027027026,-3.3333333333333335,67.3076923076923,27.722772277227726,1.6,13.23529411764706,-0.7042253521126761,3.0973451327433628,-2.9702970297029703,8.280254777070063,-6.7765567765567765,5.096153846153846,3.8327526132404177,100.74626865671641,2.955665024630542,-0.6024096385542169,4.602510460251046,-8.870967741935484,-2.3255813953488373,21.333333333333336,2.403846153846154,0.0,1.2658227848101267,-5.223880597014925,0.0,-1.466275659824047,2.262443438914027,0.7092198581560284,-30.434782608695656,7.6923076923076925,0.5434782608695652,-1.36986301369863,-14.563106796116504,0.0,16.535433070866144,-1.25,-98.52941176470588,6.402439024390244,-18.954248366013072,-4.295942720763723,-10.050251256281408,205.88235294117646,-1.0471204188481675,-1.0101010101010102,-4.294478527607362,-9.375,1.2269938650306749],\"x0\":\" \",\"xaxis\":\"x\",\"y0\":\" \",\"yaxis\":\"y\",\"type\":\"box\"},{\"alignmentgroup\":\"True\",\"hovertemplate\":\"greenmarkrating=Gold<br>percent=%{x}<extra></extra>\",\"legendgroup\":\"Gold\",\"marker\":{\"color\":\"Gold\"},\"name\":\"Gold\",\"notched\":false,\"offsetgroup\":\"Gold\",\"orientation\":\"h\",\"showlegend\":true,\"x\":[-8.120649651972158,-3.766478342749529,-1.2875536480686696,-2.5,-3.684210526315789,-2.6052104208416833,26.923076923076923,-3.723404255319149,2.330508474576271,-1.1520737327188941,7.602339181286549,-3.643724696356275,0.5291005291005291,-3.111111111111111,0.0,-3.0201342281879198,-2.88659793814433,9.60960960960961,-0.5,2.5510204081632653,3.3854166666666665,1.5267175572519083,4.166666666666666,-3.482587064676617,-0.5102040816326531,1.2295081967213115,0.4975124378109453,-3.4934497816593884,-5.932203389830509,-3.0927835051546393,-15.489130434782608,-5.769230769230769,-1.5384615384615385,-1.910828025477707,15.086206896551724,-6.070287539936102,-23.323615160349853,21.875,-47.05882352941176,2.380952380952381,-7.017543859649122,-9.090909090909092,1.3636363636363635,-1.744186046511628,-6.224066390041494,7.960199004975125,-1.4883720930232558,-13.445378151260504,12.804878048780488,-2.6737967914438503,4.761904761904762,6.4981949458483745,-6.976744186046512,5.485232067510549,0.5988023952095809,-5.223880597014925,2.6717557251908395,-6.392694063926941,1.2345679012345678,-3.133903133903134,1.6778523489932886,-3.1746031746031744,5.405405405405405,-1.4705882352941175,-1.3623978201634876,-2.9850746268656714,0.0,-67.14628297362111,2.8368794326241136,-2.9729729729729732],\"x0\":\" \",\"xaxis\":\"x\",\"y0\":\" \",\"yaxis\":\"y\",\"type\":\"box\"},{\"alignmentgroup\":\"True\",\"hovertemplate\":\"greenmarkrating=GoldPlus<br>percent=%{x}<extra></extra>\",\"legendgroup\":\"GoldPlus\",\"marker\":{\"color\":\"DarkGoldenRod\"},\"name\":\"GoldPlus\",\"notched\":false,\"offsetgroup\":\"GoldPlus\",\"orientation\":\"h\",\"showlegend\":true,\"x\":[-3.508771929824561,-6.987951807228916,1.5197568389057752,2.3474178403755865,-4.390243902439024,-4.651162790697675,-13.414634146341465,0.0,-4.545454545454546,1.910828025477707,7.446808510638298,-5.357142857142857,-7.894736842105263,-2.0408163265306123,-19.101123595505616,1.6853932584269662,-7.228915662650602,-1.7964071856287425,4.0650406504065035,0.0,-0.425531914893617,0.9615384615384616,-0.437636761487965,5.154639175257731,-4.0,-21.714285714285715,-11.878453038674033,6.1002178649237475,-5.423728813559322,0.40816326530612246,39.39393939393939,-3.3527696793002915,-6.862745098039216,-0.7462686567164178,5.841924398625429,-5.232558139534884,3.8860103626943006,4.838709677419355,-5.9748427672955975,-0.3472222222222222,-1.702127659574468,4.807692307692308,-7.82608695652174,-4.672897196261682,5.454545454545454,6.69710806697108,-1.3605442176870748,0.0,-4.398826979472141,-5.185185185185185,2.185792349726776,0.0,53.29512893982808],\"x0\":\" \",\"xaxis\":\"x\",\"y0\":\" \",\"yaxis\":\"y\",\"type\":\"box\"},{\"alignmentgroup\":\"True\",\"hovertemplate\":\"greenmarkrating=Certified<br>percent=%{x}<extra></extra>\",\"legendgroup\":\"Certified\",\"marker\":{\"color\":\"DarkGreen\"},\"name\":\"Certified\",\"notched\":false,\"offsetgroup\":\"Certified\",\"orientation\":\"h\",\"showlegend\":true,\"x\":[-6.122448979591836,4.954954954954955,-7.142857142857142,-6.666666666666667,13.836477987421384,1.932367149758454,-1.3636363636363635,-0.5747126436781609,11.494252873563218,17.616580310880828,-9.027777777777777,5.832147937411095,-8.116883116883116,-1.4336917562724014,15.625,26.27118644067797,-9.210526315789473,-4.285714285714286,-0.5128205128205128,3.8062283737024223,58.92857142857143,-4.964539007092199,-6.896551724137931,25.892857142857146,2.112676056338028,1.8181818181818181,13.333333333333334,7.9120879120879115,102.22222222222221,-3.937007874015748,1.9417475728155338,-5.833333333333333,-2.434077079107505,-5.721393034825871,7.766990291262135,186.36363636363635,1.3888888888888888,-4.513888888888888,0.904977375565611,-3.296703296703297,-2.0202020202020203,5.357142857142857,-11.023622047244094,102.32558139534885,1.761252446183953,6.183368869936034],\"x0\":\" \",\"xaxis\":\"x\",\"y0\":\" \",\"yaxis\":\"y\",\"type\":\"box\"},{\"alignmentgroup\":\"True\",\"hovertemplate\":\"greenmarkrating=Legislated<br>percent=%{x}<extra></extra>\",\"legendgroup\":\"Legislated\",\"marker\":{\"color\":\"Red\"},\"name\":\"Legislated\",\"notched\":false,\"offsetgroup\":\"Legislated\",\"orientation\":\"h\",\"showlegend\":true,\"x\":[0.8583690987124464],\"x0\":\" \",\"xaxis\":\"x\",\"y0\":\" \",\"yaxis\":\"y\",\"type\":\"box\"}],                        {\"template\":{\"data\":{\"bar\":[{\"error_x\":{\"color\":\"#2a3f5f\"},\"error_y\":{\"color\":\"#2a3f5f\"},\"marker\":{\"line\":{\"color\":\"#E5ECF6\",\"width\":0.5},\"pattern\":{\"fillmode\":\"overlay\",\"size\":10,\"solidity\":0.2}},\"type\":\"bar\"}],\"barpolar\":[{\"marker\":{\"line\":{\"color\":\"#E5ECF6\",\"width\":0.5},\"pattern\":{\"fillmode\":\"overlay\",\"size\":10,\"solidity\":0.2}},\"type\":\"barpolar\"}],\"carpet\":[{\"aaxis\":{\"endlinecolor\":\"#2a3f5f\",\"gridcolor\":\"white\",\"linecolor\":\"white\",\"minorgridcolor\":\"white\",\"startlinecolor\":\"#2a3f5f\"},\"baxis\":{\"endlinecolor\":\"#2a3f5f\",\"gridcolor\":\"white\",\"linecolor\":\"white\",\"minorgridcolor\":\"white\",\"startlinecolor\":\"#2a3f5f\"},\"type\":\"carpet\"}],\"choropleth\":[{\"colorbar\":{\"outlinewidth\":0,\"ticks\":\"\"},\"type\":\"choropleth\"}],\"contour\":[{\"colorbar\":{\"outlinewidth\":0,\"ticks\":\"\"},\"colorscale\":[[0.0,\"#0d0887\"],[0.1111111111111111,\"#46039f\"],[0.2222222222222222,\"#7201a8\"],[0.3333333333333333,\"#9c179e\"],[0.4444444444444444,\"#bd3786\"],[0.5555555555555556,\"#d8576b\"],[0.6666666666666666,\"#ed7953\"],[0.7777777777777778,\"#fb9f3a\"],[0.8888888888888888,\"#fdca26\"],[1.0,\"#f0f921\"]],\"type\":\"contour\"}],\"contourcarpet\":[{\"colorbar\":{\"outlinewidth\":0,\"ticks\":\"\"},\"type\":\"contourcarpet\"}],\"heatmap\":[{\"colorbar\":{\"outlinewidth\":0,\"ticks\":\"\"},\"colorscale\":[[0.0,\"#0d0887\"],[0.1111111111111111,\"#46039f\"],[0.2222222222222222,\"#7201a8\"],[0.3333333333333333,\"#9c179e\"],[0.4444444444444444,\"#bd3786\"],[0.5555555555555556,\"#d8576b\"],[0.6666666666666666,\"#ed7953\"],[0.7777777777777778,\"#fb9f3a\"],[0.8888888888888888,\"#fdca26\"],[1.0,\"#f0f921\"]],\"type\":\"heatmap\"}],\"heatmapgl\":[{\"colorbar\":{\"outlinewidth\":0,\"ticks\":\"\"},\"colorscale\":[[0.0,\"#0d0887\"],[0.1111111111111111,\"#46039f\"],[0.2222222222222222,\"#7201a8\"],[0.3333333333333333,\"#9c179e\"],[0.4444444444444444,\"#bd3786\"],[0.5555555555555556,\"#d8576b\"],[0.6666666666666666,\"#ed7953\"],[0.7777777777777778,\"#fb9f3a\"],[0.8888888888888888,\"#fdca26\"],[1.0,\"#f0f921\"]],\"type\":\"heatmapgl\"}],\"histogram\":[{\"marker\":{\"pattern\":{\"fillmode\":\"overlay\",\"size\":10,\"solidity\":0.2}},\"type\":\"histogram\"}],\"histogram2d\":[{\"colorbar\":{\"outlinewidth\":0,\"ticks\":\"\"},\"colorscale\":[[0.0,\"#0d0887\"],[0.1111111111111111,\"#46039f\"],[0.2222222222222222,\"#7201a8\"],[0.3333333333333333,\"#9c179e\"],[0.4444444444444444,\"#bd3786\"],[0.5555555555555556,\"#d8576b\"],[0.6666666666666666,\"#ed7953\"],[0.7777777777777778,\"#fb9f3a\"],[0.8888888888888888,\"#fdca26\"],[1.0,\"#f0f921\"]],\"type\":\"histogram2d\"}],\"histogram2dcontour\":[{\"colorbar\":{\"outlinewidth\":0,\"ticks\":\"\"},\"colorscale\":[[0.0,\"#0d0887\"],[0.1111111111111111,\"#46039f\"],[0.2222222222222222,\"#7201a8\"],[0.3333333333333333,\"#9c179e\"],[0.4444444444444444,\"#bd3786\"],[0.5555555555555556,\"#d8576b\"],[0.6666666666666666,\"#ed7953\"],[0.7777777777777778,\"#fb9f3a\"],[0.8888888888888888,\"#fdca26\"],[1.0,\"#f0f921\"]],\"type\":\"histogram2dcontour\"}],\"mesh3d\":[{\"colorbar\":{\"outlinewidth\":0,\"ticks\":\"\"},\"type\":\"mesh3d\"}],\"parcoords\":[{\"line\":{\"colorbar\":{\"outlinewidth\":0,\"ticks\":\"\"}},\"type\":\"parcoords\"}],\"pie\":[{\"automargin\":true,\"type\":\"pie\"}],\"scatter\":[{\"marker\":{\"colorbar\":{\"outlinewidth\":0,\"ticks\":\"\"}},\"type\":\"scatter\"}],\"scatter3d\":[{\"line\":{\"colorbar\":{\"outlinewidth\":0,\"ticks\":\"\"}},\"marker\":{\"colorbar\":{\"outlinewidth\":0,\"ticks\":\"\"}},\"type\":\"scatter3d\"}],\"scattercarpet\":[{\"marker\":{\"colorbar\":{\"outlinewidth\":0,\"ticks\":\"\"}},\"type\":\"scattercarpet\"}],\"scattergeo\":[{\"marker\":{\"colorbar\":{\"outlinewidth\":0,\"ticks\":\"\"}},\"type\":\"scattergeo\"}],\"scattergl\":[{\"marker\":{\"colorbar\":{\"outlinewidth\":0,\"ticks\":\"\"}},\"type\":\"scattergl\"}],\"scattermapbox\":[{\"marker\":{\"colorbar\":{\"outlinewidth\":0,\"ticks\":\"\"}},\"type\":\"scattermapbox\"}],\"scatterpolar\":[{\"marker\":{\"colorbar\":{\"outlinewidth\":0,\"ticks\":\"\"}},\"type\":\"scatterpolar\"}],\"scatterpolargl\":[{\"marker\":{\"colorbar\":{\"outlinewidth\":0,\"ticks\":\"\"}},\"type\":\"scatterpolargl\"}],\"scatterternary\":[{\"marker\":{\"colorbar\":{\"outlinewidth\":0,\"ticks\":\"\"}},\"type\":\"scatterternary\"}],\"surface\":[{\"colorbar\":{\"outlinewidth\":0,\"ticks\":\"\"},\"colorscale\":[[0.0,\"#0d0887\"],[0.1111111111111111,\"#46039f\"],[0.2222222222222222,\"#7201a8\"],[0.3333333333333333,\"#9c179e\"],[0.4444444444444444,\"#bd3786\"],[0.5555555555555556,\"#d8576b\"],[0.6666666666666666,\"#ed7953\"],[0.7777777777777778,\"#fb9f3a\"],[0.8888888888888888,\"#fdca26\"],[1.0,\"#f0f921\"]],\"type\":\"surface\"}],\"table\":[{\"cells\":{\"fill\":{\"color\":\"#EBF0F8\"},\"line\":{\"color\":\"white\"}},\"header\":{\"fill\":{\"color\":\"#C8D4E3\"},\"line\":{\"color\":\"white\"}},\"type\":\"table\"}]},\"layout\":{\"annotationdefaults\":{\"arrowcolor\":\"#2a3f5f\",\"arrowhead\":0,\"arrowwidth\":1},\"autotypenumbers\":\"strict\",\"coloraxis\":{\"colorbar\":{\"outlinewidth\":0,\"ticks\":\"\"}},\"colorscale\":{\"diverging\":[[0,\"#8e0152\"],[0.1,\"#c51b7d\"],[0.2,\"#de77ae\"],[0.3,\"#f1b6da\"],[0.4,\"#fde0ef\"],[0.5,\"#f7f7f7\"],[0.6,\"#e6f5d0\"],[0.7,\"#b8e186\"],[0.8,\"#7fbc41\"],[0.9,\"#4d9221\"],[1,\"#276419\"]],\"sequential\":[[0.0,\"#0d0887\"],[0.1111111111111111,\"#46039f\"],[0.2222222222222222,\"#7201a8\"],[0.3333333333333333,\"#9c179e\"],[0.4444444444444444,\"#bd3786\"],[0.5555555555555556,\"#d8576b\"],[0.6666666666666666,\"#ed7953\"],[0.7777777777777778,\"#fb9f3a\"],[0.8888888888888888,\"#fdca26\"],[1.0,\"#f0f921\"]],\"sequentialminus\":[[0.0,\"#0d0887\"],[0.1111111111111111,\"#46039f\"],[0.2222222222222222,\"#7201a8\"],[0.3333333333333333,\"#9c179e\"],[0.4444444444444444,\"#bd3786\"],[0.5555555555555556,\"#d8576b\"],[0.6666666666666666,\"#ed7953\"],[0.7777777777777778,\"#fb9f3a\"],[0.8888888888888888,\"#fdca26\"],[1.0,\"#f0f921\"]]},\"colorway\":[\"#636efa\",\"#EF553B\",\"#00cc96\",\"#ab63fa\",\"#FFA15A\",\"#19d3f3\",\"#FF6692\",\"#B6E880\",\"#FF97FF\",\"#FECB52\"],\"font\":{\"color\":\"#2a3f5f\"},\"geo\":{\"bgcolor\":\"white\",\"lakecolor\":\"white\",\"landcolor\":\"#E5ECF6\",\"showlakes\":true,\"showland\":true,\"subunitcolor\":\"white\"},\"hoverlabel\":{\"align\":\"left\"},\"hovermode\":\"closest\",\"mapbox\":{\"style\":\"light\"},\"paper_bgcolor\":\"white\",\"plot_bgcolor\":\"#E5ECF6\",\"polar\":{\"angularaxis\":{\"gridcolor\":\"white\",\"linecolor\":\"white\",\"ticks\":\"\"},\"bgcolor\":\"#E5ECF6\",\"radialaxis\":{\"gridcolor\":\"white\",\"linecolor\":\"white\",\"ticks\":\"\"}},\"scene\":{\"xaxis\":{\"backgroundcolor\":\"#E5ECF6\",\"gridcolor\":\"white\",\"gridwidth\":2,\"linecolor\":\"white\",\"showbackground\":true,\"ticks\":\"\",\"zerolinecolor\":\"white\"},\"yaxis\":{\"backgroundcolor\":\"#E5ECF6\",\"gridcolor\":\"white\",\"gridwidth\":2,\"linecolor\":\"white\",\"showbackground\":true,\"ticks\":\"\",\"zerolinecolor\":\"white\"},\"zaxis\":{\"backgroundcolor\":\"#E5ECF6\",\"gridcolor\":\"white\",\"gridwidth\":2,\"linecolor\":\"white\",\"showbackground\":true,\"ticks\":\"\",\"zerolinecolor\":\"white\"}},\"shapedefaults\":{\"line\":{\"color\":\"#2a3f5f\"}},\"ternary\":{\"aaxis\":{\"gridcolor\":\"white\",\"linecolor\":\"white\",\"ticks\":\"\"},\"baxis\":{\"gridcolor\":\"white\",\"linecolor\":\"white\",\"ticks\":\"\"},\"bgcolor\":\"#E5ECF6\",\"caxis\":{\"gridcolor\":\"white\",\"linecolor\":\"white\",\"ticks\":\"\"}},\"title\":{\"x\":0.05},\"xaxis\":{\"automargin\":true,\"gridcolor\":\"white\",\"linecolor\":\"white\",\"ticks\":\"\",\"title\":{\"standoff\":15},\"zerolinecolor\":\"white\",\"zerolinewidth\":2},\"yaxis\":{\"automargin\":true,\"gridcolor\":\"white\",\"linecolor\":\"white\",\"ticks\":\"\",\"title\":{\"standoff\":15},\"zerolinecolor\":\"white\",\"zerolinewidth\":2}}},\"xaxis\":{\"anchor\":\"y\",\"domain\":[0.0,1.0],\"title\":{\"text\":\"Difference Energy Usage (%)\"}},\"yaxis\":{\"anchor\":\"x\",\"domain\":[0.0,1.0],\"visible\":false},\"legend\":{\"title\":{\"text\":\"greenmarkrating\"},\"tracegroupgap\":0},\"title\":{\"text\":\"Percentage Diference between 2017 and 2018\"},\"boxmode\":\"group\"},                        {\"responsive\": true}                    ).then(function(){\n",
              "                            \n",
              "var gd = document.getElementById('35f7c321-8761-43dc-b7dd-57f29178aa66');\n",
              "var x = new MutationObserver(function (mutations, observer) {{\n",
              "        var display = window.getComputedStyle(gd).display;\n",
              "        if (!display || display === 'none') {{\n",
              "            console.log([gd, 'removed!']);\n",
              "            Plotly.purge(gd);\n",
              "            observer.disconnect();\n",
              "        }}\n",
              "}});\n",
              "\n",
              "// Listen for the removal of the full notebook cells\n",
              "var notebookContainer = gd.closest('#notebook-container');\n",
              "if (notebookContainer) {{\n",
              "    x.observe(notebookContainer, {childList: true});\n",
              "}}\n",
              "\n",
              "// Listen for the clearing of the current output cell\n",
              "var outputEl = gd.closest('.output');\n",
              "if (outputEl) {{\n",
              "    x.observe(outputEl, {childList: true});\n",
              "}}\n",
              "\n",
              "                        })                };                            </script>        </div>\n",
              "</body>\n",
              "</html>"
            ]
          },
          "metadata": {}
        }
      ]
    },
    {
      "cell_type": "markdown",
      "source": [
        "# Conclusion\n",
        "30.8% buildings at Singapore are green building.\n",
        "Less than half of quantity of each building type are green building.\n",
        "There is significant reduction amount of green building added from 2017 to 2018.\n",
        "In average usage from 2017.\n",
        "Not Certified building has decreased by 2.7\n",
        "Platinum building has increased by 9.4\n",
        "Gold builidng has decreased by 10.8"
      ],
      "metadata": {
        "id": "PfvW1roNz2bN"
      }
    }
  ]
}